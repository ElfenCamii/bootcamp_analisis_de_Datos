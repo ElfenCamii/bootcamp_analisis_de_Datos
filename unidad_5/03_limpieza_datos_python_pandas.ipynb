{
 "cells": [
  {
   "cell_type": "markdown",
   "id": "cb0cbe91",
   "metadata": {},
   "source": [
    "# **LIMPIEZA DE DATOS CON PYTHON Y PANDAS**"
   ]
  },
  {
   "cell_type": "markdown",
   "id": "658e47d8",
   "metadata": {},
   "source": [
    "# 1. El set de datos\n",
    "La información recolectada por la empresa de mercadeo se encuentra en un archivo CSV (dataset_banco.csv) con 45215 filas y 17 columnas.\n",
    "\n",
    "Cada registro contiene 16 características (las primeras 16 columnas) y una categoría (\"yes\" o \"no\" dependiendo de si la persona está o no interesada en adquirir el producto). Las columnas son:\n",
    "\n",
    "\"age\": edad (numérica)\n",
    "\"job\": tipo de trabajo (categórica: \"admin.\", \"unknown\", \"unemployed\", \"management\", \"housemaid\", \"entrepreneur\", \"student\", \"blue-collar\",\"self-employed\", \"retired\", \"technician\", \"services\")\n",
    "\"marital\": estado civil (categórica: \"married\", \"divorced\", \"single\")\n",
    "\"education\": nivel educativo (categórica: \"unknown\", \"secondary\", \"primary\", \"tertiary\")\n",
    "\"default\": si dejó de pagar sus obligaciones (categórica: \"yes\", \"no\")\n",
    "\"balance\": saldo promedio anual en euros (numérica)\n",
    "\"housing\": ¿tiene o no crédito hipotecario? (categórica: \"yes\", \"no\")\n",
    "\"loan\": ¿tiene créditos de consumo? (categórica: \"yes\", \"no\")\n",
    "\"contact\": medio a través del cual fue contactado (categórica: \"unknown\", \"telephone\", \"cellular\")\n",
    "\"day\": último día del mes en el que fue contactada (numérica)\n",
    "\"month\": último mes en el que fue contactada (categórica: \"jan\", \"feb\", \"mar\", ..., \"nov\", \"dec\")\n",
    "\"duration\": duración (en segundos) del último contacto (numérica)\n",
    "\"campaign\": número total de veces que fue contactada durante la campaña (numérica)\n",
    "\"pdays\": número de días transcurridos después de haber sido contactado antes de la campaña actual (numérica. -1 indica que no fue contactado previamente)\n",
    "\"previous\": número de veces que ha sido contactada antes de esta campaña (numérica)\n",
    "\"poutcome\": resultado de la campaña de marketing anterior (categórica: \"unknown\", \"other\", \"failure\", \"success\")\n",
    "\"y\": categoría ¿el cliente se suscribió a un depósito a término? (categórica: \"yes\", \"no\")"
   ]
  },
  {
   "cell_type": "markdown",
   "id": "08edb829",
   "metadata": {},
   "source": [
    "# 2. Una primera mirada al dataset"
   ]
  },
  {
   "cell_type": "code",
   "execution_count": 30,
   "id": "c4543c6f",
   "metadata": {},
   "outputs": [],
   "source": [
    "import pandas as pd\n",
    "import numpy as np\n",
    "import matplotlib.pyplot as plt\n",
    "import seaborn as sns"
   ]
  },
  {
   "cell_type": "code",
   "execution_count": 31,
   "id": "490ba947",
   "metadata": {},
   "outputs": [
    {
     "data": {
      "application/vnd.microsoft.datawrangler.viewer.v0+json": {
       "columns": [
        {
         "name": "index",
         "rawType": "int64",
         "type": "integer"
        },
        {
         "name": "age",
         "rawType": "int64",
         "type": "integer"
        },
        {
         "name": "job",
         "rawType": "object",
         "type": "unknown"
        },
        {
         "name": "marital",
         "rawType": "object",
         "type": "unknown"
        },
        {
         "name": "education",
         "rawType": "object",
         "type": "unknown"
        },
        {
         "name": "default",
         "rawType": "object",
         "type": "string"
        },
        {
         "name": "balance",
         "rawType": "float64",
         "type": "float"
        },
        {
         "name": "housing",
         "rawType": "object",
         "type": "string"
        },
        {
         "name": "loan",
         "rawType": "object",
         "type": "string"
        },
        {
         "name": "contact",
         "rawType": "object",
         "type": "string"
        },
        {
         "name": "day",
         "rawType": "int64",
         "type": "integer"
        },
        {
         "name": "month",
         "rawType": "object",
         "type": "string"
        },
        {
         "name": "duration",
         "rawType": "float64",
         "type": "float"
        },
        {
         "name": "campaign",
         "rawType": "int64",
         "type": "integer"
        },
        {
         "name": "pdays",
         "rawType": "float64",
         "type": "float"
        },
        {
         "name": "previous",
         "rawType": "int64",
         "type": "integer"
        },
        {
         "name": "poutcome",
         "rawType": "object",
         "type": "string"
        },
        {
         "name": "y",
         "rawType": "object",
         "type": "string"
        }
       ],
       "ref": "eb1d63c1-c2eb-4aaa-9b8b-58d0ae2530b4",
       "rows": [
        [
         "0",
         "58",
         "management",
         "married",
         "tertiary",
         "no",
         "2143.0",
         "yes",
         "no",
         "unknown",
         "5",
         "may",
         "261.0",
         "1",
         "-1.0",
         "0",
         "unknown",
         "no"
        ],
        [
         "1",
         "44",
         "technician",
         "single",
         "secondary",
         "no",
         "29.0",
         "yes",
         "no",
         "unknown",
         "5",
         "may",
         "151.0",
         "1",
         "-1.0",
         "0",
         "unknown",
         "no"
        ],
        [
         "2",
         "33",
         "entrepreneur",
         "married",
         "secondary",
         "no",
         "2.0",
         "yes",
         "yes",
         "unknown",
         "5",
         "may",
         "76.0",
         "1",
         "-1.0",
         "0",
         "unknown",
         "no"
        ],
        [
         "3",
         "47",
         "blue-collar",
         "married",
         "unknown",
         "no",
         "1506.0",
         "yes",
         "no",
         "unknown",
         "5",
         "may",
         "92.0",
         "1",
         "-1.0",
         "0",
         "unknown",
         "no"
        ],
        [
         "4",
         "33",
         "unknown",
         "single",
         "unknown",
         "no",
         "1.0",
         "no",
         "no",
         "unknown",
         "5",
         "may",
         "198.0",
         "1",
         "-1.0",
         "0",
         "unknown",
         "no"
        ],
        [
         "5",
         "35",
         "management",
         "married",
         "tertiary",
         "no",
         "231.0",
         "yes",
         "no",
         "unknown",
         "5",
         "may",
         "139.0",
         "1",
         "-1.0",
         "0",
         "unknown",
         "no"
        ],
        [
         "6",
         "28",
         "Management",
         "single",
         "tertiary",
         "no",
         "447.0",
         "yes",
         "yes",
         "unknown",
         "5",
         "may",
         "217.0",
         "1",
         "-1.0",
         "0",
         "unknown",
         "no"
        ],
        [
         "7",
         "42",
         "entrepreneur",
         "div.",
         "tertiary",
         "yes",
         "2.0",
         "yes",
         "no",
         "unknown",
         "5",
         "may",
         "380.0",
         "1",
         "-1.0",
         "0",
         "unknown",
         "no"
        ],
        [
         "8",
         "58",
         "retired",
         "married",
         "primary",
         "no",
         "121.0",
         "yes",
         "no",
         "unknown",
         "5",
         "may",
         "50.0",
         "1",
         "-1.0",
         "0",
         "unknown",
         "no"
        ],
        [
         "9",
         "43",
         "technician",
         "single",
         "secondary",
         "no",
         "593.0",
         "yes",
         "No",
         "unknown",
         "5",
         "may",
         "55.0",
         "1",
         "-1.0",
         "0",
         "unknown",
         "no"
        ],
        [
         "10",
         "41",
         "admin.",
         "div.",
         "secondary",
         "no",
         "270.0",
         "yes",
         "no",
         "unknown",
         "5",
         "may",
         "222.0",
         "1",
         "-1.0",
         "0",
         "unknown",
         "no"
        ],
        [
         "11",
         "29",
         "admin.",
         "single",
         "secondary",
         "no",
         "390.0",
         "yes",
         "no",
         "unknown",
         "5",
         "may",
         "137.0",
         "1",
         "-1.0",
         "0",
         "UNK",
         "no"
        ],
        [
         "12",
         "53",
         "technician",
         "married",
         "secondary",
         "no",
         "6.0",
         "yes",
         "no",
         "unknown",
         "5",
         "may",
         "-517.0",
         "1",
         "-1.0",
         "0",
         "unknown",
         "no"
        ],
        [
         "13",
         "58",
         "technician",
         "married",
         "unknown",
         "no",
         "71.0",
         "yes",
         "no",
         "unknown",
         "5",
         "may",
         "71.0",
         "1",
         "-1.0",
         "0",
         "unknown",
         "no"
        ],
        [
         "14",
         "57",
         "services",
         "married",
         "secondary",
         "no",
         "162.0",
         "yes",
         "No",
         "unknown",
         "5",
         "may",
         "174.0",
         "1",
         "-1.0",
         "0",
         "unknown",
         "no"
        ],
        [
         "15",
         "51",
         "retired",
         "married",
         "primary",
         "no",
         "229.0",
         "yes",
         "no",
         "unknown",
         "5",
         "may",
         "353.0",
         "1",
         "-1.0",
         "0",
         "unknown",
         "no"
        ],
        [
         "16",
         "45",
         "admin.",
         "single",
         "unknown",
         "no",
         "13.0",
         "yes",
         "no",
         "unknown",
         "5",
         "may",
         "98.0",
         "1",
         "-1.0",
         "0",
         "unknown",
         "no"
        ],
        [
         "17",
         "57",
         "blue-collar",
         "married",
         "primary",
         "no",
         "52.0",
         "yes",
         "no",
         "unknown",
         "5",
         "may",
         "38.0",
         "1",
         "-1.0",
         "0",
         "unknown",
         "no"
        ],
        [
         "18",
         "60",
         "retired",
         "married",
         "primary",
         "no",
         "60.0",
         "yes",
         "no",
         "unknown",
         "5",
         "may",
         "219.0",
         "1",
         "-1.0",
         "0",
         "unknown",
         "no"
        ],
        [
         "19",
         "33",
         "services",
         "married",
         "secondary",
         "no",
         "0.0",
         "yes",
         "no",
         "unknown",
         "5",
         "may",
         "54.0",
         "1",
         "-1.0",
         "0",
         "unknown",
         "no"
        ],
        [
         "20",
         "28",
         "blue-collar",
         "married",
         "secondary",
         "no",
         "723.0",
         "yes",
         "yes",
         "unknown",
         "5",
         "may",
         "262.0",
         "1",
         "-1.0",
         "0",
         "unknown",
         "no"
        ],
        [
         "21",
         "56",
         "management",
         "married",
         "tertiary",
         "no",
         "779.0",
         "yes",
         "no",
         "unknown",
         "5",
         "may",
         "164.0",
         "1",
         "-1.0",
         "0",
         "unknown",
         "no"
        ],
        [
         "22",
         "32",
         "blue-collar",
         "single",
         "primary",
         "no",
         "23.0",
         "yes",
         "yes",
         "unknown",
         "5",
         "may",
         "160.0",
         "1",
         "-1.0",
         "0",
         "unknown",
         "no"
        ],
        [
         "23",
         "25",
         "services",
         "married",
         "secondary",
         "no",
         "50.0",
         "yes",
         "no",
         "unknown",
         "5",
         "may",
         "342.0",
         "1",
         "-1.0",
         "0",
         "unknown",
         "no"
        ],
        [
         "24",
         "40",
         "retired",
         "married",
         "primary",
         "no",
         "0.0",
         "yes",
         "yes",
         "unknown",
         "5",
         "may",
         "181.0",
         "1",
         "-1.0",
         "0",
         "unknown",
         "no"
        ],
        [
         "25",
         "44",
         "admin.",
         "married",
         "secondary",
         "no",
         "-372.0",
         "yes",
         "no",
         "unknown",
         "5",
         "may",
         "172.0",
         "1",
         "-1.0",
         "0",
         "unknown",
         "no"
        ],
        [
         "26",
         "39",
         "management",
         "single",
         "tertiary",
         "no",
         "255.0",
         "yes",
         "no",
         "unknown",
         "5",
         "may",
         "296.0",
         "1",
         "-1.0",
         "0",
         "unknown",
         "no"
        ],
        [
         "27",
         "52",
         "entrepreneur",
         "married",
         "secondary",
         "no",
         "113.0",
         "yes",
         "yes",
         "unknown",
         "5",
         "may",
         "127.0",
         "1",
         "-1.0",
         "0",
         "unknown",
         "no"
        ],
        [
         "28",
         "46",
         "management",
         "single",
         "secondary",
         "no",
         "-246.0",
         "yes",
         "no",
         "unknown",
         "5",
         "may",
         "255.0",
         "2",
         "-1.0",
         "0",
         "unknown",
         "no"
        ],
        [
         "29",
         "36",
         "technician",
         "single",
         "secondary",
         "no",
         "265.0",
         "yes",
         "yes",
         "unknown",
         "5",
         "may",
         "348.0",
         "1",
         "-1.0",
         "0",
         "unknown",
         "no"
        ],
        [
         "30",
         "57",
         "technician",
         "married",
         "secondary",
         "no",
         "839.0",
         "no",
         "yes",
         "unknown",
         "5",
         "may",
         "225.0",
         "1",
         "-1.0",
         "0",
         "unknown",
         "no"
        ],
        [
         "31",
         "49",
         "management",
         "married",
         "tertiary",
         "no",
         "378.0",
         "yes",
         "no",
         "unknown",
         "5",
         "may",
         "230.0",
         "1",
         "-1.0",
         "0",
         "unknown",
         "no"
        ],
        [
         "32",
         "60",
         "admin.",
         "married",
         "secondary",
         "no",
         "39.0",
         "yes",
         "yes",
         "unknown",
         "5",
         "may",
         "208.0",
         "1",
         "-1.0",
         "0",
         "unknown",
         "no"
        ],
        [
         "33",
         "59",
         "blue-collar",
         "married",
         "secondary",
         "no",
         "0.0",
         "yes",
         "no",
         "unknown",
         "5",
         "may",
         "226.0",
         "1",
         "-1.0",
         "0",
         "unknown",
         "no"
        ],
        [
         "34",
         "51",
         "management",
         "married",
         "tertiary",
         "no",
         "10635.0",
         "yes",
         "no",
         "unknown",
         "5",
         "may",
         "336.0",
         "1",
         "-1.0",
         "0",
         "unknown",
         "no"
        ],
        [
         "35",
         "57",
         "technician",
         "divorced",
         "secondary",
         "no",
         "63.0",
         "yes",
         "no",
         "unknown",
         "5",
         "may",
         "242.0",
         "1",
         "-1.0",
         "0",
         "unknown",
         "no"
        ],
        [
         "36",
         "25",
         "blue-collar",
         "married",
         "secondary",
         "no",
         "-7.0",
         "yes",
         "no",
         "unknown",
         "5",
         "may",
         "365.0",
         "1",
         "-1.0",
         "0",
         "unknown",
         "no"
        ],
        [
         "37",
         "53",
         "technician",
         "married",
         "secondary",
         "no",
         "-3.0",
         "no",
         "no",
         "unknown",
         "5",
         "may",
         "1666.0",
         "1",
         "-1.0",
         "0",
         "unknown",
         "no"
        ],
        [
         "38",
         "36",
         "admin.",
         "divorced",
         "secondary",
         "no",
         "506.0",
         "yes",
         "no",
         "unknown",
         "5",
         "may",
         "577.0",
         "1",
         "-1.0",
         "0",
         "unknown",
         "no"
        ],
        [
         "39",
         "37",
         "admin.",
         "single",
         "secondary",
         "no",
         "0.0",
         "yes",
         "no",
         "unknown",
         "5",
         "may",
         "137.0",
         "1",
         "-1.0",
         "0",
         "unknown",
         "no"
        ],
        [
         "40",
         "44",
         "services",
         "divorced",
         "secondary",
         "no",
         "2586.0",
         "yes",
         "no",
         "unknown",
         "5",
         "may",
         "160.0",
         "1",
         "-1.0",
         "0",
         "unknown",
         "no"
        ],
        [
         "41",
         "50",
         "management",
         "married",
         "secondary",
         "no",
         "49.0",
         "yes",
         "no",
         "unknown",
         "5",
         "may",
         "180.0",
         "2",
         "-1.0",
         "0",
         "unknown",
         "no"
        ],
        [
         "42",
         "60",
         "blue-collar",
         "married",
         "unknown",
         "no",
         "104.0",
         "yes",
         "no",
         "unknown",
         "5",
         "may",
         "22.0",
         "1",
         "-1.0",
         "0",
         "unknown",
         "no"
        ],
        [
         "43",
         "54",
         "retired",
         "married",
         "secondary",
         "no",
         "529.0",
         "yes",
         "no",
         "unknown",
         "5",
         "may",
         "1492.0",
         "1",
         "-1.0",
         "0",
         "unknown",
         "no"
        ],
        [
         "44",
         "58",
         "retired",
         "married",
         "unknown",
         "no",
         "96.0",
         "yes",
         "no",
         "unknown",
         "5",
         "may",
         "616.0",
         "1",
         "-1.0",
         "0",
         "unknown",
         "no"
        ],
        [
         "45",
         "36",
         "admin.",
         "single",
         "primary",
         "no",
         "-171.0",
         "yes",
         "no",
         "unknown",
         "5",
         "may",
         "242.0",
         "1",
         "-1.0",
         "0",
         "unknown",
         "no"
        ],
        [
         "46",
         "58",
         "self-employed",
         "married",
         "tertiary",
         "no",
         "-364.0",
         "yes",
         "no",
         "unknown",
         "5",
         "may",
         "355.0",
         "1",
         "-1.0",
         "0",
         "unknown",
         "no"
        ],
        [
         "47",
         "44",
         "technician",
         "married",
         "secondary",
         "no",
         "0.0",
         "yes",
         "no",
         "unknown",
         "5",
         "may",
         "225.0",
         "2",
         "-1.0",
         "0",
         "unknown",
         "no"
        ],
        [
         "48",
         "55",
         "technician",
         "divorced",
         "secondary",
         "no",
         "0.0",
         "no",
         "no",
         "unknown",
         "5",
         "may",
         "160.0",
         "1",
         "-1.0",
         "0",
         "unknown",
         "no"
        ],
        [
         "49",
         "29",
         "Management",
         "single",
         "tertiary",
         "no",
         "0.0",
         "yes",
         "no",
         "unknown",
         "5",
         "may",
         "363.0",
         "1",
         "-1.0",
         "0",
         "unknown",
         "no"
        ]
       ],
       "shape": {
        "columns": 17,
        "rows": 45215
       }
      },
      "text/html": [
       "<div>\n",
       "<style scoped>\n",
       "    .dataframe tbody tr th:only-of-type {\n",
       "        vertical-align: middle;\n",
       "    }\n",
       "\n",
       "    .dataframe tbody tr th {\n",
       "        vertical-align: top;\n",
       "    }\n",
       "\n",
       "    .dataframe thead th {\n",
       "        text-align: right;\n",
       "    }\n",
       "</style>\n",
       "<table border=\"1\" class=\"dataframe\">\n",
       "  <thead>\n",
       "    <tr style=\"text-align: right;\">\n",
       "      <th></th>\n",
       "      <th>age</th>\n",
       "      <th>job</th>\n",
       "      <th>marital</th>\n",
       "      <th>education</th>\n",
       "      <th>default</th>\n",
       "      <th>balance</th>\n",
       "      <th>housing</th>\n",
       "      <th>loan</th>\n",
       "      <th>contact</th>\n",
       "      <th>day</th>\n",
       "      <th>month</th>\n",
       "      <th>duration</th>\n",
       "      <th>campaign</th>\n",
       "      <th>pdays</th>\n",
       "      <th>previous</th>\n",
       "      <th>poutcome</th>\n",
       "      <th>y</th>\n",
       "    </tr>\n",
       "  </thead>\n",
       "  <tbody>\n",
       "    <tr>\n",
       "      <th>0</th>\n",
       "      <td>58</td>\n",
       "      <td>management</td>\n",
       "      <td>married</td>\n",
       "      <td>tertiary</td>\n",
       "      <td>no</td>\n",
       "      <td>2143.0</td>\n",
       "      <td>yes</td>\n",
       "      <td>no</td>\n",
       "      <td>unknown</td>\n",
       "      <td>5</td>\n",
       "      <td>may</td>\n",
       "      <td>261.0</td>\n",
       "      <td>1</td>\n",
       "      <td>-1.0</td>\n",
       "      <td>0</td>\n",
       "      <td>unknown</td>\n",
       "      <td>no</td>\n",
       "    </tr>\n",
       "    <tr>\n",
       "      <th>1</th>\n",
       "      <td>44</td>\n",
       "      <td>technician</td>\n",
       "      <td>single</td>\n",
       "      <td>secondary</td>\n",
       "      <td>no</td>\n",
       "      <td>29.0</td>\n",
       "      <td>yes</td>\n",
       "      <td>no</td>\n",
       "      <td>unknown</td>\n",
       "      <td>5</td>\n",
       "      <td>may</td>\n",
       "      <td>151.0</td>\n",
       "      <td>1</td>\n",
       "      <td>-1.0</td>\n",
       "      <td>0</td>\n",
       "      <td>unknown</td>\n",
       "      <td>no</td>\n",
       "    </tr>\n",
       "    <tr>\n",
       "      <th>2</th>\n",
       "      <td>33</td>\n",
       "      <td>entrepreneur</td>\n",
       "      <td>married</td>\n",
       "      <td>secondary</td>\n",
       "      <td>no</td>\n",
       "      <td>2.0</td>\n",
       "      <td>yes</td>\n",
       "      <td>yes</td>\n",
       "      <td>unknown</td>\n",
       "      <td>5</td>\n",
       "      <td>may</td>\n",
       "      <td>76.0</td>\n",
       "      <td>1</td>\n",
       "      <td>-1.0</td>\n",
       "      <td>0</td>\n",
       "      <td>unknown</td>\n",
       "      <td>no</td>\n",
       "    </tr>\n",
       "    <tr>\n",
       "      <th>3</th>\n",
       "      <td>47</td>\n",
       "      <td>blue-collar</td>\n",
       "      <td>married</td>\n",
       "      <td>unknown</td>\n",
       "      <td>no</td>\n",
       "      <td>1506.0</td>\n",
       "      <td>yes</td>\n",
       "      <td>no</td>\n",
       "      <td>unknown</td>\n",
       "      <td>5</td>\n",
       "      <td>may</td>\n",
       "      <td>92.0</td>\n",
       "      <td>1</td>\n",
       "      <td>-1.0</td>\n",
       "      <td>0</td>\n",
       "      <td>unknown</td>\n",
       "      <td>no</td>\n",
       "    </tr>\n",
       "    <tr>\n",
       "      <th>4</th>\n",
       "      <td>33</td>\n",
       "      <td>unknown</td>\n",
       "      <td>single</td>\n",
       "      <td>unknown</td>\n",
       "      <td>no</td>\n",
       "      <td>1.0</td>\n",
       "      <td>no</td>\n",
       "      <td>no</td>\n",
       "      <td>unknown</td>\n",
       "      <td>5</td>\n",
       "      <td>may</td>\n",
       "      <td>198.0</td>\n",
       "      <td>1</td>\n",
       "      <td>-1.0</td>\n",
       "      <td>0</td>\n",
       "      <td>unknown</td>\n",
       "      <td>no</td>\n",
       "    </tr>\n",
       "    <tr>\n",
       "      <th>...</th>\n",
       "      <td>...</td>\n",
       "      <td>...</td>\n",
       "      <td>...</td>\n",
       "      <td>...</td>\n",
       "      <td>...</td>\n",
       "      <td>...</td>\n",
       "      <td>...</td>\n",
       "      <td>...</td>\n",
       "      <td>...</td>\n",
       "      <td>...</td>\n",
       "      <td>...</td>\n",
       "      <td>...</td>\n",
       "      <td>...</td>\n",
       "      <td>...</td>\n",
       "      <td>...</td>\n",
       "      <td>...</td>\n",
       "      <td>...</td>\n",
       "    </tr>\n",
       "    <tr>\n",
       "      <th>45210</th>\n",
       "      <td>51</td>\n",
       "      <td>technician</td>\n",
       "      <td>married</td>\n",
       "      <td>tertiary</td>\n",
       "      <td>no</td>\n",
       "      <td>825.0</td>\n",
       "      <td>no</td>\n",
       "      <td>no</td>\n",
       "      <td>cellular</td>\n",
       "      <td>17</td>\n",
       "      <td>nov</td>\n",
       "      <td>977.0</td>\n",
       "      <td>3</td>\n",
       "      <td>-1.0</td>\n",
       "      <td>0</td>\n",
       "      <td>unknown</td>\n",
       "      <td>yes</td>\n",
       "    </tr>\n",
       "    <tr>\n",
       "      <th>45211</th>\n",
       "      <td>71</td>\n",
       "      <td>retired</td>\n",
       "      <td>divorced</td>\n",
       "      <td>primary</td>\n",
       "      <td>no</td>\n",
       "      <td>1729.0</td>\n",
       "      <td>no</td>\n",
       "      <td>no</td>\n",
       "      <td>cellular</td>\n",
       "      <td>17</td>\n",
       "      <td>nov</td>\n",
       "      <td>456.0</td>\n",
       "      <td>2</td>\n",
       "      <td>-1.0</td>\n",
       "      <td>0</td>\n",
       "      <td>unknown</td>\n",
       "      <td>yes</td>\n",
       "    </tr>\n",
       "    <tr>\n",
       "      <th>45212</th>\n",
       "      <td>72</td>\n",
       "      <td>retired</td>\n",
       "      <td>married</td>\n",
       "      <td>secondary</td>\n",
       "      <td>no</td>\n",
       "      <td>5715.0</td>\n",
       "      <td>no</td>\n",
       "      <td>no</td>\n",
       "      <td>cellular</td>\n",
       "      <td>17</td>\n",
       "      <td>nov</td>\n",
       "      <td>1127.0</td>\n",
       "      <td>5</td>\n",
       "      <td>184.0</td>\n",
       "      <td>3</td>\n",
       "      <td>success</td>\n",
       "      <td>yes</td>\n",
       "    </tr>\n",
       "    <tr>\n",
       "      <th>45213</th>\n",
       "      <td>57</td>\n",
       "      <td>blue-collar</td>\n",
       "      <td>married</td>\n",
       "      <td>secondary</td>\n",
       "      <td>no</td>\n",
       "      <td>668.0</td>\n",
       "      <td>no</td>\n",
       "      <td>no</td>\n",
       "      <td>telephone</td>\n",
       "      <td>17</td>\n",
       "      <td>nov</td>\n",
       "      <td>508.0</td>\n",
       "      <td>4</td>\n",
       "      <td>-1.0</td>\n",
       "      <td>0</td>\n",
       "      <td>unknown</td>\n",
       "      <td>no</td>\n",
       "    </tr>\n",
       "    <tr>\n",
       "      <th>45214</th>\n",
       "      <td>37</td>\n",
       "      <td>entrepreneur</td>\n",
       "      <td>married</td>\n",
       "      <td>secondary</td>\n",
       "      <td>no</td>\n",
       "      <td>2971.0</td>\n",
       "      <td>no</td>\n",
       "      <td>no</td>\n",
       "      <td>cellular</td>\n",
       "      <td>17</td>\n",
       "      <td>nov</td>\n",
       "      <td>361.0</td>\n",
       "      <td>2</td>\n",
       "      <td>188.0</td>\n",
       "      <td>11</td>\n",
       "      <td>other</td>\n",
       "      <td>no</td>\n",
       "    </tr>\n",
       "  </tbody>\n",
       "</table>\n",
       "<p>45215 rows × 17 columns</p>\n",
       "</div>"
      ],
      "text/plain": [
       "       age           job   marital  education default  balance housing loan  \\\n",
       "0       58    management   married   tertiary      no   2143.0     yes   no   \n",
       "1       44    technician    single  secondary      no     29.0     yes   no   \n",
       "2       33  entrepreneur   married  secondary      no      2.0     yes  yes   \n",
       "3       47   blue-collar   married    unknown      no   1506.0     yes   no   \n",
       "4       33       unknown    single    unknown      no      1.0      no   no   \n",
       "...    ...           ...       ...        ...     ...      ...     ...  ...   \n",
       "45210   51    technician   married   tertiary      no    825.0      no   no   \n",
       "45211   71       retired  divorced    primary      no   1729.0      no   no   \n",
       "45212   72       retired   married  secondary      no   5715.0      no   no   \n",
       "45213   57   blue-collar   married  secondary      no    668.0      no   no   \n",
       "45214   37  entrepreneur   married  secondary      no   2971.0      no   no   \n",
       "\n",
       "         contact  day month  duration  campaign  pdays  previous poutcome    y  \n",
       "0        unknown    5   may     261.0         1   -1.0         0  unknown   no  \n",
       "1        unknown    5   may     151.0         1   -1.0         0  unknown   no  \n",
       "2        unknown    5   may      76.0         1   -1.0         0  unknown   no  \n",
       "3        unknown    5   may      92.0         1   -1.0         0  unknown   no  \n",
       "4        unknown    5   may     198.0         1   -1.0         0  unknown   no  \n",
       "...          ...  ...   ...       ...       ...    ...       ...      ...  ...  \n",
       "45210   cellular   17   nov     977.0         3   -1.0         0  unknown  yes  \n",
       "45211   cellular   17   nov     456.0         2   -1.0         0  unknown  yes  \n",
       "45212   cellular   17   nov    1127.0         5  184.0         3  success  yes  \n",
       "45213  telephone   17   nov     508.0         4   -1.0         0  unknown   no  \n",
       "45214   cellular   17   nov     361.0         2  188.0        11    other   no  \n",
       "\n",
       "[45215 rows x 17 columns]"
      ]
     },
     "execution_count": 31,
     "metadata": {},
     "output_type": "execute_result"
    }
   ],
   "source": [
    "df_bancos = pd.read_csv('../documentos/dataset_banco.csv')\n",
    "df_bancos"
   ]
  },
  {
   "cell_type": "code",
   "execution_count": 32,
   "id": "2c150b4d",
   "metadata": {},
   "outputs": [
    {
     "data": {
      "text/plain": [
       "(45215, 17)"
      ]
     },
     "execution_count": 32,
     "metadata": {},
     "output_type": "execute_result"
    }
   ],
   "source": [
    "df_bancos.shape"
   ]
  },
  {
   "cell_type": "code",
   "execution_count": 33,
   "id": "7c12648f",
   "metadata": {},
   "outputs": [
    {
     "name": "stdout",
     "output_type": "stream",
     "text": [
      "<class 'pandas.core.frame.DataFrame'>\n",
      "RangeIndex: 45215 entries, 0 to 45214\n",
      "Data columns (total 17 columns):\n",
      " #   Column     Non-Null Count  Dtype  \n",
      "---  ------     --------------  -----  \n",
      " 0   age        45215 non-null  int64  \n",
      " 1   job        45213 non-null  object \n",
      " 2   marital    45214 non-null  object \n",
      " 3   education  45214 non-null  object \n",
      " 4   default    45215 non-null  object \n",
      " 5   balance    45213 non-null  float64\n",
      " 6   housing    45215 non-null  object \n",
      " 7   loan       45215 non-null  object \n",
      " 8   contact    45215 non-null  object \n",
      " 9   day        45215 non-null  int64  \n",
      " 10  month      45215 non-null  object \n",
      " 11  duration   45214 non-null  float64\n",
      " 12  campaign   45215 non-null  int64  \n",
      " 13  pdays      45214 non-null  float64\n",
      " 14  previous   45215 non-null  int64  \n",
      " 15  poutcome   45215 non-null  object \n",
      " 16  y          45215 non-null  object \n",
      "dtypes: float64(3), int64(4), object(10)\n",
      "memory usage: 5.9+ MB\n"
     ]
    }
   ],
   "source": [
    "df_bancos.info()"
   ]
  },
  {
   "cell_type": "markdown",
   "id": "c6e02d8b",
   "metadata": {},
   "source": [
    "# 3. Limpieza\n",
    "\n",
    "Realizaremos el proceso de limpieza teniendo en cuenta las situaciones más comunes:\n",
    "\n",
    "1. Datos faltantes en algunas celdas\n",
    "2. Columnas irrelevantes (que no responden al problema que queremos resolver)\n",
    "3. Registros (filas) repetidos\n",
    "4. Valores extremos (outliers) en el caso de las variables numéricas. Se deben analizar en detalle pues no necesariamente la solución es eliminarlos\n",
    "5. Errores tipográficos en el caso de las variables categóricas\n",
    "\n",
    "Al final de este proceso de limpieza deberíamos tener un set de datos íntegro, listo para la fase de Análisis Exploratorio."
   ]
  },
  {
   "cell_type": "code",
   "execution_count": 34,
   "id": "450727dc",
   "metadata": {},
   "outputs": [
    {
     "data": {
      "application/vnd.microsoft.datawrangler.viewer.v0+json": {
       "columns": [
        {
         "name": "index",
         "rawType": "object",
         "type": "string"
        },
        {
         "name": "0",
         "rawType": "int64",
         "type": "integer"
        }
       ],
       "ref": "229cc62a-9bf9-4f74-89e4-574607c570db",
       "rows": [
        [
         "age",
         "0"
        ],
        [
         "job",
         "2"
        ],
        [
         "marital",
         "1"
        ],
        [
         "education",
         "1"
        ],
        [
         "default",
         "0"
        ],
        [
         "balance",
         "2"
        ],
        [
         "housing",
         "0"
        ],
        [
         "loan",
         "0"
        ],
        [
         "contact",
         "0"
        ],
        [
         "day",
         "0"
        ],
        [
         "month",
         "0"
        ],
        [
         "duration",
         "1"
        ],
        [
         "campaign",
         "0"
        ],
        [
         "pdays",
         "1"
        ],
        [
         "previous",
         "0"
        ],
        [
         "poutcome",
         "0"
        ],
        [
         "y",
         "0"
        ]
       ],
       "shape": {
        "columns": 1,
        "rows": 17
       }
      },
      "text/plain": [
       "age          0\n",
       "job          2\n",
       "marital      1\n",
       "education    1\n",
       "default      0\n",
       "balance      2\n",
       "housing      0\n",
       "loan         0\n",
       "contact      0\n",
       "day          0\n",
       "month        0\n",
       "duration     1\n",
       "campaign     0\n",
       "pdays        1\n",
       "previous     0\n",
       "poutcome     0\n",
       "y            0\n",
       "dtype: int64"
      ]
     },
     "execution_count": 34,
     "metadata": {},
     "output_type": "execute_result"
    }
   ],
   "source": [
    "###\n",
    "# Verificación de datos nulos\n",
    "###\n",
    "df_bancos.isnull().sum()"
   ]
  },
  {
   "cell_type": "code",
   "execution_count": 35,
   "id": "d2989ca6",
   "metadata": {},
   "outputs": [
    {
     "name": "stdout",
     "output_type": "stream",
     "text": [
      "<class 'pandas.core.frame.DataFrame'>\n",
      "Index: 45207 entries, 0 to 45214\n",
      "Data columns (total 17 columns):\n",
      " #   Column     Non-Null Count  Dtype  \n",
      "---  ------     --------------  -----  \n",
      " 0   age        45207 non-null  int64  \n",
      " 1   job        45207 non-null  object \n",
      " 2   marital    45207 non-null  object \n",
      " 3   education  45207 non-null  object \n",
      " 4   default    45207 non-null  object \n",
      " 5   balance    45207 non-null  float64\n",
      " 6   housing    45207 non-null  object \n",
      " 7   loan       45207 non-null  object \n",
      " 8   contact    45207 non-null  object \n",
      " 9   day        45207 non-null  int64  \n",
      " 10  month      45207 non-null  object \n",
      " 11  duration   45207 non-null  float64\n",
      " 12  campaign   45207 non-null  int64  \n",
      " 13  pdays      45207 non-null  float64\n",
      " 14  previous   45207 non-null  int64  \n",
      " 15  poutcome   45207 non-null  object \n",
      " 16  y          45207 non-null  object \n",
      "dtypes: float64(3), int64(4), object(10)\n",
      "memory usage: 6.2+ MB\n"
     ]
    }
   ],
   "source": [
    "###\n",
    "# Eliminación de datos nulos\n",
    "###\n",
    "df_bancos.dropna(inplace=True)\n",
    "df_bancos.info()"
   ]
  },
  {
   "cell_type": "markdown",
   "id": "3388e3af",
   "metadata": {},
   "source": [
    "# 3.2 Columnas Irrelevantes\n",
    "\n",
    "Una columna irrelevante puede ser:\n",
    "\n",
    "• *Una columna que no contiene información relevante para el problema que queremos resolver*. Por ejemplo en este caso podría ser una columna que no guarde relación con el posible perfil del cliente (deporte favorito, hobbies, comida favorita, etc.)\n",
    "• *Una columna categórica pero con un sólo nivel.* Por ejemplo si en la columna \"job\" solo tuviésemos el nivel \"unknown\".\n",
    "• *Una columna numérica pero con un sólo valor.* Por ejemplo si en la columna \"edad\" todos los vlaores fuesen iguales a 50.\n",
    "• *Columnas con información redundante.* Por ejemplo si además de las columnas \"month\" y \"day\" tuviésemos la columna \"month-day\", resultado de combinar las dos anteriores.\n",
    "\n",
    "Si tenemos la duda de si alguna columna puede ser relevante o no lo mejor es dejarla (y más adelante en posteriores etapas podremos darnos cuenta de si se debe preservar o no).\n",
    "\n",
    "En este caso todas las columnas pueden resultar relevantes, pero debemos verificar que no haya columnas categóricas con un sólo nivel, o columnas numéricas con un sólo valor:"
   ]
  },
  {
   "cell_type": "code",
   "execution_count": 36,
   "id": "0f65d591",
   "metadata": {},
   "outputs": [],
   "source": [
    "###\n",
    "# Separación de columnas categórias y numéricas\n",
    "###\n",
    "columnas = list(df_bancos.keys())\n",
    "cols_categ = [x for x in columnas if df_bancos[x].dtype == 'object']\n",
    "cols_num = [x for x in columnas if df_bancos[x].dtype != 'object']"
   ]
  },
  {
   "cell_type": "code",
   "execution_count": 37,
   "id": "867fe722",
   "metadata": {},
   "outputs": [
    {
     "name": "stdout",
     "output_type": "stream",
     "text": [
      "Columna job: 18 valores únicos\n",
      "Columna marital: 6 valores únicos\n",
      "Columna education: 10 valores únicos\n",
      "Columna default: 2 valores únicos\n",
      "Columna housing: 2 valores únicos\n",
      "Columna loan: 6 valores únicos\n",
      "Columna contact: 5 valores únicos\n",
      "Columna month: 12 valores únicos\n",
      "Columna poutcome: 6 valores únicos\n",
      "Columna y: 2 valores únicos\n"
     ]
    }
   ],
   "source": [
    "###\n",
    "# Valores únicos categóricos\n",
    "###\n",
    "for col in cols_categ:\n",
    "    print(f'Columna {col}: {df_bancos[col].nunique()} valores únicos')"
   ]
  },
  {
   "cell_type": "code",
   "execution_count": 38,
   "id": "91d15341",
   "metadata": {},
   "outputs": [
    {
     "name": "stdout",
     "output_type": "stream",
     "text": [
      "Columna age: 85 valores únicos\n",
      "Columna balance: 7168 valores únicos\n",
      "Columna day: 31 valores únicos\n",
      "Columna duration: 1573 valores únicos\n",
      "Columna campaign: 48 valores únicos\n",
      "Columna pdays: 559 valores únicos\n",
      "Columna previous: 41 valores únicos\n"
     ]
    }
   ],
   "source": [
    "###\n",
    "# Valores únicos numéricos metodo: 1\n",
    "###\n",
    "for col in cols_num:\n",
    "  print(f'Columna {col}: {df_bancos[col].nunique()} valores únicos')"
   ]
  },
  {
   "cell_type": "code",
   "execution_count": 40,
   "id": "516b5472",
   "metadata": {},
   "outputs": [
    {
     "data": {
      "application/vnd.microsoft.datawrangler.viewer.v0+json": {
       "columns": [
        {
         "name": "index",
         "rawType": "object",
         "type": "string"
        },
        {
         "name": "age",
         "rawType": "float64",
         "type": "float"
        },
        {
         "name": "balance",
         "rawType": "float64",
         "type": "float"
        },
        {
         "name": "day",
         "rawType": "float64",
         "type": "float"
        },
        {
         "name": "duration",
         "rawType": "float64",
         "type": "float"
        },
        {
         "name": "campaign",
         "rawType": "float64",
         "type": "float"
        },
        {
         "name": "pdays",
         "rawType": "float64",
         "type": "float"
        },
        {
         "name": "previous",
         "rawType": "float64",
         "type": "float"
        }
       ],
       "ref": "b28b16a1-c973-403f-9e11-84a88fce698a",
       "rows": [
        [
         "count",
         "45207.0",
         "45207.0",
         "45207.0",
         "45207.0",
         "45207.0",
         "45207.0",
         "45207.0"
        ],
        [
         "mean",
         "41.00559647842148",
         "1374.201318379897",
         "15.806534386267613",
         "258.03253920852967",
         "2.7637312805538965",
         "40.17822461123277",
         "0.5801977569845378"
        ],
        [
         "std",
         "12.037399491095579",
         "3924.491664872182",
         "8.323014677703814",
         "257.4607588830109",
         "3.0980575774451684",
         "100.10328306134589",
         "2.3033409783835315"
        ],
        [
         "min",
         "18.0",
         "-8019.0",
         "1.0",
         "-1389.0",
         "1.0",
         "-1.0",
         "0.0"
        ],
        [
         "25%",
         "33.0",
         "72.0",
         "8.0",
         "103.0",
         "1.0",
         "-1.0",
         "0.0"
        ],
        [
         "50%",
         "39.0",
         "448.0",
         "16.0",
         "180.0",
         "2.0",
         "-1.0",
         "0.0"
        ],
        [
         "75%",
         "48.0",
         "1427.5",
         "21.0",
         "319.0",
         "3.0",
         "-1.0",
         "0.0"
        ],
        [
         "max",
         "776.0",
         "527532.0",
         "31.0",
         "4918.0",
         "63.0",
         "871.0",
         "275.0"
        ]
       ],
       "shape": {
        "columns": 7,
        "rows": 8
       }
      },
      "text/html": [
       "<div>\n",
       "<style scoped>\n",
       "    .dataframe tbody tr th:only-of-type {\n",
       "        vertical-align: middle;\n",
       "    }\n",
       "\n",
       "    .dataframe tbody tr th {\n",
       "        vertical-align: top;\n",
       "    }\n",
       "\n",
       "    .dataframe thead th {\n",
       "        text-align: right;\n",
       "    }\n",
       "</style>\n",
       "<table border=\"1\" class=\"dataframe\">\n",
       "  <thead>\n",
       "    <tr style=\"text-align: right;\">\n",
       "      <th></th>\n",
       "      <th>age</th>\n",
       "      <th>balance</th>\n",
       "      <th>day</th>\n",
       "      <th>duration</th>\n",
       "      <th>campaign</th>\n",
       "      <th>pdays</th>\n",
       "      <th>previous</th>\n",
       "    </tr>\n",
       "  </thead>\n",
       "  <tbody>\n",
       "    <tr>\n",
       "      <th>count</th>\n",
       "      <td>45207.000000</td>\n",
       "      <td>45207.000000</td>\n",
       "      <td>45207.000000</td>\n",
       "      <td>45207.000000</td>\n",
       "      <td>45207.000000</td>\n",
       "      <td>45207.000000</td>\n",
       "      <td>45207.000000</td>\n",
       "    </tr>\n",
       "    <tr>\n",
       "      <th>mean</th>\n",
       "      <td>41.005596</td>\n",
       "      <td>1374.201318</td>\n",
       "      <td>15.806534</td>\n",
       "      <td>258.032539</td>\n",
       "      <td>2.763731</td>\n",
       "      <td>40.178225</td>\n",
       "      <td>0.580198</td>\n",
       "    </tr>\n",
       "    <tr>\n",
       "      <th>std</th>\n",
       "      <td>12.037399</td>\n",
       "      <td>3924.491665</td>\n",
       "      <td>8.323015</td>\n",
       "      <td>257.460759</td>\n",
       "      <td>3.098058</td>\n",
       "      <td>100.103283</td>\n",
       "      <td>2.303341</td>\n",
       "    </tr>\n",
       "    <tr>\n",
       "      <th>min</th>\n",
       "      <td>18.000000</td>\n",
       "      <td>-8019.000000</td>\n",
       "      <td>1.000000</td>\n",
       "      <td>-1389.000000</td>\n",
       "      <td>1.000000</td>\n",
       "      <td>-1.000000</td>\n",
       "      <td>0.000000</td>\n",
       "    </tr>\n",
       "    <tr>\n",
       "      <th>25%</th>\n",
       "      <td>33.000000</td>\n",
       "      <td>72.000000</td>\n",
       "      <td>8.000000</td>\n",
       "      <td>103.000000</td>\n",
       "      <td>1.000000</td>\n",
       "      <td>-1.000000</td>\n",
       "      <td>0.000000</td>\n",
       "    </tr>\n",
       "    <tr>\n",
       "      <th>50%</th>\n",
       "      <td>39.000000</td>\n",
       "      <td>448.000000</td>\n",
       "      <td>16.000000</td>\n",
       "      <td>180.000000</td>\n",
       "      <td>2.000000</td>\n",
       "      <td>-1.000000</td>\n",
       "      <td>0.000000</td>\n",
       "    </tr>\n",
       "    <tr>\n",
       "      <th>75%</th>\n",
       "      <td>48.000000</td>\n",
       "      <td>1427.500000</td>\n",
       "      <td>21.000000</td>\n",
       "      <td>319.000000</td>\n",
       "      <td>3.000000</td>\n",
       "      <td>-1.000000</td>\n",
       "      <td>0.000000</td>\n",
       "    </tr>\n",
       "    <tr>\n",
       "      <th>max</th>\n",
       "      <td>776.000000</td>\n",
       "      <td>527532.000000</td>\n",
       "      <td>31.000000</td>\n",
       "      <td>4918.000000</td>\n",
       "      <td>63.000000</td>\n",
       "      <td>871.000000</td>\n",
       "      <td>275.000000</td>\n",
       "    </tr>\n",
       "  </tbody>\n",
       "</table>\n",
       "</div>"
      ],
      "text/plain": [
       "                age        balance           day      duration      campaign  \\\n",
       "count  45207.000000   45207.000000  45207.000000  45207.000000  45207.000000   \n",
       "mean      41.005596    1374.201318     15.806534    258.032539      2.763731   \n",
       "std       12.037399    3924.491665      8.323015    257.460759      3.098058   \n",
       "min       18.000000   -8019.000000      1.000000  -1389.000000      1.000000   \n",
       "25%       33.000000      72.000000      8.000000    103.000000      1.000000   \n",
       "50%       39.000000     448.000000     16.000000    180.000000      2.000000   \n",
       "75%       48.000000    1427.500000     21.000000    319.000000      3.000000   \n",
       "max      776.000000  527532.000000     31.000000   4918.000000     63.000000   \n",
       "\n",
       "              pdays      previous  \n",
       "count  45207.000000  45207.000000  \n",
       "mean      40.178225      0.580198  \n",
       "std      100.103283      2.303341  \n",
       "min       -1.000000      0.000000  \n",
       "25%       -1.000000      0.000000  \n",
       "50%       -1.000000      0.000000  \n",
       "75%       -1.000000      0.000000  \n",
       "max      871.000000    275.000000  "
      ]
     },
     "execution_count": 40,
     "metadata": {},
     "output_type": "execute_result"
    }
   ],
   "source": [
    "###\n",
    "# Valores únicos numéricos metodo: 2 Mirando el std\n",
    "###\n",
    "df_bancos.describe()"
   ]
  },
  {
   "cell_type": "markdown",
   "id": "5ef5243c",
   "metadata": {},
   "source": [
    "# 3.3 Duplicados"
   ]
  },
  {
   "cell_type": "code",
   "execution_count": 41,
   "id": "4fd1d009",
   "metadata": {},
   "outputs": [
    {
     "name": "stdout",
     "output_type": "stream",
     "text": [
      "Tamaño antes: (45207, 17)\n",
      "Tamaño despues: (45203, 17)\n"
     ]
    }
   ],
   "source": [
    "###\n",
    "# Eliminación de duplicados\n",
    "###\n",
    "print(f'Tamaño antes: {df_bancos.shape}')\n",
    "df_bancos.drop_duplicates(inplace=True)\n",
    "print(f'Tamaño despues: {df_bancos.shape}')"
   ]
  },
  {
   "cell_type": "markdown",
   "id": "79dda44e",
   "metadata": {},
   "source": [
    "# 3.4 Outliers en atributos numéricos"
   ]
  },
  {
   "cell_type": "code",
   "execution_count": 64,
   "id": "b547abac",
   "metadata": {},
   "outputs": [
    {
     "data": {
      "image/png": "[encoded data removed]",
      "text/plain": [
       "<Figure size 1500x500 with 1 Axes>"
      ]
     },
     "metadata": {},
     "output_type": "display_data"
    },
    {
     "data": {
      "image/png": "[encoded data removed]",
      "text/plain": [
       "<Figure size 1500x500 with 1 Axes>"
      ]
     },
     "metadata": {},
     "output_type": "display_data"
    },
    {
     "data": {
      "image/png": "[encoded data removed]",
      "text/plain": [
       "<Figure size 1500x500 with 1 Axes>"
      ]
     },
     "metadata": {},
     "output_type": "display_data"
    },
    {
     "data": {
      "image/png": "[encoded data removed]",
      "text/plain": [
       "<Figure size 1500x500 with 1 Axes>"
      ]
     },
     "metadata": {},
     "output_type": "display_data"
    },
    {
     "data": {
      "image/png": "[encoded data removed]",
      "text/plain": [
       "<Figure size 1500x500 with 1 Axes>"
      ]
     },
     "metadata": {},
     "output_type": "display_data"
    },
    {
     "data": {
      "image/png": "[encoded data removed]",
      "text/plain": [
       "<Figure size 1500x500 with 1 Axes>"
      ]
     },
     "metadata": {},
     "output_type": "display_data"
    },
    {
     "data": {
      "image/png": "[encoded data removed]",
      "text/plain": [
       "<Figure size 1500x500 with 1 Axes>"
      ]
     },
     "metadata": {},
     "output_type": "display_data"
    }
   ],
   "source": [
    "###\n",
    "# \n",
    "###\n",
    "for col in cols_num:\n",
    "    plt.figure(figsize=(15,5))\n",
    "    sns.boxplot(x=col, data=df_bancos)\n",
    "    plt.title(f'Boxplot: {col.capitalize()}')\n",
    "    plt.show"
   ]
  },
  {
   "cell_type": "code",
   "execution_count": 43,
   "id": "a8475288",
   "metadata": {},
   "outputs": [
    {
     "name": "stdout",
     "output_type": "stream",
     "text": [
      "Tamaño antes: (45203, 17)\n",
      "Tamaño despues: (45096, 17)\n"
     ]
    }
   ],
   "source": [
    "###\n",
    "# Filtros edad\n",
    "###\n",
    "print(f'Tamaño antes: {df_bancos.shape}')\n",
    "df_bancos = df_bancos[df_bancos['age'] <= 80]\n",
    "print(f'Tamaño despues: {df_bancos.shape}')\n"
   ]
  },
  {
   "cell_type": "code",
   "execution_count": 44,
   "id": "33854c23",
   "metadata": {},
   "outputs": [
    {
     "name": "stdout",
     "output_type": "stream",
     "text": [
      "Tamaño antes: (45096, 17)\n",
      "Tamaño despues: (44985, 17)\n"
     ]
    }
   ],
   "source": [
    "###\n",
    "# Duration: Mayores de 0 y Maximo 1800\n",
    "###\n",
    "print(f'Tamaño antes: {df_bancos.shape}')\n",
    "df_bancos = df_bancos[(df_bancos['duration'] > 0) & (df_bancos['duration'] <= 1800)]\n",
    "print(f'Tamaño despues: {df_bancos.shape}')"
   ]
  },
  {
   "cell_type": "code",
   "execution_count": 46,
   "id": "0688c389",
   "metadata": {},
   "outputs": [
    {
     "name": "stdout",
     "output_type": "stream",
     "text": [
      "Tamaño antes: (44984, 17)\n",
      "Tamaño despues: (44984, 17)\n"
     ]
    }
   ],
   "source": [
    "###\n",
    "# Previous: Maximo 80 veces\n",
    "####\n",
    "print(f'Tamaño antes: {df_bancos.shape}')\n",
    "df_bancos = df_bancos[df_bancos['previous'] <= 80]\n",
    "print(f'Tamaño despues: {df_bancos.shape}')"
   ]
  },
  {
   "cell_type": "markdown",
   "id": "3663616a",
   "metadata": {},
   "source": [
    "# 3.5 Errores tipográficos "
   ]
  },
  {
   "cell_type": "code",
   "execution_count": 62,
   "id": "d4912cfe",
   "metadata": {},
   "outputs": [
    {
     "data": {
      "image/png": "[encoded data removed]",
      "text/plain": [
       "<Figure size 1500x500 with 1 Axes>"
      ]
     },
     "metadata": {},
     "output_type": "display_data"
    },
    {
     "data": {
      "image/png": "[encoded data removed]",
      "text/plain": [
       "<Figure size 1500x500 with 1 Axes>"
      ]
     },
     "metadata": {},
     "output_type": "display_data"
    },
    {
     "data": {
      "image/png": "[encoded data removed]",
      "text/plain": [
       "<Figure size 1500x500 with 1 Axes>"
      ]
     },
     "metadata": {},
     "output_type": "display_data"
    },
    {
     "data": {
      "image/png": "[encoded data removed]",
      "text/plain": [
       "<Figure size 1500x500 with 1 Axes>"
      ]
     },
     "metadata": {},
     "output_type": "display_data"
    },
    {
     "data": {
      "image/png": "[encoded data removed]",
      "text/plain": [
       "<Figure size 1500x500 with 1 Axes>"
      ]
     },
     "metadata": {},
     "output_type": "display_data"
    },
    {
     "data": {
      "image/png": "[encoded data removed]",
      "text/plain": [
       "<Figure size 1500x500 with 1 Axes>"
      ]
     },
     "metadata": {},
     "output_type": "display_data"
    },
    {
     "data": {
      "image/png": "[encoded data removed]",
      "text/plain": [
       "<Figure size 1500x500 with 1 Axes>"
      ]
     },
     "metadata": {},
     "output_type": "display_data"
    },
    {
     "data": {
      "image/png": "[encoded data removed]",
      "text/plain": [
       "<Figure size 1500x500 with 1 Axes>"
      ]
     },
     "metadata": {},
     "output_type": "display_data"
    },
    {
     "data": {
      "image/png": "[encoded data removed]",
      "text/plain": [
       "<Figure size 1500x500 with 1 Axes>"
      ]
     },
     "metadata": {},
     "output_type": "display_data"
    },
    {
     "data": {
      "image/png": "[encoded data removed]",
      "text/plain": [
       "<Figure size 1500x500 with 1 Axes>"
      ]
     },
     "metadata": {},
     "output_type": "display_data"
    }
   ],
   "source": [
    "for col in cols_categ:\n",
    "  plt.figure(figsize=(15, 5))\n",
    "  sns.countplot(x=col, data=df_bancos, hue=col, palette='rocket')\n",
    "  plt.title(col.upper())\n",
    "  plt.xlabel(col.capitalize())\n",
    "  plt.ylabel('Conteo')\n",
    "  plt.xticks(rotation=90)\n",
    "  plt.show()"
   ]
  },
  {
   "cell_type": "code",
   "execution_count": 48,
   "id": "89e4ab2d",
   "metadata": {},
   "outputs": [],
   "source": [
    "###\n",
    "# Un unico formato apra los textos: Capitalize\n",
    "###\n",
    "for col in cols_categ:\n",
    "    df_bancos[col] = df_bancos[col].str.capitalize()"
   ]
  },
  {
   "cell_type": "code",
   "execution_count": 58,
   "id": "a7329cf8",
   "metadata": {},
   "outputs": [
    {
     "data": {
      "text/plain": [
       "array(['Unknown', 'Cellular', 'Telephone', 'Phone'], dtype=object)"
      ]
     },
     "execution_count": 58,
     "metadata": {},
     "output_type": "execute_result"
    }
   ],
   "source": [
    "###\n",
    "# Validar únicos\n",
    "###\n",
    "df_bancos['contact'].unique()"
   ]
  },
  {
   "cell_type": "code",
   "execution_count": 50,
   "id": "f3666f07",
   "metadata": {},
   "outputs": [
    {
     "name": "stdout",
     "output_type": "stream",
     "text": [
      "Únicos antes: ['Management' 'Technician' 'Entrepreneur' 'Blue-collar' 'Unknown'\n",
      " 'Retired' 'Admin.' 'Services' 'Self-employed' 'Unemployed' 'Housemaid'\n",
      " 'Student' 'Administrative']\n",
      "Únicos antes: ['Management' 'Technician' 'Entrepreneur' 'Blue-collar' 'Unknown'\n",
      " 'Retired' 'Administrative' 'Services' 'Self-employed' 'Unemployed'\n",
      " 'Housemaid' 'Student']\n"
     ]
    }
   ],
   "source": [
    "###\n",
    "# Job: se va a cambiar Admin por Administrative \n",
    "###\n",
    "print(f'Únicos antes: {df_bancos[\"job\"].unique()}')\n",
    "df_bancos.loc[df_bancos['job'] == 'Admin.', 'job'] = 'Administrative'\n",
    "print(f'Únicos antes: {df_bancos[\"job\"].unique()}')"
   ]
  },
  {
   "cell_type": "code",
   "execution_count": 51,
   "id": "96ba2a84",
   "metadata": {},
   "outputs": [
    {
     "name": "stdout",
     "output_type": "stream",
     "text": [
      "Únicos antes: ['Married' 'Single' 'Div.' 'Divorced']\n",
      "Únicos antes: ['Married' 'Single' 'Divorced']\n"
     ]
    }
   ],
   "source": [
    "###\n",
    "# Marital: se va a cambiar Div. por Divorced\n",
    "###\n",
    "print(f'Únicos antes: {df_bancos[\"marital\"].unique()}')\n",
    "df_bancos.loc[df_bancos['marital'] == 'Div.', 'marital'] = 'Divorced'\n",
    "print(f'Únicos antes: {df_bancos[\"marital\"].unique()}')"
   ]
  },
  {
   "cell_type": "code",
   "execution_count": null,
   "id": "c7faa08a",
   "metadata": {},
   "outputs": [
    {
     "name": "stdout",
     "output_type": "stream",
     "text": [
      "Únicos antes: 6\n",
      "Únicos antes: 4\n"
     ]
    }
   ],
   "source": [
    "###\n",
    "# Education: se va a cambiar Sec. por Secundary y Unk por Unknown\n",
    "###\n",
    "print(f\"Únicos antes: {df_bancos['education'].nunique()}\")\n",
    "df_bancos.loc[df_bancos['education'] == 'Sec.', 'education'] = 'Secondary'\n",
    "df_bancos.loc[df_bancos['education'] == 'Unk', 'education'] = 'Unknown'\n",
    "print(f\"Únicos antes: {df_bancos['education'].nunique()}\")"
   ]
  },
  {
   "cell_type": "code",
   "execution_count": null,
   "id": "96e93560",
   "metadata": {},
   "outputs": [
    {
     "name": "stdout",
     "output_type": "stream",
     "text": [
      "Únicos antes: 4\n",
      "Únicos antes: 3\n"
     ]
    }
   ],
   "source": [
    "###\n",
    "# Contact: Cambiar Phone por Telephone y Mobile por Cellular\n",
    "###\n",
    "print(f\"Únicos antes: {df_bancos['contact'].nunique()}\")\n",
    "df_bancos.loc[df_bancos['contact'] == 'Phone', 'contact'] = 'Telephone'\n",
    "df_bancos.loc[df_bancos['contact'] == 'Mobile', 'contact'] = 'Cellular'\n",
    "print(f\"Únicos antes: {df_bancos['contact'].nunique()}\")"
   ]
  },
  {
   "cell_type": "code",
   "execution_count": 61,
   "id": "43421d6f",
   "metadata": {},
   "outputs": [
    {
     "name": "stdout",
     "output_type": "stream",
     "text": [
      "Únicos antes: 5\n",
      "Únicos antes: 4\n"
     ]
    }
   ],
   "source": [
    "###\n",
    "# Poutcome: Cambiar Unk por Unknown\n",
    "###\n",
    "print(f\"Únicos antes: {df_bancos['poutcome'].nunique()}\")\n",
    "df_bancos.loc[df_bancos['poutcome'] == 'Unk', 'poutcome'] = 'Unknown'\n",
    "print(f\"Únicos antes: {df_bancos['poutcome'].nunique()}\")"
   ]
  },
  {
   "cell_type": "code",
   "execution_count": 63,
   "id": "85dae5f9",
   "metadata": {},
   "outputs": [
    {
     "data": {
      "text/plain": [
       "(44984, 17)"
      ]
     },
     "execution_count": 63,
     "metadata": {},
     "output_type": "execute_result"
    }
   ],
   "source": [
    "df_bancos.shape"
   ]
  },
  {
   "cell_type": "markdown",
   "id": "e38ccccb",
   "metadata": {},
   "source": [
    "# 4. Exportar"
   ]
  },
  {
   "cell_type": "code",
   "execution_count": null,
   "id": "4e1facce",
   "metadata": {},
   "outputs": [],
   "source": [
    "df_bancos.to_csv('../documentos/dataset_banco_clean.csv', index=False, encoding='utf-8')"
   ]
  }
 ],
 "metadata": {
  "kernelspec": {
   "display_name": "Python 3",
   "language": "python",
   "name": "python3"
  },
  "language_info": {
   "codemirror_mode": {
    "name": "ipython",
    "version": 3
   },
   "file_extension": ".py",
   "mimetype": "text/x-python",
   "name": "python",
   "nbconvert_exporter": "python",
   "pygments_lexer": "ipython3",
   "version": "3.13.7"
  }
 },
 "nbformat": 4,
 "nbformat_minor": 5
}
