{
 "cells": [
  {
   "cell_type": "markdown",
   "id": "88224e5d",
   "metadata": {},
   "source": [
    "### Ejercicio\n",
    "\n",
    "Carga un archivo CSV, realiza una operación en los datos y luego expórtalo a un archivo Excel"
   ]
  },
  {
   "cell_type": "code",
   "execution_count": null,
   "id": "6c0060aa",
   "metadata": {},
   "outputs": [
    {
     "name": "stdout",
     "output_type": "stream",
     "text": [
      "   Survived male  Survived female\n",
      "0            109              233\n"
     ]
    }
   ],
   "source": [
    "import pandas as pd\n",
    "\n",
    "df_titanic = pd.read_csv('../documentos/titanic.csv')\n",
    "df_survived = df_titanic[df_titanic['Survived'] == 1]['Sex'].value_counts()\n",
    "\n",
    "df_result = pd.DataFrame({\n",
    "    'Survived male': [df_survived.get('male', 0)],\n",
    "    'Survived female': [df_survived.get('female', 0)]\n",
    "})\n",
    "\n",
    "df_survivors = df_titanic[df_titanic[\"Survived\"] == 1]\n",
    "\n",
    "female_names = df_survivors[df_survivors[\"Sex\"] == \"female\"][\"Name\"].reset_index(drop=True)\n",
    "male_names = df_survivors[df_survivors[\"Sex\"] == \"male\"][\"Name\"].reset_index(drop=True)\n",
    "\n",
    "df_names = pd.concat([female_names, male_names], axis=1)\n",
    "df_names.columns = [\"Female Survivors\", \"Male Survivors\"]"
   ]
  },
  {
   "cell_type": "code",
   "execution_count": 35,
   "id": "a5ac3a01",
   "metadata": {},
   "outputs": [],
   "source": [
    "df_result.to_excel(\"survived.xlsx\", index=False, sheet_name=\"Sobrevivientes\")\n",
    "df_names.to_excel(\"survivors_names.xlsx\", index=False, sheet_name=\"Nombres\")"
   ]
  }
 ],
 "metadata": {
  "kernelspec": {
   "display_name": "Python 3",
   "language": "python",
   "name": "python3"
  },
  "language_info": {
   "codemirror_mode": {
    "name": "ipython",
    "version": 3
   },
   "file_extension": ".py",
   "mimetype": "text/x-python",
   "name": "python",
   "nbconvert_exporter": "python",
   "pygments_lexer": "ipython3",
   "version": "3.13.7"
  }
 },
 "nbformat": 4,
 "nbformat_minor": 5
}
