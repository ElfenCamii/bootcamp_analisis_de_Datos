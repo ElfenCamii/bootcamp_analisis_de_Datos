{
 "cells": [
  {
   "cell_type": "code",
   "execution_count": 13,
   "id": "c44d8e89",
   "metadata": {},
   "outputs": [],
   "source": [
    "import pandas as pd\n",
    "import numpy as np\n",
    "\n",
    "###\n",
    "# Pandas:\n",
    "# Es una librería de Python para la manipulación y análisis de datos.\n",
    "# Facilita la limpieza, transformación, exploración y visualización de datros.\n",
    "# Sus estructuras de datos principales son los series y los DataFrames\n",
    "###\n",
    "\n",
    "###\n",
    "# Características principales:\n",
    "#   Estructuras de datos versátiles\n",
    "#   Manupulación sencilla\n",
    "#   Soporte de múltiples formatos de datos\n",
    "#   Compatible con otras librerías\n",
    "###\n"
   ]
  },
  {
   "cell_type": "markdown",
   "id": "80750510",
   "metadata": {},
   "source": [
    "Series: Qué son?"
   ]
  },
  {
   "cell_type": "code",
   "execution_count": null,
   "id": "228aee2a",
   "metadata": {},
   "outputs": [],
   "source": [
    "###\n",
    "# Personalizar el índice\n",
    "#####\n",
    "\n",
    "serie = pd.Series([10, 20, 30, 40],  index=['A', 'B', 'C', 'D'])\n",
    "print(serie)\n",
    "\n",
    "###\n",
    "# Operaciones con índices\n",
    "###\n",
    "\n",
    "print(serie['A'])\n",
    "print(serie.mean())\n",
    "\n",
    "###\n",
    "# Creación\n",
    "###\n",
    "\n",
    "list_edades = [15, 25, 28, 30, 35, 39, 45, 48, 48]\n",
    "serie_edades = pd.Series(list_edades, index=['Juan', 'Pepe', 'Luz', 'Sara', 'Felix', 'Aleja', 'Aura', 'Camilo', 'Victor'])\n",
    "print(serie_edades)\n",
    "\n",
    "###\n",
    "# Acceder\n",
    "###\n",
    "\n",
    "print(serie_edades['Pepe'])\n",
    "\n",
    "###\n",
    "# Operaciones\n",
    "###\n",
    "\n",
    "prom = serie_edades.mean()\n",
    "max = serie_edades.max()\n",
    "min = serie_edades.min()\n",
    "moda = serie_edades.mode()\n",
    "moda"
   ]
  },
  {
   "cell_type": "markdown",
   "id": "4c8a269e",
   "metadata": {},
   "source": [
    "DataFrames: Qué son?"
   ]
  },
  {
   "cell_type": "code",
   "execution_count": 27,
   "id": "4218309e",
   "metadata": {},
   "outputs": [
    {
     "name": "stdout",
     "output_type": "stream",
     "text": [
      "{'nombre': ['Ana', 'Luis', 'Carlos'], 'edad': [23, 34, 29], 'Ciudad': ['Bogotá', 'Medellín', 'Cali']}\n"
     ]
    },
    {
     "data": {
      "text/html": [
       "<div>\n",
       "<style scoped>\n",
       "    .dataframe tbody tr th:only-of-type {\n",
       "        vertical-align: middle;\n",
       "    }\n",
       "\n",
       "    .dataframe tbody tr th {\n",
       "        vertical-align: top;\n",
       "    }\n",
       "\n",
       "    .dataframe thead th {\n",
       "        text-align: right;\n",
       "    }\n",
       "</style>\n",
       "<table border=\"1\" class=\"dataframe\">\n",
       "  <thead>\n",
       "    <tr style=\"text-align: right;\">\n",
       "      <th></th>\n",
       "      <th>Nombres</th>\n",
       "      <th>Sexo</th>\n",
       "      <th>Est_Civil</th>\n",
       "      <th>Edad</th>\n",
       "    </tr>\n",
       "  </thead>\n",
       "  <tbody>\n",
       "    <tr>\n",
       "      <th>0</th>\n",
       "      <td>Nikolas</td>\n",
       "      <td>M</td>\n",
       "      <td>Casado</td>\n",
       "      <td>29</td>\n",
       "    </tr>\n",
       "    <tr>\n",
       "      <th>1</th>\n",
       "      <td>Paula</td>\n",
       "      <td>F</td>\n",
       "      <td>Soltera</td>\n",
       "      <td>22</td>\n",
       "    </tr>\n",
       "    <tr>\n",
       "      <th>2</th>\n",
       "      <td>Leydi</td>\n",
       "      <td>F</td>\n",
       "      <td>Unión Libre</td>\n",
       "      <td>30</td>\n",
       "    </tr>\n",
       "    <tr>\n",
       "      <th>3</th>\n",
       "      <td>Oscar</td>\n",
       "      <td>M</td>\n",
       "      <td>Divorciado</td>\n",
       "      <td>23</td>\n",
       "    </tr>\n",
       "    <tr>\n",
       "      <th>4</th>\n",
       "      <td>Karen</td>\n",
       "      <td>F</td>\n",
       "      <td>Viuda</td>\n",
       "      <td>19</td>\n",
       "    </tr>\n",
       "  </tbody>\n",
       "</table>\n",
       "</div>"
      ],
      "text/plain": [
       "   Nombres Sexo    Est_Civil  Edad\n",
       "0  Nikolas    M       Casado    29\n",
       "1    Paula    F      Soltera    22\n",
       "2    Leydi    F  Unión Libre    30\n",
       "3    Oscar    M   Divorciado    23\n",
       "4    Karen    F        Viuda    19"
      ]
     },
     "execution_count": 27,
     "metadata": {},
     "output_type": "execute_result"
    }
   ],
   "source": [
    "datos = {\n",
    "    'nombre': ['Ana', 'Luis', 'Carlos'],\n",
    "    'edad': [23, 34, 29],\n",
    "    'Ciudad': ['Bogotá', 'Medellín', 'Cali']\n",
    "}\n",
    "df = pd.DataFrame(datos)\n",
    "print(datos)\n",
    "\n",
    "datos_clase = {\n",
    "    'Nombres':   ['Nikolas', 'Paula', 'Leydi', 'Oscar', 'Karen'],\n",
    "    'Sexo':      ['M', 'F', 'F', 'M', 'F'],\n",
    "    'Est_Civil': ['Casado', 'Soltera', 'Unión Libre', 'Divorciado', 'Viuda'],\n",
    "    'Edad':      [29, 22, 30, 23, 19]\n",
    "}\n",
    "df_datos = pd.DataFrame(datos_clase)\n",
    "df_datos\n",
    "\n"
   ]
  }
 ],
 "metadata": {
  "kernelspec": {
   "display_name": "Python 3",
   "language": "python",
   "name": "python3"
  },
  "language_info": {
   "codemirror_mode": {
    "name": "ipython",
    "version": 3
   },
   "file_extension": ".py",
   "mimetype": "text/x-python",
   "name": "python",
   "nbconvert_exporter": "python",
   "pygments_lexer": "ipython3",
   "version": "3.13.7"
  }
 },
 "nbformat": 4,
 "nbformat_minor": 5
}
