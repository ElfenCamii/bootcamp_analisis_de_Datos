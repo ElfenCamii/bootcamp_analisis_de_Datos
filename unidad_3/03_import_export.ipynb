{
 "cells": [
  {
   "cell_type": "code",
   "execution_count": null,
   "id": "b994382b",
   "metadata": {},
   "outputs": [],
   "source": [
    "import pandas as pd\n",
    "import numpy as np\n",
    "\n",
    "# Importar un csv\n",
    "\n",
    "df_olx_bgt = pd.read_csv(\"C:/Users/PC/Documents/cursos/Bootcamp analisis datos/archivos_data/olx_bogota.csv\")\n",
    "df_olx_mdln = pd.read_csv(\"C:/Users/PC/Documents/cursos/Bootcamp analisis datos/archivos_data/olx_medellin.csv\")\n",
    "\n",
    "df_olx_mdln_pruebas =  pd.read_csv(\"C:/Users/PC/Documents/cursos/Bootcamp analisis datos/archivos_data/olx_medellin.csv\", \n",
    "                                   nrows=100, \n",
    "                                   usecols=list(range(1, 4)))       # range se usa para dar un rango de columnas a usar\n",
    "df_olx_mdln_pruebas"
   ]
  },
  {
   "cell_type": "code",
   "execution_count": null,
   "id": "cb47b5c7",
   "metadata": {},
   "outputs": [],
   "source": [
    "# Importar un Excel\n",
    "\n",
    "df_libros = pd.read_excel(\"C:/Users/PC/Documents/cursos/Bootcamp analisis datos/archivos_data/Libros.xlsx\",\n",
    "                          usecols=\"A:C\",        # usecols 'A:C' me da el rango mientras que usecols 'A, C' me da solo las seleccionadas\n",
    "                          skiprows=range(1,6),\n",
    "                          nrows=9)\n",
    "df_libros"
   ]
  }
 ],
 "metadata": {
  "kernelspec": {
   "display_name": "Python 3",
   "language": "python",
   "name": "python3"
  },
  "language_info": {
   "codemirror_mode": {
    "name": "ipython",
    "version": 3
   },
   "file_extension": ".py",
   "mimetype": "text/x-python",
   "name": "python",
   "nbconvert_exporter": "python",
   "pygments_lexer": "ipython3",
   "version": "3.13.7"
  }
 },
 "nbformat": 4,
 "nbformat_minor": 5
}
