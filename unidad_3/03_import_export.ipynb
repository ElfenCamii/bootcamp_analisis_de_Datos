{
 "cells": [
  {
   "cell_type": "code",
   "execution_count": 1,
   "id": "b994382b",
   "metadata": {},
   "outputs": [],
   "source": [
    "import pandas as pd\n",
    "import numpy as np\n",
    "\n",
    "# Importar un csv\n",
    "\n",
    "df_olx_bgt = pd.read_csv(\"C:/Users/PC/Documents/cursos/Bootcamp analisis datos/archivos_data/olx_bogota.csv\")\n",
    "df_olx_medallo = pd.read_csv(\"C:/Users/PC/Documents/cursos/Bootcamp analisis datos/archivos_data/olx_medellin.csv\")\n",
    "\n",
    "df_olx_mdln_pruebas =  pd.read_csv(\"C:/Users/PC/Documents/cursos/Bootcamp analisis datos/archivos_data/olx_medellin.csv\", \n",
    "                                   nrows=100, \n",
    "                                   usecols=list(range(1, 4)))       # range se usa para dar un rango de columnas a usar"
   ]
  },
  {
   "cell_type": "code",
   "execution_count": 9,
   "id": "cb47b5c7",
   "metadata": {},
   "outputs": [
    {
     "data": {
      "application/vnd.microsoft.datawrangler.viewer.v0+json": {
       "columns": [
        {
         "name": "index",
         "rawType": "int64",
         "type": "integer"
        },
        {
         "name": "nombre",
         "rawType": "object",
         "type": "string"
        },
        {
         "name": "precio_t",
         "rawType": "object",
         "type": "string"
        },
        {
         "name": "precio_d",
         "rawType": "object",
         "type": "string"
        }
       ],
       "ref": "5e7c1d3e-dcb5-46e5-b2d5-61190ffa4fd2",
       "rows": [
        [
         "0",
         "Teoría de Autómatas, Lenguaje y Computación",
         "$ 385.912",
         "$ 231.547"
        ],
        [
         "1",
         "El Pequeño Libro que Genera Riqueza: La Fórmula Definitiva Para Encontrar Inversiones Excelentes",
         "$ 151.969",
         "$ 91.181"
        ],
        [
         "2",
         "The art of god of war Ragnarök (en Inglés)",
         "$ 254.920",
         "$ 152.952"
        ],
        [
         "3",
         "Final Fantasy vii Remake: Material Ultimania (en Inglés)",
         "$ 222.891",
         "$ 133.734"
        ],
        [
         "4",
         "La Artesanía del Código Limpio: Disciplinas, Estándares y Ética",
         "$ 257.433",
         "$ 154.460"
        ],
        [
         "5",
         "Operar Bajo la Sombra del Dinero Inteligente",
         "$ 170.452",
         "$ 102.271"
        ],
        [
         "6",
         "Escribir Novela. Manual Para Novelistas",
         "$ 177.000",
         "$ 141.600"
        ],
        [
         "7",
         "The Elements of Statistical Learning: Data Mining, Inference, and Prediction, Second Edition (Springer Series in Statistics) (en Inglés)",
         "$ 578.886",
         "$ 347.331"
        ],
        [
         "8",
         "Guía visual del mundo Pokémon",
         "$ 75.000",
         "$ 60.000"
        ]
       ],
       "shape": {
        "columns": 3,
        "rows": 9
       }
      },
      "text/html": [
       "<div>\n",
       "<style scoped>\n",
       "    .dataframe tbody tr th:only-of-type {\n",
       "        vertical-align: middle;\n",
       "    }\n",
       "\n",
       "    .dataframe tbody tr th {\n",
       "        vertical-align: top;\n",
       "    }\n",
       "\n",
       "    .dataframe thead th {\n",
       "        text-align: right;\n",
       "    }\n",
       "</style>\n",
       "<table border=\"1\" class=\"dataframe\">\n",
       "  <thead>\n",
       "    <tr style=\"text-align: right;\">\n",
       "      <th></th>\n",
       "      <th>nombre</th>\n",
       "      <th>precio_t</th>\n",
       "      <th>precio_d</th>\n",
       "    </tr>\n",
       "  </thead>\n",
       "  <tbody>\n",
       "    <tr>\n",
       "      <th>0</th>\n",
       "      <td>Teoría de Autómatas, Lenguaje y Computación</td>\n",
       "      <td>$ 385.912</td>\n",
       "      <td>$ 231.547</td>\n",
       "    </tr>\n",
       "    <tr>\n",
       "      <th>1</th>\n",
       "      <td>El Pequeño Libro que Genera Riqueza: La Fórmul...</td>\n",
       "      <td>$ 151.969</td>\n",
       "      <td>$ 91.181</td>\n",
       "    </tr>\n",
       "    <tr>\n",
       "      <th>2</th>\n",
       "      <td>The art of god of war Ragnarök (en Inglés)</td>\n",
       "      <td>$ 254.920</td>\n",
       "      <td>$ 152.952</td>\n",
       "    </tr>\n",
       "    <tr>\n",
       "      <th>3</th>\n",
       "      <td>Final Fantasy vii Remake: Material Ultimania (...</td>\n",
       "      <td>$ 222.891</td>\n",
       "      <td>$ 133.734</td>\n",
       "    </tr>\n",
       "    <tr>\n",
       "      <th>4</th>\n",
       "      <td>La Artesanía del Código Limpio: Disciplinas, E...</td>\n",
       "      <td>$ 257.433</td>\n",
       "      <td>$ 154.460</td>\n",
       "    </tr>\n",
       "    <tr>\n",
       "      <th>5</th>\n",
       "      <td>Operar Bajo la Sombra del Dinero Inteligente</td>\n",
       "      <td>$ 170.452</td>\n",
       "      <td>$ 102.271</td>\n",
       "    </tr>\n",
       "    <tr>\n",
       "      <th>6</th>\n",
       "      <td>Escribir Novela. Manual Para Novelistas</td>\n",
       "      <td>$ 177.000</td>\n",
       "      <td>$ 141.600</td>\n",
       "    </tr>\n",
       "    <tr>\n",
       "      <th>7</th>\n",
       "      <td>The Elements of Statistical Learning: Data Min...</td>\n",
       "      <td>$ 578.886</td>\n",
       "      <td>$ 347.331</td>\n",
       "    </tr>\n",
       "    <tr>\n",
       "      <th>8</th>\n",
       "      <td>Guía visual del mundo Pokémon</td>\n",
       "      <td>$ 75.000</td>\n",
       "      <td>$ 60.000</td>\n",
       "    </tr>\n",
       "  </tbody>\n",
       "</table>\n",
       "</div>"
      ],
      "text/plain": [
       "                                              nombre   precio_t   precio_d\n",
       "0        Teoría de Autómatas, Lenguaje y Computación  $ 385.912  $ 231.547\n",
       "1  El Pequeño Libro que Genera Riqueza: La Fórmul...  $ 151.969   $ 91.181\n",
       "2         The art of god of war Ragnarök (en Inglés)  $ 254.920  $ 152.952\n",
       "3  Final Fantasy vii Remake: Material Ultimania (...  $ 222.891  $ 133.734\n",
       "4  La Artesanía del Código Limpio: Disciplinas, E...  $ 257.433  $ 154.460\n",
       "5       Operar Bajo la Sombra del Dinero Inteligente  $ 170.452  $ 102.271\n",
       "6            Escribir Novela. Manual Para Novelistas  $ 177.000  $ 141.600\n",
       "7  The Elements of Statistical Learning: Data Min...  $ 578.886  $ 347.331\n",
       "8                      Guía visual del mundo Pokémon   $ 75.000   $ 60.000"
      ]
     },
     "execution_count": 9,
     "metadata": {},
     "output_type": "execute_result"
    }
   ],
   "source": [
    "# Importar un Excel\n",
    "df_libros = pd.read_excel(\"C:/Users/PC/Documents/cursos/Bootcamp analisis datos/archivos_data/Libros.xlsx\",\n",
    "                          usecols=\"A:C\",        # usecols 'A:C' me da el rango mientras que usecols 'A, C' me da solo las seleccionadas\n",
    "                          skiprows=range(1,6),\n",
    "                          nrows=9)\n",
    "df_libros"
   ]
  },
  {
   "cell_type": "markdown",
   "id": "14ffb591",
   "metadata": {},
   "source": [
    "### Exportación"
   ]
  },
  {
   "cell_type": "code",
   "execution_count": 4,
   "id": "83235116",
   "metadata": {},
   "outputs": [],
   "source": [
    "###\n",
    "# CSV\n",
    "###\n",
    "\n",
    "df_kia = df_olx_medallo[(df_olx_medallo['marca'] == 'Kia') &\n",
    "               ((df_olx_medallo['modelo'] >= 1995) &\n",
    "                (df_olx_medallo['modelo'] <= 2015))].sort_values(['precio'], ascending=True).head(10)\n",
    "\n",
    "df_kia.to_csv('autos_kia_1995-2015.csv', index=False, encoding='utf-8')"
   ]
  },
  {
   "cell_type": "code",
   "execution_count": 5,
   "id": "5e293b72",
   "metadata": {},
   "outputs": [],
   "source": [
    "###\n",
    "# Excel\n",
    "###\n",
    "\n",
    "df_to_excel = df_olx_medallo[(df_olx_medallo['marca'] == 'Kia') &\n",
    "               ((df_olx_medallo['modelo'] >= 1995) &\n",
    "                (df_olx_medallo['modelo'] <= 2015))].sort_values(['precio'], ascending=True).head(10)\n",
    "\n",
    "df_to_excel.to_excel('autos_kia_1995-2015.xlsx', index=False, engine='openpyxl',sheet_name=\"Autos\")"
   ]
  }
 ],
 "metadata": {
  "kernelspec": {
   "display_name": "Python 3",
   "language": "python",
   "name": "python3"
  },
  "language_info": {
   "codemirror_mode": {
    "name": "ipython",
    "version": 3
   },
   "file_extension": ".py",
   "mimetype": "text/x-python",
   "name": "python",
   "nbconvert_exporter": "python",
   "pygments_lexer": "ipython3",
   "version": "3.13.7"
  }
 },
 "nbformat": 4,
 "nbformat_minor": 5
}
