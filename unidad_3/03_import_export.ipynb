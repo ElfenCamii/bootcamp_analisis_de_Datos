{
 "cells": [
  {
   "cell_type": "code",
   "execution_count": 4,
   "id": "b994382b",
   "metadata": {},
   "outputs": [
    {
     "data": {
      "application/vnd.microsoft.datawrangler.viewer.v0+json": {
       "columns": [
        {
         "name": "index",
         "rawType": "int64",
         "type": "integer"
        },
        {
         "name": "linea",
         "rawType": "object",
         "type": "string"
        },
        {
         "name": "modelo",
         "rawType": "int64",
         "type": "integer"
        },
        {
         "name": "condición",
         "rawType": "object",
         "type": "string"
        }
       ],
       "ref": "2d1ccd6c-42b5-4913-b930-5ac9af550a97",
       "rows": [
        [
         "0",
         "Sail",
         "2016",
         "Usado"
        ],
        [
         "1",
         "Logan",
         "2010",
         "Usado"
        ],
        [
         "2",
         "Sonic",
         "2016",
         "Usado"
        ],
        [
         "3",
         "LC200",
         "2008",
         "Usado"
        ],
        [
         "4",
         "Land Cruiser",
         "1997",
         "Usado"
        ],
        [
         "5",
         "Twingo",
         "2006",
         "Usado"
        ],
        [
         "6",
         "2",
         "2009",
         "Usado"
        ],
        [
         "7",
         "Captiva",
         "2011",
         "Usado"
        ],
        [
         "8",
         "Twingo",
         "2002",
         "Usado"
        ],
        [
         "9",
         "CR-V",
         "2015",
         "Usado"
        ],
        [
         "10",
         "QQ",
         "2005",
         "Usado"
        ],
        [
         "11",
         "Voyage",
         "2018",
         "Usado"
        ],
        [
         "12",
         "BT-50",
         "2012",
         "Usado"
        ],
        [
         "13",
         "Punto",
         "2011",
         "Usado"
        ],
        [
         "14",
         "Mazda 3",
         "2008",
         "Usado"
        ],
        [
         "15",
         "R18",
         "1985",
         "Usado"
        ],
        [
         "16",
         "Tracker",
         "2015",
         "Usado"
        ],
        [
         "17",
         "R9",
         "1989",
         "Usado"
        ],
        [
         "18",
         "Grand Vitara",
         "2009",
         "Usado"
        ],
        [
         "19",
         "Spark GT",
         "2016",
         "Usado"
        ],
        [
         "20",
         "Luv",
         "1990",
         "Usado"
        ],
        [
         "21",
         "Clio",
         "2004",
         "Usado"
        ],
        [
         "22",
         "C-10",
         "1981",
         "Usado"
        ],
        [
         "23",
         "Qashqai",
         "2015",
         "Usado"
        ],
        [
         "24",
         "Grand Vitara",
         "2006",
         "Usado"
        ],
        [
         "25",
         "Clio",
         "2007",
         "Usado"
        ],
        [
         "26",
         "Nomada",
         "2011",
         "Usado"
        ],
        [
         "27",
         "Aveo Emotion",
         "2012",
         "Usado"
        ],
        [
         "28",
         "Chevette",
         "1992",
         "Usado"
        ],
        [
         "29",
         "Luv",
         "1995",
         "Usado"
        ],
        [
         "30",
         "Jimny",
         "2015",
         "Usado"
        ],
        [
         "31",
         "Spark",
         "2016",
         "Usado"
        ],
        [
         "32",
         "Sandero",
         "2012",
         "Usado"
        ],
        [
         "33",
         "Rio",
         "2012",
         "Usado"
        ],
        [
         "34",
         "Sandero Stepway",
         "2019",
         "Usado"
        ],
        [
         "35",
         "Nativa",
         "2014",
         "Usado"
        ],
        [
         "36",
         "Aveo",
         "2011",
         "Usado"
        ],
        [
         "37",
         "Logan",
         "2008",
         "Usado"
        ],
        [
         "38",
         "Tucson ix-35",
         "2013",
         "Usado"
        ],
        [
         "39",
         "Spark",
         "2009",
         "Usado"
        ],
        [
         "40",
         "Trooper",
         "1995",
         "Usado"
        ],
        [
         "41",
         "Hilux",
         "1999",
         "Usado"
        ],
        [
         "42",
         "Luv D-Max",
         "2011",
         "Usado"
        ],
        [
         "43",
         "Escape",
         "2008",
         "Usado"
        ],
        [
         "44",
         "Sandero Stepway",
         "2016",
         "Usado"
        ],
        [
         "45",
         "Sandero",
         "2013",
         "Usado"
        ],
        [
         "46",
         "Swift",
         "2019",
         "Usado"
        ],
        [
         "47",
         "C30",
         "2012",
         "Usado"
        ],
        [
         "48",
         "March",
         "2015",
         "Usado"
        ],
        [
         "49",
         "Spark GT",
         "2017",
         "Usado"
        ]
       ],
       "shape": {
        "columns": 3,
        "rows": 100
       }
      },
      "text/html": [
       "<div>\n",
       "<style scoped>\n",
       "    .dataframe tbody tr th:only-of-type {\n",
       "        vertical-align: middle;\n",
       "    }\n",
       "\n",
       "    .dataframe tbody tr th {\n",
       "        vertical-align: top;\n",
       "    }\n",
       "\n",
       "    .dataframe thead th {\n",
       "        text-align: right;\n",
       "    }\n",
       "</style>\n",
       "<table border=\"1\" class=\"dataframe\">\n",
       "  <thead>\n",
       "    <tr style=\"text-align: right;\">\n",
       "      <th></th>\n",
       "      <th>linea</th>\n",
       "      <th>modelo</th>\n",
       "      <th>condición</th>\n",
       "    </tr>\n",
       "  </thead>\n",
       "  <tbody>\n",
       "    <tr>\n",
       "      <th>0</th>\n",
       "      <td>Sail</td>\n",
       "      <td>2016</td>\n",
       "      <td>Usado</td>\n",
       "    </tr>\n",
       "    <tr>\n",
       "      <th>1</th>\n",
       "      <td>Logan</td>\n",
       "      <td>2010</td>\n",
       "      <td>Usado</td>\n",
       "    </tr>\n",
       "    <tr>\n",
       "      <th>2</th>\n",
       "      <td>Sonic</td>\n",
       "      <td>2016</td>\n",
       "      <td>Usado</td>\n",
       "    </tr>\n",
       "    <tr>\n",
       "      <th>3</th>\n",
       "      <td>LC200</td>\n",
       "      <td>2008</td>\n",
       "      <td>Usado</td>\n",
       "    </tr>\n",
       "    <tr>\n",
       "      <th>4</th>\n",
       "      <td>Land Cruiser</td>\n",
       "      <td>1997</td>\n",
       "      <td>Usado</td>\n",
       "    </tr>\n",
       "    <tr>\n",
       "      <th>...</th>\n",
       "      <td>...</td>\n",
       "      <td>...</td>\n",
       "      <td>...</td>\n",
       "    </tr>\n",
       "    <tr>\n",
       "      <th>95</th>\n",
       "      <td>2</td>\n",
       "      <td>2011</td>\n",
       "      <td>Usado</td>\n",
       "    </tr>\n",
       "    <tr>\n",
       "      <th>96</th>\n",
       "      <td>Sandero</td>\n",
       "      <td>2012</td>\n",
       "      <td>Usado</td>\n",
       "    </tr>\n",
       "    <tr>\n",
       "      <th>97</th>\n",
       "      <td>CR-V</td>\n",
       "      <td>2003</td>\n",
       "      <td>Usado</td>\n",
       "    </tr>\n",
       "    <tr>\n",
       "      <th>98</th>\n",
       "      <td>323</td>\n",
       "      <td>1995</td>\n",
       "      <td>Usado</td>\n",
       "    </tr>\n",
       "    <tr>\n",
       "      <th>99</th>\n",
       "      <td>Clio</td>\n",
       "      <td>2004</td>\n",
       "      <td>Usado</td>\n",
       "    </tr>\n",
       "  </tbody>\n",
       "</table>\n",
       "<p>100 rows × 3 columns</p>\n",
       "</div>"
      ],
      "text/plain": [
       "           linea  modelo condición\n",
       "0           Sail    2016     Usado\n",
       "1          Logan    2010     Usado\n",
       "2          Sonic    2016     Usado\n",
       "3          LC200    2008     Usado\n",
       "4   Land Cruiser    1997     Usado\n",
       "..           ...     ...       ...\n",
       "95             2    2011     Usado\n",
       "96       Sandero    2012     Usado\n",
       "97          CR-V    2003     Usado\n",
       "98           323    1995     Usado\n",
       "99          Clio    2004     Usado\n",
       "\n",
       "[100 rows x 3 columns]"
      ]
     },
     "execution_count": 4,
     "metadata": {},
     "output_type": "execute_result"
    }
   ],
   "source": [
    "import pandas as pd\n",
    "import numpy as np\n",
    "\n",
    "# Importar un csv\n",
    "\n",
    "df_olx_bgt = pd.read_csv(\"C:/Users/PC/Documents/cursos/Bootcamp analisis datos/archivos_data/olx_bogota.csv\")\n",
    "df_olx_medallo = pd.read_csv(\"C:/Users/PC/Documents/cursos/Bootcamp analisis datos/archivos_data/olx_medellin.csv\")\n",
    "\n",
    "df_olx_mdln_pruebas =  pd.read_csv(\"C:/Users/PC/Documents/cursos/Bootcamp analisis datos/archivos_data/olx_medellin.csv\", \n",
    "                                   nrows=100, \n",
    "                                   usecols=list(range(1, 4)))       # range se usa para dar un rango de columnas a usar\n",
    "df_olx_mdln_pruebas"
   ]
  },
  {
   "cell_type": "code",
   "execution_count": null,
   "id": "cb47b5c7",
   "metadata": {},
   "outputs": [],
   "source": [
    "# Importar un Excel\n",
    "\n",
    "df_libros = pd.read_excel(\"C:/Users/PC/Documents/cursos/Bootcamp analisis datos/archivos_data/Libros.xlsx\",\n",
    "                          usecols=\"A:C\",        # usecols 'A:C' me da el rango mientras que usecols 'A, C' me da solo las seleccionadas\n",
    "                          skiprows=range(1,6),\n",
    "                          nrows=9)\n",
    "df_libros"
   ]
  },
  {
   "cell_type": "markdown",
   "id": "14ffb591",
   "metadata": {},
   "source": [
    "### Exportación"
   ]
  },
  {
   "cell_type": "code",
   "execution_count": 8,
   "id": "83235116",
   "metadata": {},
   "outputs": [],
   "source": [
    "###\n",
    "# CSV\n",
    "###\n",
    "\n",
    "df_kia = df_olx_medallo[(df_olx_medallo['marca'] == 'Kia') &\n",
    "               ((df_olx_medallo['modelo'] >= 1995) &\n",
    "                (df_olx_medallo['modelo'] <= 2015))].sort_values(['precio'], ascending=True).head(10)\n",
    "\n",
    "df_kia.to_csv('autos_kia_1995-2015.csv', index=False, encoding='utf-8')"
   ]
  },
  {
   "cell_type": "code",
   "execution_count": 11,
   "id": "5e293b72",
   "metadata": {},
   "outputs": [],
   "source": [
    "###\n",
    "# Excel\n",
    "###\n",
    "\n",
    "df_to_excel = df_olx_medallo[(df_olx_medallo['marca'] == 'Kia') &\n",
    "               ((df_olx_medallo['modelo'] >= 1995) &\n",
    "                (df_olx_medallo['modelo'] <= 2015))].sort_values(['precio'], ascending=True).head(10)\n",
    "\n",
    "df_to_excel.to_excel('autos_kia_1995-2015.xlsx', index=False, engine='openpyxl',sheet_name=\"Autos\")"
   ]
  }
 ],
 "metadata": {
  "kernelspec": {
   "display_name": "Python 3",
   "language": "python",
   "name": "python3"
  },
  "language_info": {
   "codemirror_mode": {
    "name": "ipython",
    "version": 3
   },
   "file_extension": ".py",
   "mimetype": "text/x-python",
   "name": "python",
   "nbconvert_exporter": "python",
   "pygments_lexer": "ipython3",
   "version": "3.13.7"
  }
 },
 "nbformat": 4,
 "nbformat_minor": 5
}
