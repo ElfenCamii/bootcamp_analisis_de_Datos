{
 "cells": [
  {
   "cell_type": "code",
   "execution_count": 1,
   "id": "05712483",
   "metadata": {},
   "outputs": [],
   "source": [
    "import pandas as pd\n",
    "import numpy as np"
   ]
  },
  {
   "cell_type": "markdown",
   "id": "42007ec0",
   "metadata": {},
   "source": []
  },
  {
   "cell_type": "code",
   "execution_count": 17,
   "id": "8c084ce4",
   "metadata": {},
   "outputs": [
    {
     "data": {
      "text/plain": [
       "(403, 12)"
      ]
     },
     "execution_count": 17,
     "metadata": {},
     "output_type": "execute_result"
    }
   ],
   "source": [
    "df_olx_medallo = pd.read_csv(\"C:/Users/PC/Documents/cursos/Bootcamp analisis datos/archivos_data/olx_medellin.csv\")\n",
    "\n",
    "# Filtrado de un atributo\n",
    "# Ejemplo 1:\n",
    "# Seleccionar todos los autos de marca Toyota\n",
    "\n",
    "df_toyota = df_olx_medallo[df_olx_medallo['marca'] == 'Toyota']\n",
    "df_toyota.head()\n",
    "\n",
    "# Ejercicio 1:\n",
    "# Seleccionar los autos de 4 puertas \n",
    "\n",
    "df_n_puertas = df_olx_medallo[df_olx_medallo['puertas'] == 4]\n",
    "df_n_puertas.shape\n",
    "\n"
   ]
  }
 ],
 "metadata": {
  "kernelspec": {
   "display_name": "Python 3",
   "language": "python",
   "name": "python3"
  },
  "language_info": {
   "codemirror_mode": {
    "name": "ipython",
    "version": 3
   },
   "file_extension": ".py",
   "mimetype": "text/x-python",
   "name": "python",
   "nbconvert_exporter": "python",
   "pygments_lexer": "ipython3",
   "version": "3.13.7"
  }
 },
 "nbformat": 4,
 "nbformat_minor": 5
}
