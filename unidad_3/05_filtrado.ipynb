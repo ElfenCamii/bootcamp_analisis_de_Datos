{
 "cells": [
  {
   "cell_type": "code",
   "execution_count": 1,
   "id": "05712483",
   "metadata": {},
   "outputs": [],
   "source": [
    "import pandas as pd\n",
    "import numpy as np"
   ]
  },
  {
   "cell_type": "markdown",
   "id": "42007ec0",
   "metadata": {},
   "source": []
  },
  {
   "cell_type": "code",
   "execution_count": 35,
   "id": "8c084ce4",
   "metadata": {},
   "outputs": [
    {
     "data": {
      "text/plain": [
       "np.int64(42000000)"
      ]
     },
     "execution_count": 35,
     "metadata": {},
     "output_type": "execute_result"
    }
   ],
   "source": [
    "df_olx_medallo = pd.read_csv(\"C:/Users/PC/Documents/cursos/Bootcamp analisis datos/archivos_data/olx_medellin.csv\")\n",
    "\n",
    "###\n",
    "# Filtrado de un atributo\n",
    "# Ejemplo 1:\n",
    "# Seleccionar todos los autos de marca Toyota\n",
    "###\n",
    "\n",
    "df_toyota = df_olx_medallo[df_olx_medallo['marca'] == 'Toyota']\n",
    "df_toyota.head()\n",
    "\n",
    "###\n",
    "# Ejercicio 1:\n",
    "# Seleccionar los autos de 4 puertas \n",
    "###\n",
    "\n",
    "df_n_puertas = df_olx_medallo[df_olx_medallo['puertas'] == 4]\n",
    "df_n_puertas.shape\n",
    "\n",
    "###\n",
    "# Ejemplo 2:\n",
    "###\n",
    "\n",
    "# Seleccionar todos los autos con precios mayores o iguales a 60 millones\n",
    "df_precios_bajos = df_olx_medallo[df_olx_medallo['precio'] >= 60000000]\n",
    "df_precios_bajos\n",
    "\n",
    "# Seleccionar todos los autos con precios mayores o iguales a 60 millones y cual es el combustible que más preodomina\n",
    "df_precios_bajos['combustible'].mode()\n",
    "\n",
    "# Respuesta directamente con el filtrado en una sola linea\n",
    "df_olx_medallo[df_olx_medallo['precio'] >= 60000000]['combustible'].mode()\n",
    "\n",
    "###\n",
    "# Ejercicio 2:\n",
    "# Conocer el precio mínimo de los autos color blanco\n",
    "###\n",
    "\n",
    "df_olx_medallo[df_olx_medallo['color'] == 'Blanco']['precio'].min()\n",
    "\n",
    "###\n",
    "###\n",
    "\n",
    "# Más de un atributo\n",
    "# Seleccionar autos de marca Chevrolet con trasmisión Automática\n",
    "df_chev = df_olx_medallo[(df_olx_medallo['marca'] == 'Chevrolet') & (df_olx_medallo['transmisión'] == 'Automática')]\n",
    "df_chev\n",
    "\n",
    "###\n",
    "# Ejercicio 3:\n",
    "# Seleccione autos de color Rojo y Azul\n",
    "###\n",
    "\n",
    "### Condicionales en panta and == &; or == |; not == ~ ###\n",
    "\n",
    "df_color = df_olx_medallo[(df_olx_medallo['color'] == 'Rojo') | (df_olx_medallo['color'] == 'Azul')].reset_index()  # .reset_index() reinicia el indice creando una nueva columna con el indice anterior\n",
    "                                                                                                                    # .reser_index(drop=True) Resetea el indice elimina el indice anterior\n",
    "df_color.sample(10)\n",
    "\n",
    "###\n",
    "# Ejercicio 4:\n",
    "# Seleccione autos de modelos entre 2010 y 2020 incluidos\n",
    "###\n",
    "\n",
    "df_modelos = df_olx_medallo[(df_olx_medallo['modelo'] >= 2010) & (df_olx_medallo['modelo'] <= 2020)]\n",
    "df_modelos = df_modelos.sort_values(by=\"modelo\", ascending=True)            # Para ordenar la salida de manera desendente o ascendente\n",
    "df_modelos\n",
    "\n",
    "###\n",
    "# Ejercicio 5:\n",
    "# Cual es la linea que mas se repite de autos de marca chevrolet entre 10mil y 80mil kms incluidos\n",
    "###\n",
    "\n",
    "df_linea = df_olx_medallo[(df_olx_medallo['marca'] == 'Chevrolet') & \n",
    "                          (df_olx_medallo['kilometraje'] >= 10000)& \n",
    "                          (df_olx_medallo['kilometraje'] <= 80000)]\n",
    "df_linea['linea'].mode()\n",
    "df_linea['linea'].value_counts()        # Conteo de repeticiones de cada elemento\n",
    "\n",
    "###\n",
    "# Ejercicio 6:\n",
    "# Seleccionar autos de marca Renault, rojos o negros y mostrar el de mayor precio\n",
    "###\n",
    "\n",
    "df_olx_medallo[(df_olx_medallo['marca'] == 'Renault') & \n",
    "                          ((df_olx_medallo['color'] == 'Rojo') | \n",
    "                          (df_olx_medallo['color'] == 'Negro'))].precio.max()\n",
    "\n",
    "\n"
   ]
  }
 ],
 "metadata": {
  "kernelspec": {
   "display_name": "Python 3",
   "language": "python",
   "name": "python3"
  },
  "language_info": {
   "codemirror_mode": {
    "name": "ipython",
    "version": 3
   },
   "file_extension": ".py",
   "mimetype": "text/x-python",
   "name": "python",
   "nbconvert_exporter": "python",
   "pygments_lexer": "ipython3",
   "version": "3.13.7"
  }
 },
 "nbformat": 4,
 "nbformat_minor": 5
}
