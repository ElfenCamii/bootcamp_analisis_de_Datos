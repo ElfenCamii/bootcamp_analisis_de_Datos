{
 "cells": [
  {
   "cell_type": "markdown",
   "id": "fd4b7c6b",
   "metadata": {},
   "source": [
    "### Ejercicio 2:\n",
    "Creea un DataFrame con los siguientes datos:\n",
    "-   Producto: 'Manzana', 'Peras', 'Bananas', 'Naranjas'\n",
    "-   Precio: 2.5, 3.0, 1.8, 2.2\n",
    "-   Cantidad Ventida: 100, 150, 200, 80\n",
    "-   Mes: 'Enero', 'Enero', 'Febrero', 'Febrero'\n",
    "\n",
    "# Realiza las siguientes tareas:\n",
    "-   Selecciona solo las filas donde el mes sea 'Enero'\n",
    "-   Selecciona las columnas 'Producto' y 'Cantidad vendida'\n",
    "-   Modifica la columna 'Precio' incrementando un 10% en todos los valores\n",
    "-   Crea una nueva columna llamada 'Ingresos' que calcule el ingreso total por producto (precio * cantidad vendida)"
   ]
  },
  {
   "cell_type": "code",
   "execution_count": 1,
   "id": "22b37e02",
   "metadata": {},
   "outputs": [],
   "source": [
    "import pandas as pd\n",
    "import numpy as np"
   ]
  },
  {
   "cell_type": "code",
   "execution_count": 12,
   "id": "fedadbfe",
   "metadata": {},
   "outputs": [
    {
     "name": "stdout",
     "output_type": "stream",
     "text": [
      "   Producto  Precio  Cantidad Vendida      Mes\n",
      "0   Manzana     2.5               100    Enero\n",
      "1     Peras     3.0               150    Enero\n",
      "2   Bananas     1.8               200  Febrero\n",
      "3  Naranjas     2.2                80  Febrero\n"
     ]
    }
   ],
   "source": [
    "data = [\n",
    "    {\"Producto\": \"Manzana\", \"Precio\": 2.5, \"Cantidad Vendida\": 100, \"Mes\": \"Enero\"},\n",
    "    {\"Producto\": \"Peras\", \"Precio\": 3.0, \"Cantidad Vendida\": 150, \"Mes\": \"Enero\"},\n",
    "    {\"Producto\": \"Bananas\", \"Precio\": 1.8, \"Cantidad Vendida\": 200, \"Mes\": \"Febrero\"},\n",
    "    {\"Producto\": \"Naranjas\", \"Precio\": 2.2, \"Cantidad Vendida\": 80, \"Mes\": \"Febrero\"}\n",
    "]\n",
    "\n",
    "df_mercado = pd.DataFrame(data)\n",
    "print(df_mercado)"
   ]
  },
  {
   "cell_type": "code",
   "execution_count": null,
   "id": "7a451671",
   "metadata": {},
   "outputs": [
    {
     "name": "stdout",
     "output_type": "stream",
     "text": [
      "  Producto  Precio  Cantidad Vendida    Mes\n",
      "0  Manzana     2.5               100  Enero\n",
      "1    Peras     3.0               150  Enero\n"
     ]
    }
   ],
   "source": [
    "###\n",
    "# Selecciona solo las filas donde el mes sea 'Enero'\n",
    "###\n",
    "\n",
    "df_enero = df_mercado[df_mercado['Mes'] == 'Enero']\n",
    "print(df_enero)"
   ]
  },
  {
   "cell_type": "code",
   "execution_count": 7,
   "id": "1b378b69",
   "metadata": {},
   "outputs": [
    {
     "name": "stdout",
     "output_type": "stream",
     "text": [
      "   Producto  Cantidad Vendida\n",
      "0   Manzana               100\n",
      "1     Peras               150\n",
      "2   Bananas               200\n",
      "3  Naranjas                80\n"
     ]
    }
   ],
   "source": [
    "###\n",
    "# Selecciona las columnas 'Producto' y 'Cantidad vendida'\n",
    "###\n",
    "\n",
    "df_seleccion = df_mercado[['Producto', 'Cantidad Vendida']]\n",
    "print(df_seleccion)"
   ]
  },
  {
   "cell_type": "code",
   "execution_count": 13,
   "id": "2e3fd071",
   "metadata": {},
   "outputs": [
    {
     "name": "stdout",
     "output_type": "stream",
     "text": [
      "   Producto  Precio  Cantidad Vendida      Mes\n",
      "0   Manzana    2.75               100    Enero\n",
      "1     Peras    3.30               150    Enero\n",
      "2   Bananas    1.98               200  Febrero\n",
      "3  Naranjas    2.42                80  Febrero\n"
     ]
    }
   ],
   "source": [
    "###\n",
    "# Modifica la columna 'Precio' incrementando un 10% en todos los valores\n",
    "###\n",
    "\n",
    "df_mercado['Precio'] = df_mercado['Precio'] * 1.1\n",
    "print(df_mercado)"
   ]
  },
  {
   "cell_type": "code",
   "execution_count": 11,
   "id": "fac3750f",
   "metadata": {},
   "outputs": [
    {
     "name": "stdout",
     "output_type": "stream",
     "text": [
      "   Producto  Precio  Cantidad Vendida      Mes  Ingreesos\n",
      "0   Manzana     2.5               100    Enero      250.0\n",
      "1     Peras     3.0               150    Enero      450.0\n",
      "2   Bananas     1.8               200  Febrero      360.0\n",
      "3  Naranjas     2.2                80  Febrero      176.0\n"
     ]
    }
   ],
   "source": [
    "###\n",
    "# Crea una nueva columna llamada 'Ingresos' que calcule el ingreso total por producto (precio * cantidad vendida)\n",
    "###\n",
    "\n",
    "df_mercado['Ingreesos'] = df_mercado['Precio'] * df_mercado['Cantidad Vendida']\n",
    "print(df_mercado)"
   ]
  },
  {
   "cell_type": "markdown",
   "id": "2c64c00d",
   "metadata": {},
   "source": []
  }
 ],
 "metadata": {
  "kernelspec": {
   "display_name": "Python 3",
   "language": "python",
   "name": "python3"
  },
  "language_info": {
   "codemirror_mode": {
    "name": "ipython",
    "version": 3
   },
   "file_extension": ".py",
   "mimetype": "text/x-python",
   "name": "python",
   "nbconvert_exporter": "python",
   "pygments_lexer": "ipython3",
   "version": "3.13.7"
  }
 },
 "nbformat": 4,
 "nbformat_minor": 5
}
