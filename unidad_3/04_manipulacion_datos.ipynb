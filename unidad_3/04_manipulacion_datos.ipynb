{
 "cells": [
  {
   "cell_type": "code",
   "execution_count": null,
   "id": "e734549e",
   "metadata": {},
   "outputs": [],
   "source": []
  },
  {
   "cell_type": "code",
   "execution_count": null,
   "id": "37b57f5a",
   "metadata": {},
   "outputs": [
    {
     "data": {
      "text/plain": [
       "np.int64(31946999111)"
      ]
     },
     "execution_count": 11,
     "metadata": {},
     "output_type": "execute_result"
    }
   ],
   "source": [
    "import pandas as pd\n",
    "import numpy as np\n",
    "\n",
    "df_olx_medallo = pd.read_csv(\"C:/Users/PC/Documents/cursos/Bootcamp analisis datos/archivos_data/olx_medellin.csv\")\n",
    "\n",
    "# Tipos\n",
    "df_olx_medallo.dtypes               # Para saber el type de las columnas\n",
    "df_olx_medallo['modelo'].dtype      # Para saber el type de una columna en especifico\n",
    "\n",
    "# Columnas\n",
    "tuple(df_olx_medallo)               # Extrae las columnas en una tupla, tambien se puede en una lista []\n",
    "df_olx_medallo.keys()               # keys es la funcion que extrae todas las columas\n",
    "list(df_olx_medallo.keys())         # Una mexcla de las dos, en una lista\n",
    "\n",
    "# Filas y columnas\n",
    "df_olx_medallo.axes\n",
    "\n",
    "# Número de dimensiones\n",
    "df_olx_medallo.ndim\n",
    "\n",
    "# Cantidad de registros\n",
    "df_olx_medallo.size\n",
    "\n",
    "# Dimensionalidad\n",
    "df_olx_medallo.shape\n",
    "\n",
    "# Filas\n",
    "df_olx_medallo.values               # Con [] me permite extraer los datos de una fila en especifico\n",
    "\n",
    "# Información general\n",
    "# df_olx_medallo.info()\n",
    "\n",
    "# Estadística descriptiva - Numéricos\n",
    "df_olx_medallo.describe()           # Me trae estadisticas de valores numericos\n",
    "\n",
    "# Estadística descriptiva - Categóricos\n",
    "df_olx_medallo.describe(include='object')       # Me trae estadisticas de valores string\n",
    "\n",
    "# Primeros, últimos y random\n",
    "df_olx_medallo.head(9)               # Sin argumentos me visualiza los primeros 5, o si pongo un valor en el parentesis me visualizara ese numero\n",
    "df_olx_medallo.tail(9)               # Sin argumentos me visualiza los ultimos 5, o con argumento muesta esa cantidad\n",
    "df_olx_medallo.sample(9)              # Elige el numero de reguistros que le indiquemos de manera random\n",
    "\n",
    "# Mínimos y Máximos\n",
    "df_olx_medallo.min()\n",
    "df_olx_medallo['precio'].min()\n",
    "df_olx_medallo.max()\n",
    "df_olx_medallo['kilometraje'].max()\n",
    "\n",
    "# Estadística básica\n",
    "round(df_olx_medallo['precio'].mean(), 3)   # Promedio\n",
    "df_olx_medallo['puertas'].median()          # Mediana\n",
    "df_olx_medallo['kilometraje'].std()         # Desviación estándar\n",
    "df_olx_medallo['color'].mode()              # Moda\n",
    "\n",
    "# Operaciones\n",
    "df_olx_medallo['precio'].sum()\n"
   ]
  },
  {
   "cell_type": "code",
   "execution_count": null,
   "id": "5ffa09d0",
   "metadata": {},
   "outputs": [],
   "source": []
  }
 ],
 "metadata": {
  "kernelspec": {
   "display_name": "Python 3",
   "language": "python",
   "name": "python3"
  },
  "language_info": {
   "codemirror_mode": {
    "name": "ipython",
    "version": 3
   },
   "file_extension": ".py",
   "mimetype": "text/x-python",
   "name": "python",
   "nbconvert_exporter": "python",
   "pygments_lexer": "ipython3",
   "version": "3.13.7"
  }
 },
 "nbformat": 4,
 "nbformat_minor": 5
}
