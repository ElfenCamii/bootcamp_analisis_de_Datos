{
 "cells": [
  {
   "cell_type": "markdown",
   "id": "194f31d7",
   "metadata": {},
   "source": [
    "Ejercicio 1:\n",
    "Realiza los siguientes pasos:\n",
    "\n",
    "• Crea una Serie con los siguientes datos: [100, 200, 300, 400, 500]\n",
    "• Asigna como índices los nombres  de los días de la semana.\n",
    "• Accede al valor correspondiente al índice 'Miércoles'\n",
    "• Calcula el promedio de los valores de la Serie\n",
    "• Crear una nueva Serie sumando 50 a cada valor de la Serie original."
   ]
  },
  {
   "cell_type": "code",
   "execution_count": null,
   "id": "47dd6a5d",
   "metadata": {},
   "outputs": [],
   "source": []
  }
 ],
 "metadata": {
  "language_info": {
   "name": "python"
  }
 },
 "nbformat": 4,
 "nbformat_minor": 5
}
