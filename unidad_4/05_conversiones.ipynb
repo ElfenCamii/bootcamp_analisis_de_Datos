{
 "cells": [
  {
   "cell_type": "code",
   "execution_count": 1,
   "id": "f32f9d8d",
   "metadata": {},
   "outputs": [],
   "source": [
    "import pandas as pd\n",
    "import numpy as np"
   ]
  },
  {
   "cell_type": "code",
   "execution_count": 42,
   "id": "f123090c",
   "metadata": {},
   "outputs": [
    {
     "data": {
      "application/vnd.microsoft.datawrangler.viewer.v0+json": {
       "columns": [
        {
         "name": "index",
         "rawType": "int64",
         "type": "integer"
        },
        {
         "name": "nombre",
         "rawType": "object",
         "type": "string"
        },
        {
         "name": "apellido",
         "rawType": "object",
         "type": "string"
        },
        {
         "name": "edad",
         "rawType": "int64",
         "type": "integer"
        },
        {
         "name": "sexo",
         "rawType": "object",
         "type": "string"
        },
        {
         "name": "ventas",
         "rawType": "int64",
         "type": "integer"
        },
        {
         "name": "codigo",
         "rawType": "object",
         "type": "string"
        },
        {
         "name": "fecha_nac",
         "rawType": "object",
         "type": "string"
        }
       ],
       "ref": "a08b7146-7799-455a-9013-e3f9ae7095f9",
       "rows": [
        [
         "0",
         "Montgomery",
         "Humes",
         "27",
         "Male",
         "92",
         "236",
         "2000-01-15"
        ],
        [
         "1",
         "Dagmar",
         "Elstow",
         "41",
         "Female",
         "65",
         "-105",
         "1995-02-20"
        ],
        [
         "2",
         "Reeba",
         "Wattisham",
         "29",
         "Female",
         "56",
         "304",
         "1988-03-25"
        ],
        [
         "3",
         "Shalom",
         "Alen",
         "29",
         "Male",
         "59",
         "506",
         "2004-09-25"
        ],
        [
         "4",
         "Broddy",
         "Keningham",
         "21",
         "Male",
         "26",
         "145",
         "1970-11-05"
        ],
        [
         "5",
         "Aurelia",
         "Brechin",
         "33",
         "Female",
         "65",
         "No disponible",
         "2001-08-08"
        ]
       ],
       "shape": {
        "columns": 7,
        "rows": 6
       }
      },
      "text/html": [
       "<div>\n",
       "<style scoped>\n",
       "    .dataframe tbody tr th:only-of-type {\n",
       "        vertical-align: middle;\n",
       "    }\n",
       "\n",
       "    .dataframe tbody tr th {\n",
       "        vertical-align: top;\n",
       "    }\n",
       "\n",
       "    .dataframe thead th {\n",
       "        text-align: right;\n",
       "    }\n",
       "</style>\n",
       "<table border=\"1\" class=\"dataframe\">\n",
       "  <thead>\n",
       "    <tr style=\"text-align: right;\">\n",
       "      <th></th>\n",
       "      <th>nombre</th>\n",
       "      <th>apellido</th>\n",
       "      <th>edad</th>\n",
       "      <th>sexo</th>\n",
       "      <th>ventas</th>\n",
       "      <th>codigo</th>\n",
       "      <th>fecha_nac</th>\n",
       "    </tr>\n",
       "  </thead>\n",
       "  <tbody>\n",
       "    <tr>\n",
       "      <th>0</th>\n",
       "      <td>Montgomery</td>\n",
       "      <td>Humes</td>\n",
       "      <td>27</td>\n",
       "      <td>Male</td>\n",
       "      <td>92</td>\n",
       "      <td>236</td>\n",
       "      <td>2000-01-15</td>\n",
       "    </tr>\n",
       "    <tr>\n",
       "      <th>1</th>\n",
       "      <td>Dagmar</td>\n",
       "      <td>Elstow</td>\n",
       "      <td>41</td>\n",
       "      <td>Female</td>\n",
       "      <td>65</td>\n",
       "      <td>-105</td>\n",
       "      <td>1995-02-20</td>\n",
       "    </tr>\n",
       "    <tr>\n",
       "      <th>2</th>\n",
       "      <td>Reeba</td>\n",
       "      <td>Wattisham</td>\n",
       "      <td>29</td>\n",
       "      <td>Female</td>\n",
       "      <td>56</td>\n",
       "      <td>304</td>\n",
       "      <td>1988-03-25</td>\n",
       "    </tr>\n",
       "    <tr>\n",
       "      <th>3</th>\n",
       "      <td>Shalom</td>\n",
       "      <td>Alen</td>\n",
       "      <td>29</td>\n",
       "      <td>Male</td>\n",
       "      <td>59</td>\n",
       "      <td>506</td>\n",
       "      <td>2004-09-25</td>\n",
       "    </tr>\n",
       "    <tr>\n",
       "      <th>4</th>\n",
       "      <td>Broddy</td>\n",
       "      <td>Keningham</td>\n",
       "      <td>21</td>\n",
       "      <td>Male</td>\n",
       "      <td>26</td>\n",
       "      <td>145</td>\n",
       "      <td>1970-11-05</td>\n",
       "    </tr>\n",
       "    <tr>\n",
       "      <th>5</th>\n",
       "      <td>Aurelia</td>\n",
       "      <td>Brechin</td>\n",
       "      <td>33</td>\n",
       "      <td>Female</td>\n",
       "      <td>65</td>\n",
       "      <td>No disponible</td>\n",
       "      <td>2001-08-08</td>\n",
       "    </tr>\n",
       "  </tbody>\n",
       "</table>\n",
       "</div>"
      ],
      "text/plain": [
       "       nombre   apellido  edad    sexo  ventas         codigo   fecha_nac\n",
       "0  Montgomery      Humes    27    Male      92            236  2000-01-15\n",
       "1      Dagmar     Elstow    41  Female      65           -105  1995-02-20\n",
       "2       Reeba  Wattisham    29  Female      56            304  1988-03-25\n",
       "3      Shalom       Alen    29    Male      59            506  2004-09-25\n",
       "4      Broddy  Keningham    21    Male      26            145  1970-11-05\n",
       "5     Aurelia    Brechin    33  Female      65  No disponible  2001-08-08"
      ]
     },
     "execution_count": 42,
     "metadata": {},
     "output_type": "execute_result"
    }
   ],
   "source": [
    "usuarios = {'nombre': ['Montgomery', 'Dagmar', 'Reeba', 'Shalom', 'Broddy', 'Aurelia'],\n",
    "            'apellido': ['Humes', 'Elstow', 'Wattisham', 'Alen', 'Keningham', 'Brechin'],\n",
    "            'edad': [27, 41, 29, 29, 21, 33],\n",
    "            'sexo': ['Male', 'Female', 'Female', 'Male', 'Male', 'Female'],\n",
    "            'ventas': [92, 65, 56, 59, 26, 65],\n",
    "            'codigo':['236', '-105', '304', '506', '145', 'No disponible'],\n",
    "            'fecha_nac': ['2000-01-15', '1995-02-20', '1988-03-25', '2004-09-25', '1970-11-05', '2001-08-08']}\n",
    "df_users = pd.DataFrame(usuarios)\n",
    "df_users"
   ]
  },
  {
   "cell_type": "code",
   "execution_count": 3,
   "id": "fc6bcaff",
   "metadata": {},
   "outputs": [
    {
     "data": {
      "application/vnd.microsoft.datawrangler.viewer.v0+json": {
       "columns": [
        {
         "name": "index",
         "rawType": "object",
         "type": "string"
        },
        {
         "name": "0",
         "rawType": "object",
         "type": "unknown"
        }
       ],
       "ref": "91edfaa5-c6ac-4004-b954-4801fbe4d559",
       "rows": [
        [
         "nombre",
         "object"
        ],
        [
         "apellido",
         "object"
        ],
        [
         "edad",
         "int64"
        ],
        [
         "sexo",
         "object"
        ],
        [
         "ventas",
         "int64"
        ],
        [
         "codigo",
         "object"
        ],
        [
         "fecha_nac",
         "object"
        ]
       ],
       "shape": {
        "columns": 1,
        "rows": 7
       }
      },
      "text/plain": [
       "nombre       object\n",
       "apellido     object\n",
       "edad          int64\n",
       "sexo         object\n",
       "ventas        int64\n",
       "codigo       object\n",
       "fecha_nac    object\n",
       "dtype: object"
      ]
     },
     "execution_count": 3,
     "metadata": {},
     "output_type": "execute_result"
    }
   ],
   "source": [
    "df_users.dtypes"
   ]
  },
  {
   "cell_type": "code",
   "execution_count": 4,
   "id": "925455ee",
   "metadata": {},
   "outputs": [],
   "source": [
    "###\n",
    "# astype\n",
    "###\n",
    "\n",
    "# Convertir ventas a float\n",
    "df_users['ventas'] = df_users['ventas'].astype('float64')"
   ]
  },
  {
   "cell_type": "code",
   "execution_count": 6,
   "id": "b5548b37",
   "metadata": {},
   "outputs": [],
   "source": [
    "# Convertir edad a categórico\n",
    "df_users['edad'] = df_users['edad'].astype('object') # str"
   ]
  },
  {
   "cell_type": "code",
   "execution_count": 10,
   "id": "a1e777b6",
   "metadata": {},
   "outputs": [],
   "source": [
    "# Convertir varios atributos al tiempo\n",
    "df_users = df_users.astype({'edad': 'float32', 'ventas':'str'})"
   ]
  },
  {
   "cell_type": "code",
   "execution_count": null,
   "id": "c0721454",
   "metadata": {},
   "outputs": [],
   "source": [
    "# to _numeric\n",
    "df_users['codigo'] = pd.to_numeric(df_users['codigo'], errors='coerce')"
   ]
  },
  {
   "cell_type": "code",
   "execution_count": 47,
   "id": "90e1b341",
   "metadata": {},
   "outputs": [],
   "source": [
    "# to _datetime\n",
    "# df_users['fecha_nac'] = pd.to_datetime(df_users['fecha_nac'], dayfirst=True)\n",
    "df_users['fecha_nac'] = df_users['fecha_nac'].dt.strftime('%d/%m/%Y')"
   ]
  },
  {
   "cell_type": "code",
   "execution_count": 22,
   "id": "2b8041d9",
   "metadata": {},
   "outputs": [
    {
     "data": {
      "application/vnd.microsoft.datawrangler.viewer.v0+json": {
       "columns": [
        {
         "name": "index",
         "rawType": "object",
         "type": "string"
        },
        {
         "name": "0",
         "rawType": "object",
         "type": "unknown"
        }
       ],
       "ref": "74837acc-c19e-47f3-9fea-42018ffbb383",
       "rows": [
        [
         "nombre",
         "object"
        ],
        [
         "apellido",
         "object"
        ],
        [
         "edad",
         "int64"
        ],
        [
         "sexo",
         "object"
        ],
        [
         "ventas",
         "int64"
        ],
        [
         "codigo",
         "float64"
        ],
        [
         "fecha_nac",
         "datetime64[ns]"
        ]
       ],
       "shape": {
        "columns": 1,
        "rows": 7
       }
      },
      "text/plain": [
       "nombre               object\n",
       "apellido             object\n",
       "edad                  int64\n",
       "sexo                 object\n",
       "ventas                int64\n",
       "codigo              float64\n",
       "fecha_nac    datetime64[ns]\n",
       "dtype: object"
      ]
     },
     "execution_count": 22,
     "metadata": {},
     "output_type": "execute_result"
    }
   ],
   "source": [
    "df_users.dtypes"
   ]
  },
  {
   "cell_type": "code",
   "execution_count": 48,
   "id": "a0591043",
   "metadata": {},
   "outputs": [
    {
     "data": {
      "application/vnd.microsoft.datawrangler.viewer.v0+json": {
       "columns": [
        {
         "name": "index",
         "rawType": "int64",
         "type": "integer"
        },
        {
         "name": "nombre",
         "rawType": "object",
         "type": "string"
        },
        {
         "name": "apellido",
         "rawType": "object",
         "type": "string"
        },
        {
         "name": "edad",
         "rawType": "int64",
         "type": "integer"
        },
        {
         "name": "sexo",
         "rawType": "object",
         "type": "string"
        },
        {
         "name": "ventas",
         "rawType": "int64",
         "type": "integer"
        },
        {
         "name": "codigo",
         "rawType": "object",
         "type": "string"
        },
        {
         "name": "fecha_nac",
         "rawType": "object",
         "type": "string"
        }
       ],
       "ref": "098e99e3-2049-46dd-aac5-19c4cd5fbac9",
       "rows": [
        [
         "0",
         "Montgomery",
         "Humes",
         "27",
         "Male",
         "92",
         "236",
         "15/01/2000"
        ],
        [
         "1",
         "Dagmar",
         "Elstow",
         "41",
         "Female",
         "65",
         "-105",
         "20/02/1995"
        ],
        [
         "2",
         "Reeba",
         "Wattisham",
         "29",
         "Female",
         "56",
         "304",
         "25/03/1988"
        ],
        [
         "3",
         "Shalom",
         "Alen",
         "29",
         "Male",
         "59",
         "506",
         "25/09/2004"
        ],
        [
         "4",
         "Broddy",
         "Keningham",
         "21",
         "Male",
         "26",
         "145",
         "05/11/1970"
        ],
        [
         "5",
         "Aurelia",
         "Brechin",
         "33",
         "Female",
         "65",
         "No disponible",
         "08/08/2001"
        ]
       ],
       "shape": {
        "columns": 7,
        "rows": 6
       }
      },
      "text/html": [
       "<div>\n",
       "<style scoped>\n",
       "    .dataframe tbody tr th:only-of-type {\n",
       "        vertical-align: middle;\n",
       "    }\n",
       "\n",
       "    .dataframe tbody tr th {\n",
       "        vertical-align: top;\n",
       "    }\n",
       "\n",
       "    .dataframe thead th {\n",
       "        text-align: right;\n",
       "    }\n",
       "</style>\n",
       "<table border=\"1\" class=\"dataframe\">\n",
       "  <thead>\n",
       "    <tr style=\"text-align: right;\">\n",
       "      <th></th>\n",
       "      <th>nombre</th>\n",
       "      <th>apellido</th>\n",
       "      <th>edad</th>\n",
       "      <th>sexo</th>\n",
       "      <th>ventas</th>\n",
       "      <th>codigo</th>\n",
       "      <th>fecha_nac</th>\n",
       "    </tr>\n",
       "  </thead>\n",
       "  <tbody>\n",
       "    <tr>\n",
       "      <th>0</th>\n",
       "      <td>Montgomery</td>\n",
       "      <td>Humes</td>\n",
       "      <td>27</td>\n",
       "      <td>Male</td>\n",
       "      <td>92</td>\n",
       "      <td>236</td>\n",
       "      <td>15/01/2000</td>\n",
       "    </tr>\n",
       "    <tr>\n",
       "      <th>1</th>\n",
       "      <td>Dagmar</td>\n",
       "      <td>Elstow</td>\n",
       "      <td>41</td>\n",
       "      <td>Female</td>\n",
       "      <td>65</td>\n",
       "      <td>-105</td>\n",
       "      <td>20/02/1995</td>\n",
       "    </tr>\n",
       "    <tr>\n",
       "      <th>2</th>\n",
       "      <td>Reeba</td>\n",
       "      <td>Wattisham</td>\n",
       "      <td>29</td>\n",
       "      <td>Female</td>\n",
       "      <td>56</td>\n",
       "      <td>304</td>\n",
       "      <td>25/03/1988</td>\n",
       "    </tr>\n",
       "    <tr>\n",
       "      <th>3</th>\n",
       "      <td>Shalom</td>\n",
       "      <td>Alen</td>\n",
       "      <td>29</td>\n",
       "      <td>Male</td>\n",
       "      <td>59</td>\n",
       "      <td>506</td>\n",
       "      <td>25/09/2004</td>\n",
       "    </tr>\n",
       "    <tr>\n",
       "      <th>4</th>\n",
       "      <td>Broddy</td>\n",
       "      <td>Keningham</td>\n",
       "      <td>21</td>\n",
       "      <td>Male</td>\n",
       "      <td>26</td>\n",
       "      <td>145</td>\n",
       "      <td>05/11/1970</td>\n",
       "    </tr>\n",
       "    <tr>\n",
       "      <th>5</th>\n",
       "      <td>Aurelia</td>\n",
       "      <td>Brechin</td>\n",
       "      <td>33</td>\n",
       "      <td>Female</td>\n",
       "      <td>65</td>\n",
       "      <td>No disponible</td>\n",
       "      <td>08/08/2001</td>\n",
       "    </tr>\n",
       "  </tbody>\n",
       "</table>\n",
       "</div>"
      ],
      "text/plain": [
       "       nombre   apellido  edad    sexo  ventas         codigo   fecha_nac\n",
       "0  Montgomery      Humes    27    Male      92            236  15/01/2000\n",
       "1      Dagmar     Elstow    41  Female      65           -105  20/02/1995\n",
       "2       Reeba  Wattisham    29  Female      56            304  25/03/1988\n",
       "3      Shalom       Alen    29    Male      59            506  25/09/2004\n",
       "4      Broddy  Keningham    21    Male      26            145  05/11/1970\n",
       "5     Aurelia    Brechin    33  Female      65  No disponible  08/08/2001"
      ]
     },
     "execution_count": 48,
     "metadata": {},
     "output_type": "execute_result"
    }
   ],
   "source": [
    "df_users"
   ]
  }
 ],
 "metadata": {
  "kernelspec": {
   "display_name": "Python 3",
   "language": "python",
   "name": "python3"
  },
  "language_info": {
   "codemirror_mode": {
    "name": "ipython",
    "version": 3
   },
   "file_extension": ".py",
   "mimetype": "text/x-python",
   "name": "python",
   "nbconvert_exporter": "python",
   "pygments_lexer": "ipython3",
   "version": "3.13.7"
  }
 },
 "nbformat": 4,
 "nbformat_minor": 5
}
