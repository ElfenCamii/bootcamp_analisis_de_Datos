{
 "cells": [
  {
   "cell_type": "code",
   "execution_count": 8,
   "id": "f75eb852",
   "metadata": {},
   "outputs": [],
   "source": [
    "import pandas as pd\n",
    "import numpy as np"
   ]
  },
  {
   "cell_type": "code",
   "execution_count": 23,
   "id": "30843a7b",
   "metadata": {},
   "outputs": [
    {
     "data": {
      "application/vnd.microsoft.datawrangler.viewer.v0+json": {
       "columns": [
        {
         "name": "index",
         "rawType": "int64",
         "type": "integer"
        },
        {
         "name": "Nombres",
         "rawType": "object",
         "type": "string"
        },
        {
         "name": "Sexo",
         "rawType": "object",
         "type": "string"
        },
        {
         "name": "Est_Civil",
         "rawType": "object",
         "type": "string"
        },
        {
         "name": "Edad",
         "rawType": "int64",
         "type": "integer"
        }
       ],
       "ref": "01e36d26-c805-4acf-9b17-65b0b400d982",
       "rows": [
        [
         "0",
         "Paula",
         "F",
         "Soltera",
         "22"
        ],
        [
         "1",
         "Susana",
         "F",
         "Soltera",
         "22"
        ],
        [
         "2",
         "Paula",
         "F",
         "Casada",
         "22"
        ],
        [
         "3",
         "Oscar",
         "M",
         "Divorciado",
         "23"
        ],
        [
         "4",
         "Karen",
         "F",
         "Viuda",
         "19"
        ]
       ],
       "shape": {
        "columns": 4,
        "rows": 5
       }
      },
      "text/html": [
       "<div>\n",
       "<style scoped>\n",
       "    .dataframe tbody tr th:only-of-type {\n",
       "        vertical-align: middle;\n",
       "    }\n",
       "\n",
       "    .dataframe tbody tr th {\n",
       "        vertical-align: top;\n",
       "    }\n",
       "\n",
       "    .dataframe thead th {\n",
       "        text-align: right;\n",
       "    }\n",
       "</style>\n",
       "<table border=\"1\" class=\"dataframe\">\n",
       "  <thead>\n",
       "    <tr style=\"text-align: right;\">\n",
       "      <th></th>\n",
       "      <th>Nombres</th>\n",
       "      <th>Sexo</th>\n",
       "      <th>Est_Civil</th>\n",
       "      <th>Edad</th>\n",
       "    </tr>\n",
       "  </thead>\n",
       "  <tbody>\n",
       "    <tr>\n",
       "      <th>0</th>\n",
       "      <td>Paula</td>\n",
       "      <td>F</td>\n",
       "      <td>Soltera</td>\n",
       "      <td>22</td>\n",
       "    </tr>\n",
       "    <tr>\n",
       "      <th>1</th>\n",
       "      <td>Susana</td>\n",
       "      <td>F</td>\n",
       "      <td>Soltera</td>\n",
       "      <td>22</td>\n",
       "    </tr>\n",
       "    <tr>\n",
       "      <th>2</th>\n",
       "      <td>Paula</td>\n",
       "      <td>F</td>\n",
       "      <td>Casada</td>\n",
       "      <td>22</td>\n",
       "    </tr>\n",
       "    <tr>\n",
       "      <th>3</th>\n",
       "      <td>Oscar</td>\n",
       "      <td>M</td>\n",
       "      <td>Divorciado</td>\n",
       "      <td>23</td>\n",
       "    </tr>\n",
       "    <tr>\n",
       "      <th>4</th>\n",
       "      <td>Karen</td>\n",
       "      <td>F</td>\n",
       "      <td>Viuda</td>\n",
       "      <td>19</td>\n",
       "    </tr>\n",
       "  </tbody>\n",
       "</table>\n",
       "</div>"
      ],
      "text/plain": [
       "  Nombres Sexo   Est_Civil  Edad\n",
       "0   Paula    F     Soltera    22\n",
       "1  Susana    F     Soltera    22\n",
       "2   Paula    F      Casada    22\n",
       "3   Oscar    M  Divorciado    23\n",
       "4   Karen    F       Viuda    19"
      ]
     },
     "execution_count": 23,
     "metadata": {},
     "output_type": "execute_result"
    }
   ],
   "source": [
    "###\n",
    "# Duplicados\n",
    "###\n",
    "\n",
    "datos = {\n",
    "    'Nombres':   ['Paula', 'Susana', 'Paula', 'Oscar', 'Karen'],\n",
    "    'Sexo':      ['F', 'F', 'F', 'M', 'F'],\n",
    "    'Est_Civil': ['Soltera', 'Soltera', 'Casada', 'Divorciado', 'Viuda'],\n",
    "    'Edad':      [22, 22, 22, 23, 19]\n",
    "}\n",
    "df_datos = pd.DataFrame(datos)\n",
    "df_datos"
   ]
  },
  {
   "cell_type": "code",
   "execution_count": 10,
   "id": "19ac6516",
   "metadata": {},
   "outputs": [
    {
     "data": {
      "application/vnd.microsoft.datawrangler.viewer.v0+json": {
       "columns": [
        {
         "name": "index",
         "rawType": "int64",
         "type": "integer"
        },
        {
         "name": "0",
         "rawType": "bool",
         "type": "boolean"
        }
       ],
       "ref": "22dec784-6a1e-4f19-9f96-e4edd86aed4f",
       "rows": [
        [
         "0",
         "False"
        ],
        [
         "1",
         "True"
        ],
        [
         "2",
         "True"
        ],
        [
         "3",
         "False"
        ],
        [
         "4",
         "False"
        ]
       ],
       "shape": {
        "columns": 1,
        "rows": 5
       }
      },
      "text/plain": [
       "0    False\n",
       "1     True\n",
       "2     True\n",
       "3    False\n",
       "4    False\n",
       "dtype: bool"
      ]
     },
     "execution_count": 10,
     "metadata": {},
     "output_type": "execute_result"
    }
   ],
   "source": [
    "df_datos.duplicated()"
   ]
  },
  {
   "cell_type": "code",
   "execution_count": 11,
   "id": "2ff6d765",
   "metadata": {},
   "outputs": [
    {
     "name": "stdout",
     "output_type": "stream",
     "text": [
      "2\n"
     ]
    }
   ],
   "source": [
    "# Conteo\n",
    "print(df_datos.duplicated().sum())"
   ]
  },
  {
   "cell_type": "code",
   "execution_count": 12,
   "id": "c28c4f02",
   "metadata": {},
   "outputs": [
    {
     "data": {
      "application/vnd.microsoft.datawrangler.viewer.v0+json": {
       "columns": [
        {
         "name": "index",
         "rawType": "int64",
         "type": "integer"
        },
        {
         "name": "0",
         "rawType": "bool",
         "type": "boolean"
        }
       ],
       "ref": "88afa3fd-8243-480c-a955-ac0d01919baf",
       "rows": [
        [
         "0",
         "False"
        ],
        [
         "1",
         "True"
        ],
        [
         "2",
         "True"
        ],
        [
         "3",
         "False"
        ],
        [
         "4",
         "False"
        ]
       ],
       "shape": {
        "columns": 1,
        "rows": 5
       }
      },
      "text/plain": [
       "0    False\n",
       "1     True\n",
       "2     True\n",
       "3    False\n",
       "4    False\n",
       "dtype: bool"
      ]
     },
     "execution_count": 12,
     "metadata": {},
     "output_type": "execute_result"
    }
   ],
   "source": [
    "# En columnas\n",
    "df_datos.duplicated(subset='Edad')\n",
    "df_datos.duplicated(subset=['Sexo','Edad'])"
   ]
  },
  {
   "cell_type": "code",
   "execution_count": null,
   "id": "39d602dc",
   "metadata": {},
   "outputs": [
    {
     "data": {
      "application/vnd.microsoft.datawrangler.viewer.v0+json": {
       "columns": [
        {
         "name": "index",
         "rawType": "int64",
         "type": "integer"
        },
        {
         "name": "Nombres",
         "rawType": "object",
         "type": "string"
        },
        {
         "name": "Sexo",
         "rawType": "object",
         "type": "string"
        },
        {
         "name": "Est_Civil",
         "rawType": "object",
         "type": "string"
        },
        {
         "name": "Edad",
         "rawType": "int64",
         "type": "integer"
        }
       ],
       "ref": "848109d7-88a8-4278-8e2b-3da46359161a",
       "rows": [
        [
         "2",
         "Paula",
         "F",
         "Soltera",
         "22"
        ],
        [
         "3",
         "Oscar",
         "M",
         "Divorciado",
         "23"
        ],
        [
         "4",
         "Karen",
         "F",
         "Viuda",
         "19"
        ]
       ],
       "shape": {
        "columns": 4,
        "rows": 3
       }
      },
      "text/html": [
       "<div>\n",
       "<style scoped>\n",
       "    .dataframe tbody tr th:only-of-type {\n",
       "        vertical-align: middle;\n",
       "    }\n",
       "\n",
       "    .dataframe tbody tr th {\n",
       "        vertical-align: top;\n",
       "    }\n",
       "\n",
       "    .dataframe thead th {\n",
       "        text-align: right;\n",
       "    }\n",
       "</style>\n",
       "<table border=\"1\" class=\"dataframe\">\n",
       "  <thead>\n",
       "    <tr style=\"text-align: right;\">\n",
       "      <th></th>\n",
       "      <th>Nombres</th>\n",
       "      <th>Sexo</th>\n",
       "      <th>Est_Civil</th>\n",
       "      <th>Edad</th>\n",
       "    </tr>\n",
       "  </thead>\n",
       "  <tbody>\n",
       "    <tr>\n",
       "      <th>2</th>\n",
       "      <td>Paula</td>\n",
       "      <td>F</td>\n",
       "      <td>Soltera</td>\n",
       "      <td>22</td>\n",
       "    </tr>\n",
       "    <tr>\n",
       "      <th>3</th>\n",
       "      <td>Oscar</td>\n",
       "      <td>M</td>\n",
       "      <td>Divorciado</td>\n",
       "      <td>23</td>\n",
       "    </tr>\n",
       "    <tr>\n",
       "      <th>4</th>\n",
       "      <td>Karen</td>\n",
       "      <td>F</td>\n",
       "      <td>Viuda</td>\n",
       "      <td>19</td>\n",
       "    </tr>\n",
       "  </tbody>\n",
       "</table>\n",
       "</div>"
      ],
      "text/plain": [
       "  Nombres Sexo   Est_Civil  Edad\n",
       "2   Paula    F     Soltera    22\n",
       "3   Oscar    M  Divorciado    23\n",
       "4   Karen    F       Viuda    19"
      ]
     },
     "execution_count": 16,
     "metadata": {},
     "output_type": "execute_result"
    }
   ],
   "source": [
    "###\n",
    "# Eliminación\n",
    "###\n",
    "\n",
    "# Todos los campos son iguales\n",
    "df_datos.drop_duplicates()      # Por defecto elimina el último o últimos\n",
    "df_datos.drop_duplicates(keep='last')   # Mantiene el último de los duplicados"
   ]
  },
  {
   "cell_type": "code",
   "execution_count": null,
   "id": "f0c39a1a",
   "metadata": {},
   "outputs": [
    {
     "data": {
      "application/vnd.microsoft.datawrangler.viewer.v0+json": {
       "columns": [
        {
         "name": "index",
         "rawType": "int64",
         "type": "integer"
        },
        {
         "name": "Nombres",
         "rawType": "object",
         "type": "string"
        },
        {
         "name": "Sexo",
         "rawType": "object",
         "type": "string"
        },
        {
         "name": "Est_Civil",
         "rawType": "object",
         "type": "string"
        },
        {
         "name": "Edad",
         "rawType": "int64",
         "type": "integer"
        }
       ],
       "ref": "b3ce1984-e7ad-4d60-8ddb-98fa19160085",
       "rows": [
        [
         "0",
         "Paula",
         "F",
         "Soltera",
         "22"
        ],
        [
         "2",
         "Paula",
         "F",
         "Casada",
         "22"
        ],
        [
         "3",
         "Oscar",
         "M",
         "Divorciado",
         "23"
        ],
        [
         "4",
         "Karen",
         "F",
         "Viuda",
         "19"
        ]
       ],
       "shape": {
        "columns": 4,
        "rows": 4
       }
      },
      "text/html": [
       "<div>\n",
       "<style scoped>\n",
       "    .dataframe tbody tr th:only-of-type {\n",
       "        vertical-align: middle;\n",
       "    }\n",
       "\n",
       "    .dataframe tbody tr th {\n",
       "        vertical-align: top;\n",
       "    }\n",
       "\n",
       "    .dataframe thead th {\n",
       "        text-align: right;\n",
       "    }\n",
       "</style>\n",
       "<table border=\"1\" class=\"dataframe\">\n",
       "  <thead>\n",
       "    <tr style=\"text-align: right;\">\n",
       "      <th></th>\n",
       "      <th>Nombres</th>\n",
       "      <th>Sexo</th>\n",
       "      <th>Est_Civil</th>\n",
       "      <th>Edad</th>\n",
       "    </tr>\n",
       "  </thead>\n",
       "  <tbody>\n",
       "    <tr>\n",
       "      <th>0</th>\n",
       "      <td>Paula</td>\n",
       "      <td>F</td>\n",
       "      <td>Soltera</td>\n",
       "      <td>22</td>\n",
       "    </tr>\n",
       "    <tr>\n",
       "      <th>2</th>\n",
       "      <td>Paula</td>\n",
       "      <td>F</td>\n",
       "      <td>Casada</td>\n",
       "      <td>22</td>\n",
       "    </tr>\n",
       "    <tr>\n",
       "      <th>3</th>\n",
       "      <td>Oscar</td>\n",
       "      <td>M</td>\n",
       "      <td>Divorciado</td>\n",
       "      <td>23</td>\n",
       "    </tr>\n",
       "    <tr>\n",
       "      <th>4</th>\n",
       "      <td>Karen</td>\n",
       "      <td>F</td>\n",
       "      <td>Viuda</td>\n",
       "      <td>19</td>\n",
       "    </tr>\n",
       "  </tbody>\n",
       "</table>\n",
       "</div>"
      ],
      "text/plain": [
       "  Nombres Sexo   Est_Civil  Edad\n",
       "0   Paula    F     Soltera    22\n",
       "2   Paula    F      Casada    22\n",
       "3   Oscar    M  Divorciado    23\n",
       "4   Karen    F       Viuda    19"
      ]
     },
     "execution_count": 22,
     "metadata": {},
     "output_type": "execute_result"
    }
   ],
   "source": [
    "# Eliminación por columna\n",
    "df_datos.drop_duplicates(['Est_Civil'])"
   ]
  },
  {
   "cell_type": "code",
   "execution_count": 24,
   "id": "8f7e0325",
   "metadata": {},
   "outputs": [
    {
     "data": {
      "application/vnd.microsoft.datawrangler.viewer.v0+json": {
       "columns": [
        {
         "name": "index",
         "rawType": "int64",
         "type": "integer"
        },
        {
         "name": "Nombres",
         "rawType": "object",
         "type": "string"
        },
        {
         "name": "Sexo",
         "rawType": "object",
         "type": "string"
        },
        {
         "name": "Est_Civil",
         "rawType": "object",
         "type": "string"
        },
        {
         "name": "Edad",
         "rawType": "int64",
         "type": "integer"
        }
       ],
       "ref": "6c109633-5ed3-4842-a97c-5523bfc6b5e5",
       "rows": [
        [
         "2",
         "Paula",
         "F",
         "Casada",
         "22"
        ],
        [
         "3",
         "Oscar",
         "M",
         "Divorciado",
         "23"
        ],
        [
         "4",
         "Karen",
         "F",
         "Viuda",
         "19"
        ]
       ],
       "shape": {
        "columns": 4,
        "rows": 3
       }
      },
      "text/html": [
       "<div>\n",
       "<style scoped>\n",
       "    .dataframe tbody tr th:only-of-type {\n",
       "        vertical-align: middle;\n",
       "    }\n",
       "\n",
       "    .dataframe tbody tr th {\n",
       "        vertical-align: top;\n",
       "    }\n",
       "\n",
       "    .dataframe thead th {\n",
       "        text-align: right;\n",
       "    }\n",
       "</style>\n",
       "<table border=\"1\" class=\"dataframe\">\n",
       "  <thead>\n",
       "    <tr style=\"text-align: right;\">\n",
       "      <th></th>\n",
       "      <th>Nombres</th>\n",
       "      <th>Sexo</th>\n",
       "      <th>Est_Civil</th>\n",
       "      <th>Edad</th>\n",
       "    </tr>\n",
       "  </thead>\n",
       "  <tbody>\n",
       "    <tr>\n",
       "      <th>2</th>\n",
       "      <td>Paula</td>\n",
       "      <td>F</td>\n",
       "      <td>Casada</td>\n",
       "      <td>22</td>\n",
       "    </tr>\n",
       "    <tr>\n",
       "      <th>3</th>\n",
       "      <td>Oscar</td>\n",
       "      <td>M</td>\n",
       "      <td>Divorciado</td>\n",
       "      <td>23</td>\n",
       "    </tr>\n",
       "    <tr>\n",
       "      <th>4</th>\n",
       "      <td>Karen</td>\n",
       "      <td>F</td>\n",
       "      <td>Viuda</td>\n",
       "      <td>19</td>\n",
       "    </tr>\n",
       "  </tbody>\n",
       "</table>\n",
       "</div>"
      ],
      "text/plain": [
       "  Nombres Sexo   Est_Civil  Edad\n",
       "2   Paula    F      Casada    22\n",
       "3   Oscar    M  Divorciado    23\n",
       "4   Karen    F       Viuda    19"
      ]
     },
     "execution_count": 24,
     "metadata": {},
     "output_type": "execute_result"
    }
   ],
   "source": [
    "# Eliminación por columnas\n",
    "df_datos.drop_duplicates(['Sexo', 'Edad'], keep='last')"
   ]
  }
 ],
 "metadata": {
  "kernelspec": {
   "display_name": "Python 3",
   "language": "python",
   "name": "python3"
  },
  "language_info": {
   "codemirror_mode": {
    "name": "ipython",
    "version": 3
   },
   "file_extension": ".py",
   "mimetype": "text/x-python",
   "name": "python",
   "nbconvert_exporter": "python",
   "pygments_lexer": "ipython3",
   "version": "3.13.7"
  }
 },
 "nbformat": 4,
 "nbformat_minor": 5
}
