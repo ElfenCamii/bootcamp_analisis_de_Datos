{
 "cells": [
  {
   "cell_type": "code",
   "execution_count": 1,
   "id": "475e1c3e",
   "metadata": {},
   "outputs": [],
   "source": [
    "import pandas as pd\n",
    "import numpy as np"
   ]
  },
  {
   "cell_type": "code",
   "execution_count": 6,
   "id": "6031354e",
   "metadata": {},
   "outputs": [
    {
     "data": {
      "application/vnd.microsoft.datawrangler.viewer.v0+json": {
       "columns": [
        {
         "name": "index",
         "rawType": "int64",
         "type": "integer"
        },
        {
         "name": "nombre",
         "rawType": "object",
         "type": "string"
        },
        {
         "name": "apellido",
         "rawType": "object",
         "type": "string"
        },
        {
         "name": "edad",
         "rawType": "int64",
         "type": "integer"
        },
        {
         "name": "sexo",
         "rawType": "object",
         "type": "string"
        },
        {
         "name": "ventas",
         "rawType": "int64",
         "type": "integer"
        },
        {
         "name": "codigo",
         "rawType": "object",
         "type": "string"
        },
        {
         "name": "fecha_nac",
         "rawType": "object",
         "type": "string"
        }
       ],
       "ref": "bb857945-5ab1-4db1-9fce-ce01be5bf0a9",
       "rows": [
        [
         "0",
         "Montgomery",
         "Humes",
         "27",
         "Male",
         "92",
         "236",
         "2000-01-15"
        ],
        [
         "1",
         "Dagmar",
         "Elstow",
         "41",
         "Female",
         "65",
         "-105",
         "1995-02-20"
        ],
        [
         "2",
         "Reeba",
         "Wattisham",
         "29",
         "Female",
         "56",
         "304",
         "1988-03-25"
        ],
        [
         "3",
         "Shalom",
         "Alen",
         "29",
         "Male",
         "59",
         "506",
         "2004-09-25"
        ],
        [
         "4",
         "Broddy",
         "Keningham",
         "21",
         "Male",
         "26",
         "145",
         "1970-11-05"
        ],
        [
         "5",
         "Aurelia",
         "Brechin",
         "33",
         "Female",
         "65",
         "No disponible",
         "2001-08-08"
        ]
       ],
       "shape": {
        "columns": 7,
        "rows": 6
       }
      },
      "text/html": [
       "<div>\n",
       "<style scoped>\n",
       "    .dataframe tbody tr th:only-of-type {\n",
       "        vertical-align: middle;\n",
       "    }\n",
       "\n",
       "    .dataframe tbody tr th {\n",
       "        vertical-align: top;\n",
       "    }\n",
       "\n",
       "    .dataframe thead th {\n",
       "        text-align: right;\n",
       "    }\n",
       "</style>\n",
       "<table border=\"1\" class=\"dataframe\">\n",
       "  <thead>\n",
       "    <tr style=\"text-align: right;\">\n",
       "      <th></th>\n",
       "      <th>nombre</th>\n",
       "      <th>apellido</th>\n",
       "      <th>edad</th>\n",
       "      <th>sexo</th>\n",
       "      <th>ventas</th>\n",
       "      <th>codigo</th>\n",
       "      <th>fecha_nac</th>\n",
       "    </tr>\n",
       "  </thead>\n",
       "  <tbody>\n",
       "    <tr>\n",
       "      <th>0</th>\n",
       "      <td>Montgomery</td>\n",
       "      <td>Humes</td>\n",
       "      <td>27</td>\n",
       "      <td>Male</td>\n",
       "      <td>92</td>\n",
       "      <td>236</td>\n",
       "      <td>2000-01-15</td>\n",
       "    </tr>\n",
       "    <tr>\n",
       "      <th>1</th>\n",
       "      <td>Dagmar</td>\n",
       "      <td>Elstow</td>\n",
       "      <td>41</td>\n",
       "      <td>Female</td>\n",
       "      <td>65</td>\n",
       "      <td>-105</td>\n",
       "      <td>1995-02-20</td>\n",
       "    </tr>\n",
       "    <tr>\n",
       "      <th>2</th>\n",
       "      <td>Reeba</td>\n",
       "      <td>Wattisham</td>\n",
       "      <td>29</td>\n",
       "      <td>Female</td>\n",
       "      <td>56</td>\n",
       "      <td>304</td>\n",
       "      <td>1988-03-25</td>\n",
       "    </tr>\n",
       "    <tr>\n",
       "      <th>3</th>\n",
       "      <td>Shalom</td>\n",
       "      <td>Alen</td>\n",
       "      <td>29</td>\n",
       "      <td>Male</td>\n",
       "      <td>59</td>\n",
       "      <td>506</td>\n",
       "      <td>2004-09-25</td>\n",
       "    </tr>\n",
       "    <tr>\n",
       "      <th>4</th>\n",
       "      <td>Broddy</td>\n",
       "      <td>Keningham</td>\n",
       "      <td>21</td>\n",
       "      <td>Male</td>\n",
       "      <td>26</td>\n",
       "      <td>145</td>\n",
       "      <td>1970-11-05</td>\n",
       "    </tr>\n",
       "    <tr>\n",
       "      <th>5</th>\n",
       "      <td>Aurelia</td>\n",
       "      <td>Brechin</td>\n",
       "      <td>33</td>\n",
       "      <td>Female</td>\n",
       "      <td>65</td>\n",
       "      <td>No disponible</td>\n",
       "      <td>2001-08-08</td>\n",
       "    </tr>\n",
       "  </tbody>\n",
       "</table>\n",
       "</div>"
      ],
      "text/plain": [
       "       nombre   apellido  edad    sexo  ventas         codigo   fecha_nac\n",
       "0  Montgomery      Humes    27    Male      92            236  2000-01-15\n",
       "1      Dagmar     Elstow    41  Female      65           -105  1995-02-20\n",
       "2       Reeba  Wattisham    29  Female      56            304  1988-03-25\n",
       "3      Shalom       Alen    29    Male      59            506  2004-09-25\n",
       "4      Broddy  Keningham    21    Male      26            145  1970-11-05\n",
       "5     Aurelia    Brechin    33  Female      65  No disponible  2001-08-08"
      ]
     },
     "execution_count": 6,
     "metadata": {},
     "output_type": "execute_result"
    }
   ],
   "source": [
    "usuarios = {'nombre': ['Montgomery', 'Dagmar', 'Reeba', 'Shalom', 'Broddy', 'Aurelia'],\n",
    "            'apellido': ['Humes', 'Elstow', 'Wattisham', 'Alen', 'Keningham', 'Brechin'],\n",
    "            'edad': [27, 41, 29, 29, 21, 33],\n",
    "            'sexo': ['Male', 'Female', 'Female', 'Male', 'Male', 'Female'],\n",
    "            'ventas': [92, 65, 56, 59, 26, 65],\n",
    "            'codigo':['236', '-105', '304', '506', '145', 'No disponible'],\n",
    "            'fecha_nac': ['2000-01-15', '1995-02-20', '1988-03-25', '2004-09-25', '1970-11-05', '2001-08-08']}\n",
    "df_users = pd.DataFrame(usuarios)\n",
    "df_users"
   ]
  },
  {
   "cell_type": "code",
   "execution_count": 7,
   "id": "d2a0ec29",
   "metadata": {},
   "outputs": [],
   "source": [
    "# Forma 1\n",
    "df_users['sexo'] = df_users['sexo'].str.replace('Male', 'Masculino', regex=False)\n",
    "\n"
   ]
  },
  {
   "cell_type": "code",
   "execution_count": null,
   "id": "bd011cad",
   "metadata": {},
   "outputs": [],
   "source": [
    "# Forma 2\n",
    "df_users.loc[df_users['sexo'] == 'Female', 'sexo'] = 'Femenino'"
   ]
  },
  {
   "cell_type": "code",
   "execution_count": 4,
   "id": "54073f26",
   "metadata": {},
   "outputs": [
    {
     "data": {
      "application/vnd.microsoft.datawrangler.viewer.v0+json": {
       "columns": [
        {
         "name": "index",
         "rawType": "object",
         "type": "string"
        },
        {
         "name": "0",
         "rawType": "object",
         "type": "unknown"
        }
       ],
       "ref": "eb60802f-2244-4f6f-a9e6-a6788f1862ef",
       "rows": [
        [
         "nombre",
         "object"
        ],
        [
         "apellido",
         "object"
        ],
        [
         "edad",
         "int64"
        ],
        [
         "sexo",
         "object"
        ],
        [
         "ventas",
         "int64"
        ],
        [
         "codigo",
         "object"
        ],
        [
         "fecha_nac",
         "object"
        ]
       ],
       "shape": {
        "columns": 1,
        "rows": 7
       }
      },
      "text/plain": [
       "nombre       object\n",
       "apellido     object\n",
       "edad          int64\n",
       "sexo         object\n",
       "ventas        int64\n",
       "codigo       object\n",
       "fecha_nac    object\n",
       "dtype: object"
      ]
     },
     "execution_count": 4,
     "metadata": {},
     "output_type": "execute_result"
    }
   ],
   "source": [
    "df_users.dtypes"
   ]
  },
  {
   "cell_type": "code",
   "execution_count": 8,
   "id": "c19f442b",
   "metadata": {},
   "outputs": [
    {
     "data": {
      "application/vnd.microsoft.datawrangler.viewer.v0+json": {
       "columns": [
        {
         "name": "index",
         "rawType": "int64",
         "type": "integer"
        },
        {
         "name": "nombre",
         "rawType": "object",
         "type": "string"
        },
        {
         "name": "apellido",
         "rawType": "object",
         "type": "string"
        },
        {
         "name": "edad",
         "rawType": "int64",
         "type": "integer"
        },
        {
         "name": "sexo",
         "rawType": "object",
         "type": "string"
        },
        {
         "name": "ventas",
         "rawType": "int64",
         "type": "integer"
        },
        {
         "name": "codigo",
         "rawType": "object",
         "type": "string"
        },
        {
         "name": "fecha_nac",
         "rawType": "object",
         "type": "string"
        }
       ],
       "ref": "623d9c62-a4b6-4986-a3fd-ffd1c5138402",
       "rows": [
        [
         "0",
         "Montgomery",
         "Humes",
         "27",
         "Masculino",
         "92",
         "236",
         "2000-01-15"
        ],
        [
         "1",
         "Dagmar",
         "Elstow",
         "41",
         "Female",
         "65",
         "-105",
         "1995-02-20"
        ],
        [
         "2",
         "Reeba",
         "Wattisham",
         "29",
         "Female",
         "56",
         "304",
         "1988-03-25"
        ],
        [
         "3",
         "Shalom",
         "Alen",
         "29",
         "Masculino",
         "59",
         "506",
         "2004-09-25"
        ],
        [
         "4",
         "Broddy",
         "Keningham",
         "21",
         "Masculino",
         "26",
         "145",
         "1970-11-05"
        ],
        [
         "5",
         "Aurelia",
         "Brechin",
         "33",
         "Female",
         "65",
         "No disponible",
         "2001-08-08"
        ]
       ],
       "shape": {
        "columns": 7,
        "rows": 6
       }
      },
      "text/html": [
       "<div>\n",
       "<style scoped>\n",
       "    .dataframe tbody tr th:only-of-type {\n",
       "        vertical-align: middle;\n",
       "    }\n",
       "\n",
       "    .dataframe tbody tr th {\n",
       "        vertical-align: top;\n",
       "    }\n",
       "\n",
       "    .dataframe thead th {\n",
       "        text-align: right;\n",
       "    }\n",
       "</style>\n",
       "<table border=\"1\" class=\"dataframe\">\n",
       "  <thead>\n",
       "    <tr style=\"text-align: right;\">\n",
       "      <th></th>\n",
       "      <th>nombre</th>\n",
       "      <th>apellido</th>\n",
       "      <th>edad</th>\n",
       "      <th>sexo</th>\n",
       "      <th>ventas</th>\n",
       "      <th>codigo</th>\n",
       "      <th>fecha_nac</th>\n",
       "    </tr>\n",
       "  </thead>\n",
       "  <tbody>\n",
       "    <tr>\n",
       "      <th>0</th>\n",
       "      <td>Montgomery</td>\n",
       "      <td>Humes</td>\n",
       "      <td>27</td>\n",
       "      <td>Masculino</td>\n",
       "      <td>92</td>\n",
       "      <td>236</td>\n",
       "      <td>2000-01-15</td>\n",
       "    </tr>\n",
       "    <tr>\n",
       "      <th>1</th>\n",
       "      <td>Dagmar</td>\n",
       "      <td>Elstow</td>\n",
       "      <td>41</td>\n",
       "      <td>Female</td>\n",
       "      <td>65</td>\n",
       "      <td>-105</td>\n",
       "      <td>1995-02-20</td>\n",
       "    </tr>\n",
       "    <tr>\n",
       "      <th>2</th>\n",
       "      <td>Reeba</td>\n",
       "      <td>Wattisham</td>\n",
       "      <td>29</td>\n",
       "      <td>Female</td>\n",
       "      <td>56</td>\n",
       "      <td>304</td>\n",
       "      <td>1988-03-25</td>\n",
       "    </tr>\n",
       "    <tr>\n",
       "      <th>3</th>\n",
       "      <td>Shalom</td>\n",
       "      <td>Alen</td>\n",
       "      <td>29</td>\n",
       "      <td>Masculino</td>\n",
       "      <td>59</td>\n",
       "      <td>506</td>\n",
       "      <td>2004-09-25</td>\n",
       "    </tr>\n",
       "    <tr>\n",
       "      <th>4</th>\n",
       "      <td>Broddy</td>\n",
       "      <td>Keningham</td>\n",
       "      <td>21</td>\n",
       "      <td>Masculino</td>\n",
       "      <td>26</td>\n",
       "      <td>145</td>\n",
       "      <td>1970-11-05</td>\n",
       "    </tr>\n",
       "    <tr>\n",
       "      <th>5</th>\n",
       "      <td>Aurelia</td>\n",
       "      <td>Brechin</td>\n",
       "      <td>33</td>\n",
       "      <td>Female</td>\n",
       "      <td>65</td>\n",
       "      <td>No disponible</td>\n",
       "      <td>2001-08-08</td>\n",
       "    </tr>\n",
       "  </tbody>\n",
       "</table>\n",
       "</div>"
      ],
      "text/plain": [
       "       nombre   apellido  edad       sexo  ventas         codigo   fecha_nac\n",
       "0  Montgomery      Humes    27  Masculino      92            236  2000-01-15\n",
       "1      Dagmar     Elstow    41     Female      65           -105  1995-02-20\n",
       "2       Reeba  Wattisham    29     Female      56            304  1988-03-25\n",
       "3      Shalom       Alen    29  Masculino      59            506  2004-09-25\n",
       "4      Broddy  Keningham    21  Masculino      26            145  1970-11-05\n",
       "5     Aurelia    Brechin    33     Female      65  No disponible  2001-08-08"
      ]
     },
     "execution_count": 8,
     "metadata": {},
     "output_type": "execute_result"
    }
   ],
   "source": [
    "df_users"
   ]
  }
 ],
 "metadata": {
  "kernelspec": {
   "display_name": "Python 3",
   "language": "python",
   "name": "python3"
  },
  "language_info": {
   "codemirror_mode": {
    "name": "ipython",
    "version": 3
   },
   "file_extension": ".py",
   "mimetype": "text/x-python",
   "name": "python",
   "nbconvert_exporter": "python",
   "pygments_lexer": "ipython3",
   "version": "3.13.7"
  }
 },
 "nbformat": 4,
 "nbformat_minor": 5
}
