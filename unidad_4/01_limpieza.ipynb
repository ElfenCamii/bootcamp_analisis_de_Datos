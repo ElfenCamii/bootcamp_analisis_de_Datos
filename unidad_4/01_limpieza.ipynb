{
 "cells": [
  {
   "cell_type": "code",
   "execution_count": 3,
   "id": "310613af",
   "metadata": {},
   "outputs": [],
   "source": [
    "import pandas as pd\n",
    "import numpy as np"
   ]
  },
  {
   "cell_type": "code",
   "execution_count": 11,
   "id": "787f996a",
   "metadata": {},
   "outputs": [
    {
     "data": {
      "application/vnd.microsoft.datawrangler.viewer.v0+json": {
       "columns": [
        {
         "name": "index",
         "rawType": "int64",
         "type": "integer"
        },
        {
         "name": "month",
         "rawType": "int64",
         "type": "integer"
        },
        {
         "name": "day",
         "rawType": "int64",
         "type": "integer"
        },
        {
         "name": "year",
         "rawType": "int64",
         "type": "integer"
        },
        {
         "name": "plot_id",
         "rawType": "int64",
         "type": "integer"
        },
        {
         "name": "species_id",
         "rawType": "object",
         "type": "string"
        },
        {
         "name": "sex",
         "rawType": "object",
         "type": "unknown"
        },
        {
         "name": "hindfoot_length",
         "rawType": "float64",
         "type": "float"
        },
        {
         "name": "weight",
         "rawType": "float64",
         "type": "float"
        }
       ],
       "ref": "b7dcfb7a-6dfc-40aa-8e75-e29b7fc4970e",
       "rows": [
        [
         "0",
         "8",
         "19",
         "1977",
         "3",
         "DM",
         "M",
         "35.0",
         "40.0"
        ],
        [
         "1",
         "8",
         "19",
         "1977",
         "7",
         "DM",
         "M",
         "37.0",
         "48.0"
        ],
        [
         "2",
         "8",
         "19",
         "1977",
         "4",
         "DM",
         "F",
         "34.0",
         "29.0"
        ],
        [
         "3",
         "8",
         "19",
         "1977",
         "4",
         "DM",
         "F",
         "35.0",
         "46.0"
        ],
        [
         "4",
         "8",
         "19",
         "1977",
         "7",
         "DM",
         "M",
         "35.0",
         "36.0"
        ],
        [
         "5",
         "8",
         "19",
         "1977",
         "8",
         "DO",
         "F",
         "32.0",
         "52.0"
        ],
        [
         "6",
         "8",
         "19",
         "1977",
         "2",
         "PF",
         "M",
         "15.0",
         "8.0"
        ],
        [
         "7",
         "8",
         "19",
         "1977",
         "3",
         "OX",
         "F",
         "21.0",
         "22.0"
        ],
        [
         "8",
         "8",
         "19",
         "1977",
         "7",
         "DM",
         "F",
         "36.0",
         "35.0"
        ],
        [
         "9",
         "8",
         "19",
         "1977",
         "2",
         "NL",
         "M",
         "31.0",
         null
        ],
        [
         "10",
         "8",
         "19",
         "1977",
         "3",
         "DS",
         "F",
         "44.0",
         null
        ],
        [
         "11",
         "8",
         "19",
         "1977",
         "8",
         "PF",
         "M",
         "12.0",
         "7.0"
        ],
        [
         "12",
         "8",
         "19",
         "1977",
         "8",
         "DM",
         "F",
         "32.0",
         "22.0"
        ],
        [
         "13",
         "8",
         "19",
         "1977",
         "9",
         "DS",
         "F",
         "47.0",
         null
        ],
        [
         "14",
         "8",
         "19",
         "1977",
         "4",
         "SS",
         null,
         null,
         null
        ],
        [
         "15",
         "8",
         "19",
         "1977",
         "4",
         "DM",
         "F",
         "34.0",
         "29.0"
        ],
        [
         "16",
         "8",
         "19",
         "1977",
         "7",
         "DM",
         "F",
         "34.0",
         "42.0"
        ],
        [
         "17",
         "8",
         "19",
         "1977",
         "1",
         "DS",
         "M",
         "48.0",
         null
        ],
        [
         "18",
         "8",
         "19",
         "1977",
         "4",
         "PF",
         "F",
         "14.0",
         "8.0"
        ],
        [
         "19",
         "8",
         "19",
         "1977",
         "4",
         "DM",
         "F",
         "35.0",
         "41.0"
        ],
        [
         "20",
         "8",
         "20",
         "1977",
         "6",
         "DM",
         "F",
         "37.0",
         "37.0"
        ],
        [
         "21",
         "8",
         "20",
         "1977",
         "19",
         "DM",
         "F",
         "35.0",
         "43.0"
        ],
        [
         "22",
         "8",
         "20",
         "1977",
         "23",
         "DM",
         "F",
         "35.0",
         "41.0"
        ],
        [
         "23",
         "8",
         "20",
         "1977",
         "19",
         "DM",
         "F",
         "35.0",
         "43.0"
        ],
        [
         "24",
         "8",
         "20",
         "1977",
         "5",
         "PF",
         "F",
         "11.0",
         "9.0"
        ],
        [
         "25",
         "8",
         "20",
         "1977",
         "18",
         "DM",
         "F",
         "35.0",
         "45.0"
        ],
        [
         "26",
         "8",
         "20",
         "1977",
         "12",
         "PP",
         "F",
         "20.0",
         "15.0"
        ],
        [
         "27",
         "8",
         "20",
         "1977",
         "18",
         "DM",
         "M",
         "35.0",
         "29.0"
        ],
        [
         "28",
         "8",
         "20",
         "1977",
         "11",
         "DS",
         "F",
         "50.0",
         null
        ],
        [
         "29",
         "8",
         "20",
         "1977",
         "6",
         "DM",
         "M",
         "35.0",
         "39.0"
        ],
        [
         "30",
         "8",
         "20",
         "1977",
         "18",
         "DM",
         null,
         null,
         "42.0"
        ],
        [
         "31",
         "8",
         "20",
         "1977",
         "12",
         "PP",
         "F",
         "20.0",
         "15.0"
        ],
        [
         "32",
         "8",
         "20",
         "1977",
         "23",
         "DM",
         "M",
         "38.0",
         "46.0"
        ],
        [
         "33",
         "8",
         "20",
         "1977",
         "12",
         "DM",
         "M",
         "36.0",
         "41.0"
        ],
        [
         "34",
         "8",
         "20",
         "1977",
         "18",
         "DM",
         "M",
         "36.0",
         "41.0"
        ],
        [
         "35",
         "8",
         "20",
         "1977",
         "5",
         "DM",
         "M",
         "38.0",
         "40.0"
        ],
        [
         "36",
         "8",
         "20",
         "1977",
         "11",
         "DM",
         "M",
         "37.0",
         "45.0"
        ],
        [
         "37",
         "8",
         "20",
         "1977",
         "5",
         "DS",
         "F",
         "54.0",
         null
        ],
        [
         "38",
         "8",
         "20",
         "1977",
         "23",
         "DM",
         "M",
         "38.0",
         "46.0"
        ],
        [
         "39",
         "8",
         "20",
         "1977",
         "23",
         "DM",
         "F",
         "35.0",
         "40.0"
        ],
        [
         "40",
         "8",
         "20",
         "1977",
         "18",
         "DM",
         "F",
         "35.0",
         "30.0"
        ],
        [
         "41",
         "8",
         "20",
         "1977",
         "11",
         "DS",
         "M",
         "43.0",
         null
        ],
        [
         "42",
         "8",
         "20",
         "1977",
         "19",
         "DM",
         "M",
         "35.0",
         "39.0"
        ],
        [
         "43",
         "8",
         "20",
         "1977",
         "12",
         "NL",
         null,
         null,
         null
        ],
        [
         "44",
         "8",
         "20",
         "1977",
         "18",
         "NL",
         null,
         null,
         null
        ],
        [
         "45",
         "8",
         "20",
         "1977",
         "11",
         "PP",
         "M",
         "21.0",
         null
        ],
        [
         "46",
         "8",
         "20",
         "1977",
         "6",
         "DM",
         "M",
         "35.0",
         "34.0"
        ],
        [
         "47",
         "8",
         "20",
         "1977",
         "10",
         "DS",
         null,
         null,
         null
        ],
        [
         "48",
         "8",
         "20",
         "1977",
         "11",
         "DM",
         "F",
         "37.0",
         "42.0"
        ],
        [
         "49",
         "8",
         "20",
         "1977",
         "23",
         "DM",
         "M",
         "37.0",
         "42.0"
        ]
       ],
       "shape": {
        "columns": 8,
        "rows": 100
       }
      },
      "text/html": [
       "<div>\n",
       "<style scoped>\n",
       "    .dataframe tbody tr th:only-of-type {\n",
       "        vertical-align: middle;\n",
       "    }\n",
       "\n",
       "    .dataframe tbody tr th {\n",
       "        vertical-align: top;\n",
       "    }\n",
       "\n",
       "    .dataframe thead th {\n",
       "        text-align: right;\n",
       "    }\n",
       "</style>\n",
       "<table border=\"1\" class=\"dataframe\">\n",
       "  <thead>\n",
       "    <tr style=\"text-align: right;\">\n",
       "      <th></th>\n",
       "      <th>month</th>\n",
       "      <th>day</th>\n",
       "      <th>year</th>\n",
       "      <th>plot_id</th>\n",
       "      <th>species_id</th>\n",
       "      <th>sex</th>\n",
       "      <th>hindfoot_length</th>\n",
       "      <th>weight</th>\n",
       "    </tr>\n",
       "  </thead>\n",
       "  <tbody>\n",
       "    <tr>\n",
       "      <th>0</th>\n",
       "      <td>8</td>\n",
       "      <td>19</td>\n",
       "      <td>1977</td>\n",
       "      <td>3</td>\n",
       "      <td>DM</td>\n",
       "      <td>M</td>\n",
       "      <td>35.0</td>\n",
       "      <td>40.0</td>\n",
       "    </tr>\n",
       "    <tr>\n",
       "      <th>1</th>\n",
       "      <td>8</td>\n",
       "      <td>19</td>\n",
       "      <td>1977</td>\n",
       "      <td>7</td>\n",
       "      <td>DM</td>\n",
       "      <td>M</td>\n",
       "      <td>37.0</td>\n",
       "      <td>48.0</td>\n",
       "    </tr>\n",
       "    <tr>\n",
       "      <th>2</th>\n",
       "      <td>8</td>\n",
       "      <td>19</td>\n",
       "      <td>1977</td>\n",
       "      <td>4</td>\n",
       "      <td>DM</td>\n",
       "      <td>F</td>\n",
       "      <td>34.0</td>\n",
       "      <td>29.0</td>\n",
       "    </tr>\n",
       "    <tr>\n",
       "      <th>3</th>\n",
       "      <td>8</td>\n",
       "      <td>19</td>\n",
       "      <td>1977</td>\n",
       "      <td>4</td>\n",
       "      <td>DM</td>\n",
       "      <td>F</td>\n",
       "      <td>35.0</td>\n",
       "      <td>46.0</td>\n",
       "    </tr>\n",
       "    <tr>\n",
       "      <th>4</th>\n",
       "      <td>8</td>\n",
       "      <td>19</td>\n",
       "      <td>1977</td>\n",
       "      <td>7</td>\n",
       "      <td>DM</td>\n",
       "      <td>M</td>\n",
       "      <td>35.0</td>\n",
       "      <td>36.0</td>\n",
       "    </tr>\n",
       "    <tr>\n",
       "      <th>...</th>\n",
       "      <td>...</td>\n",
       "      <td>...</td>\n",
       "      <td>...</td>\n",
       "      <td>...</td>\n",
       "      <td>...</td>\n",
       "      <td>...</td>\n",
       "      <td>...</td>\n",
       "      <td>...</td>\n",
       "    </tr>\n",
       "    <tr>\n",
       "      <th>95</th>\n",
       "      <td>1</td>\n",
       "      <td>12</td>\n",
       "      <td>1983</td>\n",
       "      <td>12</td>\n",
       "      <td>DM</td>\n",
       "      <td>M</td>\n",
       "      <td>35.0</td>\n",
       "      <td>44.0</td>\n",
       "    </tr>\n",
       "    <tr>\n",
       "      <th>96</th>\n",
       "      <td>1</td>\n",
       "      <td>12</td>\n",
       "      <td>1983</td>\n",
       "      <td>20</td>\n",
       "      <td>RM</td>\n",
       "      <td>F</td>\n",
       "      <td>16.0</td>\n",
       "      <td>8.0</td>\n",
       "    </tr>\n",
       "    <tr>\n",
       "      <th>97</th>\n",
       "      <td>1</td>\n",
       "      <td>12</td>\n",
       "      <td>1983</td>\n",
       "      <td>13</td>\n",
       "      <td>DS</td>\n",
       "      <td>M</td>\n",
       "      <td>49.0</td>\n",
       "      <td>125.0</td>\n",
       "    </tr>\n",
       "    <tr>\n",
       "      <th>98</th>\n",
       "      <td>1</td>\n",
       "      <td>12</td>\n",
       "      <td>1983</td>\n",
       "      <td>14</td>\n",
       "      <td>DM</td>\n",
       "      <td>M</td>\n",
       "      <td>35.0</td>\n",
       "      <td>40.0</td>\n",
       "    </tr>\n",
       "    <tr>\n",
       "      <th>99</th>\n",
       "      <td>1</td>\n",
       "      <td>12</td>\n",
       "      <td>1983</td>\n",
       "      <td>24</td>\n",
       "      <td>DM</td>\n",
       "      <td>M</td>\n",
       "      <td>37.0</td>\n",
       "      <td>42.0</td>\n",
       "    </tr>\n",
       "  </tbody>\n",
       "</table>\n",
       "<p>100 rows × 8 columns</p>\n",
       "</div>"
      ],
      "text/plain": [
       "    month  day  year  plot_id species_id sex  hindfoot_length  weight\n",
       "0       8   19  1977        3         DM   M             35.0    40.0\n",
       "1       8   19  1977        7         DM   M             37.0    48.0\n",
       "2       8   19  1977        4         DM   F             34.0    29.0\n",
       "3       8   19  1977        4         DM   F             35.0    46.0\n",
       "4       8   19  1977        7         DM   M             35.0    36.0\n",
       "..    ...  ...   ...      ...        ...  ..              ...     ...\n",
       "95      1   12  1983       12         DM   M             35.0    44.0\n",
       "96      1   12  1983       20         RM   F             16.0     8.0\n",
       "97      1   12  1983       13         DS   M             49.0   125.0\n",
       "98      1   12  1983       14         DM   M             35.0    40.0\n",
       "99      1   12  1983       24         DM   M             37.0    42.0\n",
       "\n",
       "[100 rows x 8 columns]"
      ]
     },
     "execution_count": 11,
     "metadata": {},
     "output_type": "execute_result"
    }
   ],
   "source": [
    "df_limpieza = pd.read_csv('../documentos/Limpieza_100.csv', sep=';')\n",
    "df_limpieza"
   ]
  },
  {
   "cell_type": "code",
   "execution_count": 5,
   "id": "58ed811d",
   "metadata": {},
   "outputs": [
    {
     "name": "stdout",
     "output_type": "stream",
     "text": [
      "<class 'pandas.core.frame.DataFrame'>\n",
      "RangeIndex: 100 entries, 0 to 99\n",
      "Data columns (total 8 columns):\n",
      " #   Column           Non-Null Count  Dtype  \n",
      "---  ------           --------------  -----  \n",
      " 0   month            100 non-null    int64  \n",
      " 1   day              100 non-null    int64  \n",
      " 2   year             100 non-null    int64  \n",
      " 3   plot_id          100 non-null    int64  \n",
      " 4   species_id       100 non-null    object \n",
      " 5   sex              83 non-null     object \n",
      " 6   hindfoot_length  82 non-null     float64\n",
      " 7   weight           73 non-null     float64\n",
      "dtypes: float64(2), int64(4), object(2)\n",
      "memory usage: 6.4+ KB\n"
     ]
    }
   ],
   "source": [
    "df_limpieza.info()"
   ]
  },
  {
   "cell_type": "code",
   "execution_count": 8,
   "id": "51f0d56c",
   "metadata": {},
   "outputs": [
    {
     "data": {
      "application/vnd.microsoft.datawrangler.viewer.v0+json": {
       "columns": [
        {
         "name": "index",
         "rawType": "int64",
         "type": "integer"
        },
        {
         "name": "sex",
         "rawType": "bool",
         "type": "boolean"
        }
       ],
       "ref": "b3c2b9c6-e214-4c5b-afdc-fbc63a000a36",
       "rows": [
        [
         "55",
         "False"
        ],
        [
         "93",
         "False"
        ],
        [
         "59",
         "False"
        ],
        [
         "31",
         "False"
        ],
        [
         "97",
         "False"
        ],
        [
         "43",
         "True"
        ],
        [
         "99",
         "False"
        ],
        [
         "36",
         "False"
        ],
        [
         "49",
         "False"
        ],
        [
         "37",
         "False"
        ]
       ],
       "shape": {
        "columns": 1,
        "rows": 10
       }
      },
      "text/plain": [
       "55    False\n",
       "93    False\n",
       "59    False\n",
       "31    False\n",
       "97    False\n",
       "43     True\n",
       "99    False\n",
       "36    False\n",
       "49    False\n",
       "37    False\n",
       "Name: sex, dtype: bool"
      ]
     },
     "execution_count": 8,
     "metadata": {},
     "output_type": "execute_result"
    }
   ],
   "source": [
    "# Identificación\n",
    "df_limpieza.isnull()\n",
    "df_limpieza['sex'].isnull().sample(10)"
   ]
  },
  {
   "cell_type": "code",
   "execution_count": 6,
   "id": "f5e097c9",
   "metadata": {},
   "outputs": [
    {
     "data": {
      "application/vnd.microsoft.datawrangler.viewer.v0+json": {
       "columns": [
        {
         "name": "index",
         "rawType": "object",
         "type": "string"
        },
        {
         "name": "0",
         "rawType": "int64",
         "type": "integer"
        }
       ],
       "ref": "625a2fe5-411f-4b38-9228-248fc6b1850a",
       "rows": [
        [
         "month",
         "0"
        ],
        [
         "day",
         "0"
        ],
        [
         "year",
         "0"
        ],
        [
         "plot_id",
         "0"
        ],
        [
         "species_id",
         "0"
        ],
        [
         "sex",
         "17"
        ],
        [
         "hindfoot_length",
         "18"
        ],
        [
         "weight",
         "27"
        ]
       ],
       "shape": {
        "columns": 1,
        "rows": 8
       }
      },
      "text/plain": [
       "month               0\n",
       "day                 0\n",
       "year                0\n",
       "plot_id             0\n",
       "species_id          0\n",
       "sex                17\n",
       "hindfoot_length    18\n",
       "weight             27\n",
       "dtype: int64"
      ]
     },
     "execution_count": 6,
     "metadata": {},
     "output_type": "execute_result"
    }
   ],
   "source": [
    "# Conteo de nulos\n",
    "df_limpieza.isnull().sum()"
   ]
  },
  {
   "cell_type": "code",
   "execution_count": 7,
   "id": "7747f708",
   "metadata": {},
   "outputs": [],
   "source": [
    "###\n",
    "# Eliminación\n",
    "###\n",
    "\n",
    "# Todo\n",
    "df_limpieza.dropna(inplace=True)"
   ]
  },
  {
   "cell_type": "code",
   "execution_count": 14,
   "id": "11d32e59",
   "metadata": {},
   "outputs": [
    {
     "data": {
      "application/vnd.microsoft.datawrangler.viewer.v0+json": {
       "columns": [
        {
         "name": "index",
         "rawType": "int64",
         "type": "integer"
        },
        {
         "name": "month",
         "rawType": "int64",
         "type": "integer"
        },
        {
         "name": "day",
         "rawType": "int64",
         "type": "integer"
        },
        {
         "name": "year",
         "rawType": "int64",
         "type": "integer"
        },
        {
         "name": "plot_id",
         "rawType": "int64",
         "type": "integer"
        },
        {
         "name": "species_id",
         "rawType": "object",
         "type": "string"
        }
       ],
       "ref": "208d1004-5450-433d-ae62-012c7e4a9481",
       "rows": [
        [
         "0",
         "8",
         "19",
         "1977",
         "3",
         "DM"
        ],
        [
         "1",
         "8",
         "19",
         "1977",
         "7",
         "DM"
        ],
        [
         "2",
         "8",
         "19",
         "1977",
         "4",
         "DM"
        ],
        [
         "3",
         "8",
         "19",
         "1977",
         "4",
         "DM"
        ],
        [
         "4",
         "8",
         "19",
         "1977",
         "7",
         "DM"
        ],
        [
         "5",
         "8",
         "19",
         "1977",
         "8",
         "DO"
        ],
        [
         "6",
         "8",
         "19",
         "1977",
         "2",
         "PF"
        ],
        [
         "7",
         "8",
         "19",
         "1977",
         "3",
         "OX"
        ],
        [
         "8",
         "8",
         "19",
         "1977",
         "7",
         "DM"
        ],
        [
         "9",
         "8",
         "19",
         "1977",
         "2",
         "NL"
        ],
        [
         "10",
         "8",
         "19",
         "1977",
         "3",
         "DS"
        ],
        [
         "11",
         "8",
         "19",
         "1977",
         "8",
         "PF"
        ],
        [
         "12",
         "8",
         "19",
         "1977",
         "8",
         "DM"
        ],
        [
         "13",
         "8",
         "19",
         "1977",
         "9",
         "DS"
        ],
        [
         "14",
         "8",
         "19",
         "1977",
         "4",
         "SS"
        ],
        [
         "15",
         "8",
         "19",
         "1977",
         "4",
         "DM"
        ],
        [
         "16",
         "8",
         "19",
         "1977",
         "7",
         "DM"
        ],
        [
         "17",
         "8",
         "19",
         "1977",
         "1",
         "DS"
        ],
        [
         "18",
         "8",
         "19",
         "1977",
         "4",
         "PF"
        ],
        [
         "19",
         "8",
         "19",
         "1977",
         "4",
         "DM"
        ],
        [
         "20",
         "8",
         "20",
         "1977",
         "6",
         "DM"
        ],
        [
         "21",
         "8",
         "20",
         "1977",
         "19",
         "DM"
        ],
        [
         "22",
         "8",
         "20",
         "1977",
         "23",
         "DM"
        ],
        [
         "23",
         "8",
         "20",
         "1977",
         "19",
         "DM"
        ],
        [
         "24",
         "8",
         "20",
         "1977",
         "5",
         "PF"
        ],
        [
         "25",
         "8",
         "20",
         "1977",
         "18",
         "DM"
        ],
        [
         "26",
         "8",
         "20",
         "1977",
         "12",
         "PP"
        ],
        [
         "27",
         "8",
         "20",
         "1977",
         "18",
         "DM"
        ],
        [
         "28",
         "8",
         "20",
         "1977",
         "11",
         "DS"
        ],
        [
         "29",
         "8",
         "20",
         "1977",
         "6",
         "DM"
        ],
        [
         "30",
         "8",
         "20",
         "1977",
         "18",
         "DM"
        ],
        [
         "31",
         "8",
         "20",
         "1977",
         "12",
         "PP"
        ],
        [
         "32",
         "8",
         "20",
         "1977",
         "23",
         "DM"
        ],
        [
         "33",
         "8",
         "20",
         "1977",
         "12",
         "DM"
        ],
        [
         "34",
         "8",
         "20",
         "1977",
         "18",
         "DM"
        ],
        [
         "35",
         "8",
         "20",
         "1977",
         "5",
         "DM"
        ],
        [
         "36",
         "8",
         "20",
         "1977",
         "11",
         "DM"
        ],
        [
         "37",
         "8",
         "20",
         "1977",
         "5",
         "DS"
        ],
        [
         "38",
         "8",
         "20",
         "1977",
         "23",
         "DM"
        ],
        [
         "39",
         "8",
         "20",
         "1977",
         "23",
         "DM"
        ],
        [
         "40",
         "8",
         "20",
         "1977",
         "18",
         "DM"
        ],
        [
         "41",
         "8",
         "20",
         "1977",
         "11",
         "DS"
        ],
        [
         "42",
         "8",
         "20",
         "1977",
         "19",
         "DM"
        ],
        [
         "43",
         "8",
         "20",
         "1977",
         "12",
         "NL"
        ],
        [
         "44",
         "8",
         "20",
         "1977",
         "18",
         "NL"
        ],
        [
         "45",
         "8",
         "20",
         "1977",
         "11",
         "PP"
        ],
        [
         "46",
         "8",
         "20",
         "1977",
         "6",
         "DM"
        ],
        [
         "47",
         "8",
         "20",
         "1977",
         "10",
         "DS"
        ],
        [
         "48",
         "8",
         "20",
         "1977",
         "11",
         "DM"
        ],
        [
         "49",
         "8",
         "20",
         "1977",
         "23",
         "DM"
        ]
       ],
       "shape": {
        "columns": 5,
        "rows": 100
       }
      },
      "text/html": [
       "<div>\n",
       "<style scoped>\n",
       "    .dataframe tbody tr th:only-of-type {\n",
       "        vertical-align: middle;\n",
       "    }\n",
       "\n",
       "    .dataframe tbody tr th {\n",
       "        vertical-align: top;\n",
       "    }\n",
       "\n",
       "    .dataframe thead th {\n",
       "        text-align: right;\n",
       "    }\n",
       "</style>\n",
       "<table border=\"1\" class=\"dataframe\">\n",
       "  <thead>\n",
       "    <tr style=\"text-align: right;\">\n",
       "      <th></th>\n",
       "      <th>month</th>\n",
       "      <th>day</th>\n",
       "      <th>year</th>\n",
       "      <th>plot_id</th>\n",
       "      <th>species_id</th>\n",
       "    </tr>\n",
       "  </thead>\n",
       "  <tbody>\n",
       "    <tr>\n",
       "      <th>0</th>\n",
       "      <td>8</td>\n",
       "      <td>19</td>\n",
       "      <td>1977</td>\n",
       "      <td>3</td>\n",
       "      <td>DM</td>\n",
       "    </tr>\n",
       "    <tr>\n",
       "      <th>1</th>\n",
       "      <td>8</td>\n",
       "      <td>19</td>\n",
       "      <td>1977</td>\n",
       "      <td>7</td>\n",
       "      <td>DM</td>\n",
       "    </tr>\n",
       "    <tr>\n",
       "      <th>2</th>\n",
       "      <td>8</td>\n",
       "      <td>19</td>\n",
       "      <td>1977</td>\n",
       "      <td>4</td>\n",
       "      <td>DM</td>\n",
       "    </tr>\n",
       "    <tr>\n",
       "      <th>3</th>\n",
       "      <td>8</td>\n",
       "      <td>19</td>\n",
       "      <td>1977</td>\n",
       "      <td>4</td>\n",
       "      <td>DM</td>\n",
       "    </tr>\n",
       "    <tr>\n",
       "      <th>4</th>\n",
       "      <td>8</td>\n",
       "      <td>19</td>\n",
       "      <td>1977</td>\n",
       "      <td>7</td>\n",
       "      <td>DM</td>\n",
       "    </tr>\n",
       "    <tr>\n",
       "      <th>...</th>\n",
       "      <td>...</td>\n",
       "      <td>...</td>\n",
       "      <td>...</td>\n",
       "      <td>...</td>\n",
       "      <td>...</td>\n",
       "    </tr>\n",
       "    <tr>\n",
       "      <th>95</th>\n",
       "      <td>1</td>\n",
       "      <td>12</td>\n",
       "      <td>1983</td>\n",
       "      <td>12</td>\n",
       "      <td>DM</td>\n",
       "    </tr>\n",
       "    <tr>\n",
       "      <th>96</th>\n",
       "      <td>1</td>\n",
       "      <td>12</td>\n",
       "      <td>1983</td>\n",
       "      <td>20</td>\n",
       "      <td>RM</td>\n",
       "    </tr>\n",
       "    <tr>\n",
       "      <th>97</th>\n",
       "      <td>1</td>\n",
       "      <td>12</td>\n",
       "      <td>1983</td>\n",
       "      <td>13</td>\n",
       "      <td>DS</td>\n",
       "    </tr>\n",
       "    <tr>\n",
       "      <th>98</th>\n",
       "      <td>1</td>\n",
       "      <td>12</td>\n",
       "      <td>1983</td>\n",
       "      <td>14</td>\n",
       "      <td>DM</td>\n",
       "    </tr>\n",
       "    <tr>\n",
       "      <th>99</th>\n",
       "      <td>1</td>\n",
       "      <td>12</td>\n",
       "      <td>1983</td>\n",
       "      <td>24</td>\n",
       "      <td>DM</td>\n",
       "    </tr>\n",
       "  </tbody>\n",
       "</table>\n",
       "<p>100 rows × 5 columns</p>\n",
       "</div>"
      ],
      "text/plain": [
       "    month  day  year  plot_id species_id\n",
       "0       8   19  1977        3         DM\n",
       "1       8   19  1977        7         DM\n",
       "2       8   19  1977        4         DM\n",
       "3       8   19  1977        4         DM\n",
       "4       8   19  1977        7         DM\n",
       "..    ...  ...   ...      ...        ...\n",
       "95      1   12  1983       12         DM\n",
       "96      1   12  1983       20         RM\n",
       "97      1   12  1983       13         DS\n",
       "98      1   12  1983       14         DM\n",
       "99      1   12  1983       24         DM\n",
       "\n",
       "[100 rows x 5 columns]"
      ]
     },
     "execution_count": 14,
     "metadata": {},
     "output_type": "execute_result"
    }
   ],
   "source": [
    "# Eliminación de columnas que contengan al menos un dato nulo\n",
    "df_sin_con_null = df_limpieza.dropna(axis=1)\n",
    "df_sin_con_null"
   ]
  },
  {
   "cell_type": "code",
   "execution_count": null,
   "id": "f538521c",
   "metadata": {},
   "outputs": [
    {
     "data": {
      "application/vnd.microsoft.datawrangler.viewer.v0+json": {
       "columns": [
        {
         "name": "index",
         "rawType": "object",
         "type": "string"
        },
        {
         "name": "0",
         "rawType": "int64",
         "type": "integer"
        }
       ],
       "ref": "47700ad1-6569-45e4-aa25-87641e7645be",
       "rows": [
        [
         "month",
         "0"
        ],
        [
         "day",
         "0"
        ],
        [
         "year",
         "0"
        ],
        [
         "plot_id",
         "0"
        ],
        [
         "species_id",
         "0"
        ],
        [
         "sex",
         "0"
        ],
        [
         "hindfoot_length",
         "1"
        ],
        [
         "weight",
         "11"
        ]
       ],
       "shape": {
        "columns": 1,
        "rows": 8
       }
      },
      "text/plain": [
       "month               0\n",
       "day                 0\n",
       "year                0\n",
       "plot_id             0\n",
       "species_id          0\n",
       "sex                 0\n",
       "hindfoot_length     1\n",
       "weight             11\n",
       "dtype: int64"
      ]
     },
     "execution_count": 18,
     "metadata": {},
     "output_type": "execute_result"
    }
   ],
   "source": [
    "# Eliminar nulos por columna \n",
    "df_sex_sin_null = df_limpieza.dropna(subset=['sex'])    # .dropna(subset['']) elimina los nulls de la columna que le digamos\n",
    "df_sex_sin_null.isnull().sum()"
   ]
  },
  {
   "cell_type": "markdown",
   "id": "973a4514",
   "metadata": {},
   "source": [
    "### Opciones (como tarea mirar:)\n",
    "\n",
    "- dropna(how='all'): elimina registros donde todas las celdas son Nan\n",
    "- dropna(axis=1, how='all'): elimina columna donde todas las celdas son Nan\n",
    "- dropna(thresh=5): elimina filas donde mínimo 5 son Nan"
   ]
  },
  {
   "cell_type": "code",
   "execution_count": 16,
   "id": "b2e2662f",
   "metadata": {},
   "outputs": [
    {
     "data": {
      "application/vnd.microsoft.datawrangler.viewer.v0+json": {
       "columns": [
        {
         "name": "index",
         "rawType": "object",
         "type": "string"
        },
        {
         "name": "0",
         "rawType": "int64",
         "type": "integer"
        }
       ],
       "ref": "5aa29334-9332-4618-af1c-5dc2768cbdcb",
       "rows": [
        [
         "month",
         "0"
        ],
        [
         "day",
         "0"
        ],
        [
         "year",
         "0"
        ],
        [
         "plot_id",
         "0"
        ],
        [
         "species_id",
         "0"
        ],
        [
         "sex",
         "17"
        ],
        [
         "hindfoot_length",
         "18"
        ],
        [
         "weight",
         "27"
        ]
       ],
       "shape": {
        "columns": 1,
        "rows": 8
       }
      },
      "text/plain": [
       "month               0\n",
       "day                 0\n",
       "year                0\n",
       "plot_id             0\n",
       "species_id          0\n",
       "sex                17\n",
       "hindfoot_length    18\n",
       "weight             27\n",
       "dtype: int64"
      ]
     },
     "execution_count": 16,
     "metadata": {},
     "output_type": "execute_result"
    }
   ],
   "source": [
    "df_limpieza.isnull().sum()  # Me muestra los nulls que hay "
   ]
  },
  {
   "cell_type": "code",
   "execution_count": 13,
   "id": "356269f8",
   "metadata": {},
   "outputs": [
    {
     "name": "stdout",
     "output_type": "stream",
     "text": [
      "<class 'pandas.core.frame.DataFrame'>\n",
      "RangeIndex: 100 entries, 0 to 99\n",
      "Data columns (total 8 columns):\n",
      " #   Column           Non-Null Count  Dtype  \n",
      "---  ------           --------------  -----  \n",
      " 0   month            100 non-null    int64  \n",
      " 1   day              100 non-null    int64  \n",
      " 2   year             100 non-null    int64  \n",
      " 3   plot_id          100 non-null    int64  \n",
      " 4   species_id       100 non-null    object \n",
      " 5   sex              83 non-null     object \n",
      " 6   hindfoot_length  82 non-null     float64\n",
      " 7   weight           73 non-null     float64\n",
      "dtypes: float64(2), int64(4), object(2)\n",
      "memory usage: 6.4+ KB\n"
     ]
    }
   ],
   "source": [
    "df_limpieza.info()"
   ]
  }
 ],
 "metadata": {
  "kernelspec": {
   "display_name": "Python 3",
   "language": "python",
   "name": "python3"
  },
  "language_info": {
   "codemirror_mode": {
    "name": "ipython",
    "version": 3
   },
   "file_extension": ".py",
   "mimetype": "text/x-python",
   "name": "python",
   "nbconvert_exporter": "python",
   "pygments_lexer": "ipython3",
   "version": "3.13.7"
  }
 },
 "nbformat": 4,
 "nbformat_minor": 5
}
