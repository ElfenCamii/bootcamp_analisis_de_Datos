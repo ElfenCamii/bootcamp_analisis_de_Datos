{
 "cells": [
  {
   "cell_type": "code",
   "execution_count": 1,
   "id": "be4875e6",
   "metadata": {},
   "outputs": [],
   "source": [
    "import pandas as pd\n",
    "import numpy as np"
   ]
  },
  {
   "cell_type": "code",
   "execution_count": 53,
   "id": "0849147c",
   "metadata": {},
   "outputs": [
    {
     "data": {
      "application/vnd.microsoft.datawrangler.viewer.v0+json": {
       "columns": [
        {
         "name": "index",
         "rawType": "int64",
         "type": "integer"
        },
        {
         "name": "month",
         "rawType": "int64",
         "type": "integer"
        },
        {
         "name": "day",
         "rawType": "int64",
         "type": "integer"
        },
        {
         "name": "year",
         "rawType": "int64",
         "type": "integer"
        },
        {
         "name": "plot_id",
         "rawType": "int64",
         "type": "integer"
        },
        {
         "name": "species_id",
         "rawType": "object",
         "type": "string"
        },
        {
         "name": "sex",
         "rawType": "object",
         "type": "unknown"
        },
        {
         "name": "hindfoot_length",
         "rawType": "float64",
         "type": "float"
        },
        {
         "name": "weight",
         "rawType": "float64",
         "type": "float"
        }
       ],
       "ref": "88033130-7f37-467b-8b00-96cf49c37bc8",
       "rows": [
        [
         "0",
         "8",
         "19",
         "1977",
         "3",
         "DM",
         "M",
         "35.0",
         "40.0"
        ],
        [
         "1",
         "8",
         "19",
         "1977",
         "7",
         "DM",
         "M",
         "37.0",
         "48.0"
        ],
        [
         "2",
         "8",
         "19",
         "1977",
         "4",
         "DM",
         "F",
         "34.0",
         "29.0"
        ],
        [
         "3",
         "8",
         "19",
         "1977",
         "4",
         "DM",
         "F",
         "35.0",
         "46.0"
        ],
        [
         "4",
         "8",
         "19",
         "1977",
         "7",
         "DM",
         "M",
         "35.0",
         "36.0"
        ],
        [
         "5",
         "8",
         "19",
         "1977",
         "8",
         "DO",
         "F",
         "32.0",
         "52.0"
        ],
        [
         "6",
         "8",
         "19",
         "1977",
         "2",
         "PF",
         "M",
         "15.0",
         "8.0"
        ],
        [
         "7",
         "8",
         "19",
         "1977",
         "3",
         "OX",
         "F",
         "21.0",
         "22.0"
        ],
        [
         "8",
         "8",
         "19",
         "1977",
         "7",
         "DM",
         "F",
         "36.0",
         "35.0"
        ],
        [
         "9",
         "8",
         "19",
         "1977",
         "2",
         "NL",
         "M",
         "31.0",
         null
        ],
        [
         "10",
         "8",
         "19",
         "1977",
         "3",
         "DS",
         "F",
         "44.0",
         null
        ],
        [
         "11",
         "8",
         "19",
         "1977",
         "8",
         "PF",
         "M",
         "12.0",
         "7.0"
        ],
        [
         "12",
         "8",
         "19",
         "1977",
         "8",
         "DM",
         "F",
         "32.0",
         "22.0"
        ],
        [
         "13",
         "8",
         "19",
         "1977",
         "9",
         "DS",
         "F",
         "47.0",
         null
        ],
        [
         "14",
         "8",
         "19",
         "1977",
         "4",
         "SS",
         null,
         null,
         null
        ],
        [
         "15",
         "8",
         "19",
         "1977",
         "4",
         "DM",
         "F",
         "34.0",
         "29.0"
        ],
        [
         "16",
         "8",
         "19",
         "1977",
         "7",
         "DM",
         "F",
         "34.0",
         "42.0"
        ],
        [
         "17",
         "8",
         "19",
         "1977",
         "1",
         "DS",
         "M",
         "48.0",
         null
        ],
        [
         "18",
         "8",
         "19",
         "1977",
         "4",
         "PF",
         "F",
         "14.0",
         "8.0"
        ],
        [
         "19",
         "8",
         "19",
         "1977",
         "4",
         "DM",
         "F",
         "35.0",
         "41.0"
        ],
        [
         "20",
         "8",
         "20",
         "1977",
         "6",
         "DM",
         "F",
         "37.0",
         "37.0"
        ],
        [
         "21",
         "8",
         "20",
         "1977",
         "19",
         "DM",
         "F",
         "35.0",
         "43.0"
        ],
        [
         "22",
         "8",
         "20",
         "1977",
         "23",
         "DM",
         "F",
         "35.0",
         "41.0"
        ],
        [
         "23",
         "8",
         "20",
         "1977",
         "19",
         "DM",
         "F",
         "35.0",
         "43.0"
        ],
        [
         "24",
         "8",
         "20",
         "1977",
         "5",
         "PF",
         "F",
         "11.0",
         "9.0"
        ],
        [
         "25",
         "8",
         "20",
         "1977",
         "18",
         "DM",
         "F",
         "35.0",
         "45.0"
        ],
        [
         "26",
         "8",
         "20",
         "1977",
         "12",
         "PP",
         "F",
         "20.0",
         "15.0"
        ],
        [
         "27",
         "8",
         "20",
         "1977",
         "18",
         "DM",
         "M",
         "35.0",
         "29.0"
        ],
        [
         "28",
         "8",
         "20",
         "1977",
         "11",
         "DS",
         "F",
         "50.0",
         null
        ],
        [
         "29",
         "8",
         "20",
         "1977",
         "6",
         "DM",
         "M",
         "35.0",
         "39.0"
        ],
        [
         "30",
         "8",
         "20",
         "1977",
         "18",
         "DM",
         null,
         null,
         "42.0"
        ],
        [
         "31",
         "8",
         "20",
         "1977",
         "12",
         "PP",
         "F",
         "20.0",
         "15.0"
        ],
        [
         "32",
         "8",
         "20",
         "1977",
         "23",
         "DM",
         "M",
         "38.0",
         "46.0"
        ],
        [
         "33",
         "8",
         "20",
         "1977",
         "12",
         "DM",
         "M",
         "36.0",
         "41.0"
        ],
        [
         "34",
         "8",
         "20",
         "1977",
         "18",
         "DM",
         "M",
         "36.0",
         "41.0"
        ],
        [
         "35",
         "8",
         "20",
         "1977",
         "5",
         "DM",
         "M",
         "38.0",
         "40.0"
        ],
        [
         "36",
         "8",
         "20",
         "1977",
         "11",
         "DM",
         "M",
         "37.0",
         "45.0"
        ],
        [
         "37",
         "8",
         "20",
         "1977",
         "5",
         "DS",
         "F",
         "54.0",
         null
        ],
        [
         "38",
         "8",
         "20",
         "1977",
         "23",
         "DM",
         "M",
         "38.0",
         "46.0"
        ],
        [
         "39",
         "8",
         "20",
         "1977",
         "23",
         "DM",
         "F",
         "35.0",
         "40.0"
        ],
        [
         "40",
         "8",
         "20",
         "1977",
         "18",
         "DM",
         "F",
         "35.0",
         "30.0"
        ],
        [
         "41",
         "8",
         "20",
         "1977",
         "11",
         "DS",
         "M",
         "43.0",
         null
        ],
        [
         "42",
         "8",
         "20",
         "1977",
         "19",
         "DM",
         "M",
         "35.0",
         "39.0"
        ],
        [
         "43",
         "8",
         "20",
         "1977",
         "12",
         "NL",
         null,
         null,
         null
        ],
        [
         "44",
         "8",
         "20",
         "1977",
         "18",
         "NL",
         null,
         null,
         null
        ],
        [
         "45",
         "8",
         "20",
         "1977",
         "11",
         "PP",
         "M",
         "21.0",
         null
        ],
        [
         "46",
         "8",
         "20",
         "1977",
         "6",
         "DM",
         "M",
         "35.0",
         "34.0"
        ],
        [
         "47",
         "8",
         "20",
         "1977",
         "10",
         "DS",
         null,
         null,
         null
        ],
        [
         "48",
         "8",
         "20",
         "1977",
         "11",
         "DM",
         "F",
         "37.0",
         "42.0"
        ],
        [
         "49",
         "8",
         "20",
         "1977",
         "23",
         "DM",
         "M",
         "37.0",
         "42.0"
        ]
       ],
       "shape": {
        "columns": 8,
        "rows": 100
       }
      },
      "text/html": [
       "<div>\n",
       "<style scoped>\n",
       "    .dataframe tbody tr th:only-of-type {\n",
       "        vertical-align: middle;\n",
       "    }\n",
       "\n",
       "    .dataframe tbody tr th {\n",
       "        vertical-align: top;\n",
       "    }\n",
       "\n",
       "    .dataframe thead th {\n",
       "        text-align: right;\n",
       "    }\n",
       "</style>\n",
       "<table border=\"1\" class=\"dataframe\">\n",
       "  <thead>\n",
       "    <tr style=\"text-align: right;\">\n",
       "      <th></th>\n",
       "      <th>month</th>\n",
       "      <th>day</th>\n",
       "      <th>year</th>\n",
       "      <th>plot_id</th>\n",
       "      <th>species_id</th>\n",
       "      <th>sex</th>\n",
       "      <th>hindfoot_length</th>\n",
       "      <th>weight</th>\n",
       "    </tr>\n",
       "  </thead>\n",
       "  <tbody>\n",
       "    <tr>\n",
       "      <th>0</th>\n",
       "      <td>8</td>\n",
       "      <td>19</td>\n",
       "      <td>1977</td>\n",
       "      <td>3</td>\n",
       "      <td>DM</td>\n",
       "      <td>M</td>\n",
       "      <td>35.0</td>\n",
       "      <td>40.0</td>\n",
       "    </tr>\n",
       "    <tr>\n",
       "      <th>1</th>\n",
       "      <td>8</td>\n",
       "      <td>19</td>\n",
       "      <td>1977</td>\n",
       "      <td>7</td>\n",
       "      <td>DM</td>\n",
       "      <td>M</td>\n",
       "      <td>37.0</td>\n",
       "      <td>48.0</td>\n",
       "    </tr>\n",
       "    <tr>\n",
       "      <th>2</th>\n",
       "      <td>8</td>\n",
       "      <td>19</td>\n",
       "      <td>1977</td>\n",
       "      <td>4</td>\n",
       "      <td>DM</td>\n",
       "      <td>F</td>\n",
       "      <td>34.0</td>\n",
       "      <td>29.0</td>\n",
       "    </tr>\n",
       "    <tr>\n",
       "      <th>3</th>\n",
       "      <td>8</td>\n",
       "      <td>19</td>\n",
       "      <td>1977</td>\n",
       "      <td>4</td>\n",
       "      <td>DM</td>\n",
       "      <td>F</td>\n",
       "      <td>35.0</td>\n",
       "      <td>46.0</td>\n",
       "    </tr>\n",
       "    <tr>\n",
       "      <th>4</th>\n",
       "      <td>8</td>\n",
       "      <td>19</td>\n",
       "      <td>1977</td>\n",
       "      <td>7</td>\n",
       "      <td>DM</td>\n",
       "      <td>M</td>\n",
       "      <td>35.0</td>\n",
       "      <td>36.0</td>\n",
       "    </tr>\n",
       "    <tr>\n",
       "      <th>...</th>\n",
       "      <td>...</td>\n",
       "      <td>...</td>\n",
       "      <td>...</td>\n",
       "      <td>...</td>\n",
       "      <td>...</td>\n",
       "      <td>...</td>\n",
       "      <td>...</td>\n",
       "      <td>...</td>\n",
       "    </tr>\n",
       "    <tr>\n",
       "      <th>95</th>\n",
       "      <td>1</td>\n",
       "      <td>12</td>\n",
       "      <td>1983</td>\n",
       "      <td>12</td>\n",
       "      <td>DM</td>\n",
       "      <td>M</td>\n",
       "      <td>35.0</td>\n",
       "      <td>44.0</td>\n",
       "    </tr>\n",
       "    <tr>\n",
       "      <th>96</th>\n",
       "      <td>1</td>\n",
       "      <td>12</td>\n",
       "      <td>1983</td>\n",
       "      <td>20</td>\n",
       "      <td>RM</td>\n",
       "      <td>F</td>\n",
       "      <td>16.0</td>\n",
       "      <td>8.0</td>\n",
       "    </tr>\n",
       "    <tr>\n",
       "      <th>97</th>\n",
       "      <td>1</td>\n",
       "      <td>12</td>\n",
       "      <td>1983</td>\n",
       "      <td>13</td>\n",
       "      <td>DS</td>\n",
       "      <td>M</td>\n",
       "      <td>49.0</td>\n",
       "      <td>125.0</td>\n",
       "    </tr>\n",
       "    <tr>\n",
       "      <th>98</th>\n",
       "      <td>1</td>\n",
       "      <td>12</td>\n",
       "      <td>1983</td>\n",
       "      <td>14</td>\n",
       "      <td>DM</td>\n",
       "      <td>M</td>\n",
       "      <td>35.0</td>\n",
       "      <td>40.0</td>\n",
       "    </tr>\n",
       "    <tr>\n",
       "      <th>99</th>\n",
       "      <td>1</td>\n",
       "      <td>12</td>\n",
       "      <td>1983</td>\n",
       "      <td>24</td>\n",
       "      <td>DM</td>\n",
       "      <td>M</td>\n",
       "      <td>37.0</td>\n",
       "      <td>42.0</td>\n",
       "    </tr>\n",
       "  </tbody>\n",
       "</table>\n",
       "<p>100 rows × 8 columns</p>\n",
       "</div>"
      ],
      "text/plain": [
       "    month  day  year  plot_id species_id sex  hindfoot_length  weight\n",
       "0       8   19  1977        3         DM   M             35.0    40.0\n",
       "1       8   19  1977        7         DM   M             37.0    48.0\n",
       "2       8   19  1977        4         DM   F             34.0    29.0\n",
       "3       8   19  1977        4         DM   F             35.0    46.0\n",
       "4       8   19  1977        7         DM   M             35.0    36.0\n",
       "..    ...  ...   ...      ...        ...  ..              ...     ...\n",
       "95      1   12  1983       12         DM   M             35.0    44.0\n",
       "96      1   12  1983       20         RM   F             16.0     8.0\n",
       "97      1   12  1983       13         DS   M             49.0   125.0\n",
       "98      1   12  1983       14         DM   M             35.0    40.0\n",
       "99      1   12  1983       24         DM   M             37.0    42.0\n",
       "\n",
       "[100 rows x 8 columns]"
      ]
     },
     "execution_count": 53,
     "metadata": {},
     "output_type": "execute_result"
    }
   ],
   "source": [
    "df_limpieza = pd.read_csv('../documentos/Limpieza_100.csv', sep=';')\n",
    "df_limpieza"
   ]
  },
  {
   "cell_type": "code",
   "execution_count": null,
   "id": "aead157a",
   "metadata": {},
   "outputs": [],
   "source": [
    "# Valor constante\n",
    "df_limpieza['sex'] = df_limpieza['sex'].fillna('f')     # Opción 1\n",
    "df_limpieza.fillna({'weight' : 20}, inplace=True)       # Opción 2"
   ]
  },
  {
   "cell_type": "code",
   "execution_count": 32,
   "id": "7838823e",
   "metadata": {},
   "outputs": [],
   "source": [
    "# Valores estadisticos o calculados (Reemplaza los nulos por el valos calculado en .fillna)\n",
    "df_limpieza['sex'] = df_limpieza['sex'].fillna(df_limpieza['sex'].mode()[0])\n",
    "df_limpieza['hindfoot_length'] = df_limpieza['hindfoot_length'].fillna(df_limpieza['hindfoot_length'].mean())\n",
    "df_limpieza['weight'] = df_limpieza['weight'].fillna(df_limpieza['weight'].median())"
   ]
  },
  {
   "cell_type": "code",
   "execution_count": 56,
   "id": "0323b023",
   "metadata": {},
   "outputs": [],
   "source": [
    "df_limpieza.fillna({'sex': df_limpieza['sex'].mode()[0]}, inplace=True)\n",
    "df_limpieza.fillna({'hindfoot_length':df_limpieza['hindfoot_length'].mean()}, inplace=True)\n",
    "df_limpieza.fillna({'weight':df_limpieza['weight'].median()}, inplace=True)"
   ]
  },
  {
   "cell_type": "code",
   "execution_count": 57,
   "id": "c99a253a",
   "metadata": {},
   "outputs": [
    {
     "data": {
      "application/vnd.microsoft.datawrangler.viewer.v0+json": {
       "columns": [
        {
         "name": "index",
         "rawType": "object",
         "type": "string"
        },
        {
         "name": "0",
         "rawType": "int64",
         "type": "integer"
        }
       ],
       "ref": "9c8dc2ea-288c-4262-83b2-02c3e248ceaa",
       "rows": [
        [
         "month",
         "0"
        ],
        [
         "day",
         "0"
        ],
        [
         "year",
         "0"
        ],
        [
         "plot_id",
         "0"
        ],
        [
         "species_id",
         "0"
        ],
        [
         "sex",
         "0"
        ],
        [
         "hindfoot_length",
         "0"
        ],
        [
         "weight",
         "0"
        ]
       ],
       "shape": {
        "columns": 1,
        "rows": 8
       }
      },
      "text/plain": [
       "month              0\n",
       "day                0\n",
       "year               0\n",
       "plot_id            0\n",
       "species_id         0\n",
       "sex                0\n",
       "hindfoot_length    0\n",
       "weight             0\n",
       "dtype: int64"
      ]
     },
     "execution_count": 57,
     "metadata": {},
     "output_type": "execute_result"
    }
   ],
   "source": [
    "df_limpieza.isnull().sum()"
   ]
  },
  {
   "cell_type": "code",
   "execution_count": 21,
   "id": "2a44714b",
   "metadata": {},
   "outputs": [
    {
     "data": {
      "application/vnd.microsoft.datawrangler.viewer.v0+json": {
       "columns": [
        {
         "name": "index",
         "rawType": "int64",
         "type": "integer"
        },
        {
         "name": "month",
         "rawType": "int64",
         "type": "integer"
        },
        {
         "name": "day",
         "rawType": "int64",
         "type": "integer"
        },
        {
         "name": "year",
         "rawType": "int64",
         "type": "integer"
        },
        {
         "name": "plot_id",
         "rawType": "int64",
         "type": "integer"
        },
        {
         "name": "species_id",
         "rawType": "object",
         "type": "string"
        },
        {
         "name": "sex",
         "rawType": "object",
         "type": "string"
        },
        {
         "name": "hindfoot_length",
         "rawType": "float64",
         "type": "float"
        },
        {
         "name": "weight",
         "rawType": "float64",
         "type": "float"
        }
       ],
       "ref": "faac496c-627e-426c-8a5b-b08961029d74",
       "rows": [
        [
         "14",
         "8",
         "19",
         "1977",
         "4",
         "SS",
         "F",
         "34.63414634146341",
         "41.0"
        ],
        [
         "72",
         "12",
         "11",
         "1977",
         "11",
         "OT",
         "F",
         "34.63414634146341",
         "41.0"
        ],
        [
         "21",
         "8",
         "20",
         "1977",
         "19",
         "DM",
         "F",
         "35.0",
         "43.0"
        ],
        [
         "50",
         "8",
         "20",
         "1977",
         "5",
         "PF",
         "F",
         "13.0",
         "8.0"
        ],
        [
         "57",
         "12",
         "11",
         "1977",
         "8",
         "PF",
         "F",
         "15.0",
         "6.0"
        ],
        [
         "89",
         "1",
         "12",
         "1983",
         "11",
         "DM",
         "M",
         "36.0",
         "43.0"
        ],
        [
         "81",
         "12",
         "11",
         "1977",
         "3",
         "PF",
         "M",
         "16.0",
         "7.0"
        ],
        [
         "3",
         "8",
         "19",
         "1977",
         "4",
         "DM",
         "F",
         "35.0",
         "46.0"
        ],
        [
         "36",
         "8",
         "20",
         "1977",
         "11",
         "DM",
         "M",
         "37.0",
         "45.0"
        ],
        [
         "26",
         "8",
         "20",
         "1977",
         "12",
         "PP",
         "F",
         "20.0",
         "15.0"
        ]
       ],
       "shape": {
        "columns": 8,
        "rows": 10
       }
      },
      "text/html": [
       "<div>\n",
       "<style scoped>\n",
       "    .dataframe tbody tr th:only-of-type {\n",
       "        vertical-align: middle;\n",
       "    }\n",
       "\n",
       "    .dataframe tbody tr th {\n",
       "        vertical-align: top;\n",
       "    }\n",
       "\n",
       "    .dataframe thead th {\n",
       "        text-align: right;\n",
       "    }\n",
       "</style>\n",
       "<table border=\"1\" class=\"dataframe\">\n",
       "  <thead>\n",
       "    <tr style=\"text-align: right;\">\n",
       "      <th></th>\n",
       "      <th>month</th>\n",
       "      <th>day</th>\n",
       "      <th>year</th>\n",
       "      <th>plot_id</th>\n",
       "      <th>species_id</th>\n",
       "      <th>sex</th>\n",
       "      <th>hindfoot_length</th>\n",
       "      <th>weight</th>\n",
       "    </tr>\n",
       "  </thead>\n",
       "  <tbody>\n",
       "    <tr>\n",
       "      <th>14</th>\n",
       "      <td>8</td>\n",
       "      <td>19</td>\n",
       "      <td>1977</td>\n",
       "      <td>4</td>\n",
       "      <td>SS</td>\n",
       "      <td>F</td>\n",
       "      <td>34.634146</td>\n",
       "      <td>41.0</td>\n",
       "    </tr>\n",
       "    <tr>\n",
       "      <th>72</th>\n",
       "      <td>12</td>\n",
       "      <td>11</td>\n",
       "      <td>1977</td>\n",
       "      <td>11</td>\n",
       "      <td>OT</td>\n",
       "      <td>F</td>\n",
       "      <td>34.634146</td>\n",
       "      <td>41.0</td>\n",
       "    </tr>\n",
       "    <tr>\n",
       "      <th>21</th>\n",
       "      <td>8</td>\n",
       "      <td>20</td>\n",
       "      <td>1977</td>\n",
       "      <td>19</td>\n",
       "      <td>DM</td>\n",
       "      <td>F</td>\n",
       "      <td>35.000000</td>\n",
       "      <td>43.0</td>\n",
       "    </tr>\n",
       "    <tr>\n",
       "      <th>50</th>\n",
       "      <td>8</td>\n",
       "      <td>20</td>\n",
       "      <td>1977</td>\n",
       "      <td>5</td>\n",
       "      <td>PF</td>\n",
       "      <td>F</td>\n",
       "      <td>13.000000</td>\n",
       "      <td>8.0</td>\n",
       "    </tr>\n",
       "    <tr>\n",
       "      <th>57</th>\n",
       "      <td>12</td>\n",
       "      <td>11</td>\n",
       "      <td>1977</td>\n",
       "      <td>8</td>\n",
       "      <td>PF</td>\n",
       "      <td>F</td>\n",
       "      <td>15.000000</td>\n",
       "      <td>6.0</td>\n",
       "    </tr>\n",
       "    <tr>\n",
       "      <th>89</th>\n",
       "      <td>1</td>\n",
       "      <td>12</td>\n",
       "      <td>1983</td>\n",
       "      <td>11</td>\n",
       "      <td>DM</td>\n",
       "      <td>M</td>\n",
       "      <td>36.000000</td>\n",
       "      <td>43.0</td>\n",
       "    </tr>\n",
       "    <tr>\n",
       "      <th>81</th>\n",
       "      <td>12</td>\n",
       "      <td>11</td>\n",
       "      <td>1977</td>\n",
       "      <td>3</td>\n",
       "      <td>PF</td>\n",
       "      <td>M</td>\n",
       "      <td>16.000000</td>\n",
       "      <td>7.0</td>\n",
       "    </tr>\n",
       "    <tr>\n",
       "      <th>3</th>\n",
       "      <td>8</td>\n",
       "      <td>19</td>\n",
       "      <td>1977</td>\n",
       "      <td>4</td>\n",
       "      <td>DM</td>\n",
       "      <td>F</td>\n",
       "      <td>35.000000</td>\n",
       "      <td>46.0</td>\n",
       "    </tr>\n",
       "    <tr>\n",
       "      <th>36</th>\n",
       "      <td>8</td>\n",
       "      <td>20</td>\n",
       "      <td>1977</td>\n",
       "      <td>11</td>\n",
       "      <td>DM</td>\n",
       "      <td>M</td>\n",
       "      <td>37.000000</td>\n",
       "      <td>45.0</td>\n",
       "    </tr>\n",
       "    <tr>\n",
       "      <th>26</th>\n",
       "      <td>8</td>\n",
       "      <td>20</td>\n",
       "      <td>1977</td>\n",
       "      <td>12</td>\n",
       "      <td>PP</td>\n",
       "      <td>F</td>\n",
       "      <td>20.000000</td>\n",
       "      <td>15.0</td>\n",
       "    </tr>\n",
       "  </tbody>\n",
       "</table>\n",
       "</div>"
      ],
      "text/plain": [
       "    month  day  year  plot_id species_id sex  hindfoot_length  weight\n",
       "14      8   19  1977        4         SS   F        34.634146    41.0\n",
       "72     12   11  1977       11         OT   F        34.634146    41.0\n",
       "21      8   20  1977       19         DM   F        35.000000    43.0\n",
       "50      8   20  1977        5         PF   F        13.000000     8.0\n",
       "57     12   11  1977        8         PF   F        15.000000     6.0\n",
       "89      1   12  1983       11         DM   M        36.000000    43.0\n",
       "81     12   11  1977        3         PF   M        16.000000     7.0\n",
       "3       8   19  1977        4         DM   F        35.000000    46.0\n",
       "36      8   20  1977       11         DM   M        37.000000    45.0\n",
       "26      8   20  1977       12         PP   F        20.000000    15.0"
      ]
     },
     "execution_count": 21,
     "metadata": {},
     "output_type": "execute_result"
    }
   ],
   "source": [
    "df_limpieza.sample(10)"
   ]
  },
  {
   "cell_type": "code",
   "execution_count": null,
   "id": "5ad53a5c",
   "metadata": {},
   "outputs": [],
   "source": []
  }
 ],
 "metadata": {
  "kernelspec": {
   "display_name": "Python 3",
   "language": "python",
   "name": "python3"
  },
  "language_info": {
   "codemirror_mode": {
    "name": "ipython",
    "version": 3
   },
   "file_extension": ".py",
   "mimetype": "text/x-python",
   "name": "python",
   "nbconvert_exporter": "python",
   "pygments_lexer": "ipython3",
   "version": "3.13.7"
  }
 },
 "nbformat": 4,
 "nbformat_minor": 5
}
